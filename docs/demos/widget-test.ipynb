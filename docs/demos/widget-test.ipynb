{
 "cells": [
  {
   "cell_type": "markdown",
   "metadata": {},
   "source": [
    "# Widget Visualization Test Notebook\n",
    "\n",
    "This notebook tests the Phase 0 and Phase 1 widget implementation for visualizing structured prompts.\n",
    "\n",
    "Expected behavior:\n",
    "- First widget should include JavaScript bundle and KaTeX CSS (larger HTML output)\n",
    "- Subsequent widgets should only include widget markup (smaller HTML output)\n",
    "- Each widget should display three panes: Structure, Code View, and Preview"
   ]
  },
  {
   "cell_type": "code",
   "execution_count": 8,
   "metadata": {},
   "outputs": [],
   "source": [
    "from t_prompts import prompt, dedent"
   ]
  },
  {
   "cell_type": "markdown",
   "metadata": {},
   "source": [
    "## Test 1: Simple Prompt\n",
    "\n",
    "This should display the first widget with full bundle injection."
   ]
  },
  {
   "cell_type": "code",
   "execution_count": 9,
   "metadata": {},
   "outputs": [
    {
     "data": {
      "text/html": [
       "\n",
       "<div class=\"tp-widget-root\" data-tp-widget>\n",
       "    <script data-role=\"tp-widget-data\" type=\"application/json\">{\"prompt_id\": \"4d14791c-c41c-412d-8147-9f371da1287e\", \"children\": [{\"type\": \"static\", \"id\": \"cacf6c77-6bb7-4a4b-b2b0-73b7098262ed\", \"parent_id\": \"4d14791c-c41c-412d-8147-9f371da1287e\", \"key\": 0, \"index\": 0, \"source_location\": {\"filename\": \"1454936852.py\", \"filepath\": \"/private/var/folders/wr/5n6v6bvj6mxdxjcg5_5ss1ph0000gn/T/ipykernel_37744/1454936852.py\", \"line\": 2}, \"value\": \"Task: \"}, {\"type\": \"interpolation\", \"id\": \"bb83a8ba-f3b0-4a3a-8792-19aa3d675cf6\", \"parent_id\": \"4d14791c-c41c-412d-8147-9f371da1287e\", \"key\": \"t\", \"index\": 1, \"source_location\": {\"filename\": \"1454936852.py\", \"filepath\": \"/private/var/folders/wr/5n6v6bvj6mxdxjcg5_5ss1ph0000gn/T/ipykernel_37744/1454936852.py\", \"line\": 2}, \"expression\": \"task\", \"conversion\": null, \"format_spec\": \"t\", \"render_hints\": \"\", \"value\": \"translate this to French\"}, {\"type\": \"static\", \"id\": \"691aa538-8862-4c26-a18c-ffc12171dfec\", \"parent_id\": \"4d14791c-c41c-412d-8147-9f371da1287e\", \"key\": 1, \"index\": 2, \"source_location\": {\"filename\": \"1454936852.py\", \"filepath\": \"/private/var/folders/wr/5n6v6bvj6mxdxjcg5_5ss1ph0000gn/T/ipykernel_37744/1454936852.py\", \"line\": 2}, \"value\": \"\"}]}</script>\n",
       "    <div class=\"tp-widget-mount\"></div>\n",
       "</div>\n"
      ],
      "text/plain": [
       "StructuredPrompt(keys=['t'], num_interpolations=1)"
      ]
     },
     "execution_count": 9,
     "metadata": {},
     "output_type": "execute_result"
    }
   ],
   "source": [
    "task = \"translate this to French\"\n",
    "p1 = prompt(t\"Task: {task:t}\")\n",
    "p1"
   ]
  },
  {
   "cell_type": "markdown",
   "metadata": {},
   "source": [
    "## Test 2: Second Simple Prompt\n",
    "\n",
    "This should display without re-injecting the bundle (singleton pattern)."
   ]
  },
  {
   "cell_type": "code",
   "execution_count": 10,
   "metadata": {},
   "outputs": [
    {
     "data": {
      "text/html": [
       "\n",
       "<div class=\"tp-widget-root\" data-tp-widget>\n",
       "    <script data-role=\"tp-widget-data\" type=\"application/json\">{\"prompt_id\": \"54c3cb14-5963-485d-9eaa-5469b6abbcda\", \"children\": [{\"type\": \"static\", \"id\": \"89d395b3-0478-4dd9-8ae8-c8fcbb18ee19\", \"parent_id\": \"54c3cb14-5963-485d-9eaa-5469b6abbcda\", \"key\": 0, \"index\": 0, \"source_location\": {\"filename\": \"2896837000.py\", \"filepath\": \"/private/var/folders/wr/5n6v6bvj6mxdxjcg5_5ss1ph0000gn/T/ipykernel_37744/2896837000.py\", \"line\": 2}, \"value\": \"Instructions: \"}, {\"type\": \"interpolation\", \"id\": \"71b18cd3-eb9b-4e31-bb40-9d7ac6fcdd48\", \"parent_id\": \"54c3cb14-5963-485d-9eaa-5469b6abbcda\", \"key\": \"i\", \"index\": 1, \"source_location\": {\"filename\": \"2896837000.py\", \"filepath\": \"/private/var/folders/wr/5n6v6bvj6mxdxjcg5_5ss1ph0000gn/T/ipykernel_37744/2896837000.py\", \"line\": 2}, \"expression\": \"instruction\", \"conversion\": null, \"format_spec\": \"i\", \"render_hints\": \"\", \"value\": \"Be concise and accurate\"}, {\"type\": \"static\", \"id\": \"ecc7863c-a30e-4cb0-b310-7587c8708246\", \"parent_id\": \"54c3cb14-5963-485d-9eaa-5469b6abbcda\", \"key\": 1, \"index\": 2, \"source_location\": {\"filename\": \"2896837000.py\", \"filepath\": \"/private/var/folders/wr/5n6v6bvj6mxdxjcg5_5ss1ph0000gn/T/ipykernel_37744/2896837000.py\", \"line\": 2}, \"value\": \"\"}]}</script>\n",
       "    <div class=\"tp-widget-mount\"></div>\n",
       "</div>\n"
      ],
      "text/plain": [
       "StructuredPrompt(keys=['i'], num_interpolations=1)"
      ]
     },
     "execution_count": 10,
     "metadata": {},
     "output_type": "execute_result"
    }
   ],
   "source": [
    "instruction = \"Be concise and accurate\"\n",
    "p2 = prompt(t\"Instructions: {instruction:i}\")\n",
    "p2"
   ]
  },
  {
   "cell_type": "markdown",
   "metadata": {},
   "source": [
    "## Test 3: Nested Prompt\n",
    "\n",
    "Test visualization of nested prompt structures."
   ]
  },
  {
   "cell_type": "code",
   "execution_count": 5,
   "metadata": {},
   "outputs": [
    {
     "data": {
      "text/html": [
       "\n",
       "<div class=\"tp-widget-root\" data-tp-widget>\n",
       "    <script data-role=\"tp-widget-data\" type=\"application/json\">{\"prompt_id\": \"1f6e1691-b71f-40fb-9987-261a85766e96\", \"children\": [{\"type\": \"static\", \"id\": \"0a5ff281-d429-47d9-a6a5-4f61240d21d5\", \"parent_id\": \"1f6e1691-b71f-40fb-9987-261a85766e96\", \"key\": 0, \"index\": 0, \"source_location\": {\"filename\": \"2976201904.py\", \"filepath\": \"/private/var/folders/wr/5n6v6bvj6mxdxjcg5_5ss1ph0000gn/T/ipykernel_37744/2976201904.py\", \"line\": 3}, \"value\": \"System: \"}, {\"type\": \"nested_prompt\", \"id\": \"37bc46e6-b019-48aa-82e5-7c3ddd761288\", \"parent_id\": \"1f6e1691-b71f-40fb-9987-261a85766e96\", \"key\": \"sys\", \"index\": 1, \"source_location\": {\"filename\": \"2976201904.py\", \"filepath\": \"/private/var/folders/wr/5n6v6bvj6mxdxjcg5_5ss1ph0000gn/T/ipykernel_37744/2976201904.py\", \"line\": 3}, \"expression\": \"system_msg\", \"conversion\": null, \"format_spec\": \"sys\", \"render_hints\": \"\", \"prompt_id\": \"619eb28c-59da-40cd-8996-28025028f8b1\", \"children\": [{\"type\": \"static\", \"id\": \"c7d4a9a9-c124-47e5-bfbe-05f4cf03e920\", \"parent_id\": \"37bc46e6-b019-48aa-82e5-7c3ddd761288\", \"key\": 0, \"index\": 0, \"source_location\": {\"filename\": \"2976201904.py\", \"filepath\": \"/private/var/folders/wr/5n6v6bvj6mxdxjcg5_5ss1ph0000gn/T/ipykernel_37744/2976201904.py\", \"line\": 1}, \"value\": \"You are a helpful AI assistant.\"}]}, {\"type\": \"static\", \"id\": \"9355d06f-37da-4456-b497-6b04cd86ebaa\", \"parent_id\": \"1f6e1691-b71f-40fb-9987-261a85766e96\", \"key\": 1, \"index\": 2, \"source_location\": {\"filename\": \"2976201904.py\", \"filepath\": \"/private/var/folders/wr/5n6v6bvj6mxdxjcg5_5ss1ph0000gn/T/ipykernel_37744/2976201904.py\", \"line\": 3}, \"value\": \"\\nUser: \"}, {\"type\": \"interpolation\", \"id\": \"b8cff66c-a166-43bc-bd10-f7adf9751317\", \"parent_id\": \"1f6e1691-b71f-40fb-9987-261a85766e96\", \"key\": \"usr\", \"index\": 3, \"source_location\": {\"filename\": \"2976201904.py\", \"filepath\": \"/private/var/folders/wr/5n6v6bvj6mxdxjcg5_5ss1ph0000gn/T/ipykernel_37744/2976201904.py\", \"line\": 3}, \"expression\": \"user_msg\", \"conversion\": null, \"format_spec\": \"usr\", \"render_hints\": \"\", \"value\": \"What is the capital of France?\"}, {\"type\": \"static\", \"id\": \"5d931784-dc8c-41d2-b84c-dadb84aed750\", \"parent_id\": \"1f6e1691-b71f-40fb-9987-261a85766e96\", \"key\": 2, \"index\": 4, \"source_location\": {\"filename\": \"2976201904.py\", \"filepath\": \"/private/var/folders/wr/5n6v6bvj6mxdxjcg5_5ss1ph0000gn/T/ipykernel_37744/2976201904.py\", \"line\": 3}, \"value\": \"\"}]}</script>\n",
       "    <div class=\"tp-widget-mount\"></div>\n",
       "</div>\n"
      ],
      "text/plain": [
       "StructuredPrompt(keys=['sys', 'usr'], num_interpolations=2)"
      ]
     },
     "execution_count": 5,
     "metadata": {},
     "output_type": "execute_result"
    }
   ],
   "source": [
    "system_msg = prompt(t\"You are a helpful AI assistant.\")\n",
    "user_msg = \"What is the capital of France?\"\n",
    "conversation = prompt(t\"System: {system_msg:sys}\\nUser: {user_msg:usr}\")\n",
    "conversation"
   ]
  },
  {
   "cell_type": "markdown",
   "metadata": {},
   "source": [
    "## Test 4: Multi-line Prompt with Dedenting"
   ]
  },
  {
   "cell_type": "code",
   "execution_count": 6,
   "metadata": {},
   "outputs": [
    {
     "data": {
      "text/html": [
       "\n",
       "<div class=\"tp-widget-root\" data-tp-widget>\n",
       "    <script data-role=\"tp-widget-data\" type=\"application/json\">{\"prompt_id\": \"aeb456ed-ee1c-422b-992e-63ba4ce940a6\", \"children\": [{\"type\": \"static\", \"id\": \"7312ab86-c023-4d3f-ac23-00de4cc17cbd\", \"parent_id\": \"aeb456ed-ee1c-422b-992e-63ba4ce940a6\", \"key\": 0, \"index\": 0, \"source_location\": {\"filename\": \"2322225676.py\", \"filepath\": \"/private/var/folders/wr/5n6v6bvj6mxdxjcg5_5ss1ph0000gn/T/ipykernel_37744/2322225676.py\", \"line\": 3}, \"value\": \"You are an expert writer.\\n\\nTask: \"}, {\"type\": \"interpolation\", \"id\": \"9708c388-c58f-46f1-ae9d-b43c8853fb76\", \"parent_id\": \"aeb456ed-ee1c-422b-992e-63ba4ce940a6\", \"key\": \"t\", \"index\": 1, \"source_location\": {\"filename\": \"2322225676.py\", \"filepath\": \"/private/var/folders/wr/5n6v6bvj6mxdxjcg5_5ss1ph0000gn/T/ipykernel_37744/2322225676.py\", \"line\": 3}, \"expression\": \"task\", \"conversion\": null, \"format_spec\": \"t\", \"render_hints\": \"\", \"value\": \"summarize\"}, {\"type\": \"static\", \"id\": \"1e083952-8c5a-48ce-aec0-a8d84b82bbdc\", \"parent_id\": \"aeb456ed-ee1c-422b-992e-63ba4ce940a6\", \"key\": 1, \"index\": 2, \"source_location\": {\"filename\": \"2322225676.py\", \"filepath\": \"/private/var/folders/wr/5n6v6bvj6mxdxjcg5_5ss1ph0000gn/T/ipykernel_37744/2322225676.py\", \"line\": 3}, \"value\": \"\\nTopic: \"}, {\"type\": \"interpolation\", \"id\": \"bcc46242-01d3-4efd-8c54-c229eac4fd55\", \"parent_id\": \"aeb456ed-ee1c-422b-992e-63ba4ce940a6\", \"key\": \"top\", \"index\": 3, \"source_location\": {\"filename\": \"2322225676.py\", \"filepath\": \"/private/var/folders/wr/5n6v6bvj6mxdxjcg5_5ss1ph0000gn/T/ipykernel_37744/2322225676.py\", \"line\": 3}, \"expression\": \"topic\", \"conversion\": null, \"format_spec\": \"top\", \"render_hints\": \"\", \"value\": \"climate change\"}, {\"type\": \"static\", \"id\": \"85becbe2-6bf4-47f4-8bb4-af1db812b180\", \"parent_id\": \"aeb456ed-ee1c-422b-992e-63ba4ce940a6\", \"key\": 2, \"index\": 4, \"source_location\": {\"filename\": \"2322225676.py\", \"filepath\": \"/private/var/folders/wr/5n6v6bvj6mxdxjcg5_5ss1ph0000gn/T/ipykernel_37744/2322225676.py\", \"line\": 3}, \"value\": \"\\n\\nPlease provide a detailed response.\"}]}</script>\n",
       "    <div class=\"tp-widget-mount\"></div>\n",
       "</div>\n"
      ],
      "text/plain": [
       "StructuredPrompt(keys=['t', 'top'], num_interpolations=2)"
      ]
     },
     "execution_count": 6,
     "metadata": {},
     "output_type": "execute_result"
    }
   ],
   "source": [
    "task = \"summarize\"\n",
    "topic = \"climate change\"\n",
    "p4 = dedent(t\"\"\"\n",
    "    You are an expert writer.\n",
    "    \n",
    "    Task: {task:t}\n",
    "    Topic: {topic:top}\n",
    "    \n",
    "    Please provide a detailed response.\n",
    "\"\"\")\n",
    "p4"
   ]
  },
  {
   "cell_type": "markdown",
   "metadata": {},
   "source": [
    "## Test 5: List Interpolation\n",
    "\n",
    "Test visualization of list structures with separators."
   ]
  },
  {
   "cell_type": "code",
   "execution_count": 7,
   "metadata": {},
   "outputs": [
    {
     "data": {
      "text/html": [
       "\n",
       "<div class=\"tp-widget-root\" data-tp-widget>\n",
       "    <script data-role=\"tp-widget-data\" type=\"application/json\">{\"prompt_id\": \"cf6fdf07-60b0-4e2e-ad69-57beef9ac594\", \"children\": [{\"type\": \"static\", \"id\": \"6ebcce97-0550-4c9f-b751-77305f73661e\", \"parent_id\": \"cf6fdf07-60b0-4e2e-ad69-57beef9ac594\", \"key\": 0, \"index\": 0, \"source_location\": {\"filename\": \"2775358481.py\", \"filepath\": \"/private/var/folders/wr/5n6v6bvj6mxdxjcg5_5ss1ph0000gn/T/ipykernel_37744/2775358481.py\", \"line\": 6}, \"value\": \"Here are some examples:\\n\"}, {\"type\": \"list\", \"id\": \"446783cd-498f-432b-94f9-4a7f368317f8\", \"parent_id\": \"cf6fdf07-60b0-4e2e-ad69-57beef9ac594\", \"key\": \"ex\", \"index\": 1, \"source_location\": {\"filename\": \"2775358481.py\", \"filepath\": \"/private/var/folders/wr/5n6v6bvj6mxdxjcg5_5ss1ph0000gn/T/ipykernel_37744/2775358481.py\", \"line\": 6}, \"expression\": \"examples\", \"conversion\": null, \"format_spec\": \"ex:sep=\\\\n\\\\n\", \"render_hints\": \"sep=\\\\n\\\\n\", \"separator\": \"\\\\n\\\\n\", \"children\": [{\"prompt_id\": \"64aadc7c-7d06-4e70-a3a2-fc5f4b31528f\", \"children\": [{\"type\": \"static\", \"id\": \"72406d9c-5025-4b15-b842-71d5ae57b453\", \"parent_id\": \"446783cd-498f-432b-94f9-4a7f368317f8\", \"key\": 0, \"index\": 0, \"source_location\": {\"filename\": \"2775358481.py\", \"filepath\": \"/private/var/folders/wr/5n6v6bvj6mxdxjcg5_5ss1ph0000gn/T/ipykernel_37744/2775358481.py\", \"line\": 2}, \"value\": \"Example 1: Simple addition\"}]}, {\"prompt_id\": \"e0945251-07ed-4468-af14-a6b165d6a89a\", \"children\": [{\"type\": \"static\", \"id\": \"e13dbebd-2a4d-4e0f-86a6-be3c011b10fe\", \"parent_id\": \"446783cd-498f-432b-94f9-4a7f368317f8\", \"key\": 0, \"index\": 0, \"source_location\": {\"filename\": \"2775358481.py\", \"filepath\": \"/private/var/folders/wr/5n6v6bvj6mxdxjcg5_5ss1ph0000gn/T/ipykernel_37744/2775358481.py\", \"line\": 3}, \"value\": \"Example 2: Complex multiplication\"}]}, {\"prompt_id\": \"8386064a-da17-4b42-a283-0afce3b87b63\", \"children\": [{\"type\": \"static\", \"id\": \"91be7bcb-5fe8-4065-8ac4-761429da46de\", \"parent_id\": \"446783cd-498f-432b-94f9-4a7f368317f8\", \"key\": 0, \"index\": 0, \"source_location\": {\"filename\": \"2775358481.py\", \"filepath\": \"/private/var/folders/wr/5n6v6bvj6mxdxjcg5_5ss1ph0000gn/T/ipykernel_37744/2775358481.py\", \"line\": 4}, \"value\": \"Example 3: Division with remainder\"}]}]}, {\"type\": \"static\", \"id\": \"285a6fcc-abd5-4b3e-972e-2e9b516e08ce\", \"parent_id\": \"cf6fdf07-60b0-4e2e-ad69-57beef9ac594\", \"key\": 1, \"index\": 2, \"source_location\": {\"filename\": \"2775358481.py\", \"filepath\": \"/private/var/folders/wr/5n6v6bvj6mxdxjcg5_5ss1ph0000gn/T/ipykernel_37744/2775358481.py\", \"line\": 6}, \"value\": \"\"}]}</script>\n",
       "    <div class=\"tp-widget-mount\"></div>\n",
       "</div>\n"
      ],
      "text/plain": [
       "StructuredPrompt(keys=['ex'], num_interpolations=1)"
      ]
     },
     "execution_count": 7,
     "metadata": {},
     "output_type": "execute_result"
    }
   ],
   "source": [
    "examples = [\n",
    "    prompt(t\"Example 1: Simple addition\"),\n",
    "    prompt(t\"Example 2: Complex multiplication\"),\n",
    "    prompt(t\"Example 3: Division with remainder\")\n",
    "]\n",
    "p5 = prompt(t\"Here are some examples:\\n{examples:ex:sep=\\\\n\\\\n}\")\n",
    "p5"
   ]
  },
  {
   "cell_type": "markdown",
   "metadata": {},
   "source": [
    "## Test 6: Render Hints - XML Wrapper"
   ]
  },
  {
   "cell_type": "code",
   "execution_count": 6,
   "metadata": {},
   "outputs": [
    {
     "data": {
      "text/html": [
       "\n",
       "<div class=\"tp-widget-root\" data-tp-widget>\n",
       "    <script data-role=\"tp-widget-data\" type=\"application/json\">{\"prompt_id\": \"87a136fd-9944-495f-9fe5-1f316dfc208a\", \"children\": [{\"type\": \"static\", \"id\": \"80c4038c-88fe-4d08-b917-725c13cbc3db\", \"parent_id\": \"87a136fd-9944-495f-9fe5-1f316dfc208a\", \"key\": 0, \"index\": 0, \"source_location\": {\"filename\": \"2758016026.py\", \"filepath\": \"/private/var/folders/wr/5n6v6bvj6mxdxjcg5_5ss1ph0000gn/T/ipykernel_30324/2758016026.py\", \"line\": 2}, \"value\": \"Content: \"}, {\"type\": \"interpolation\", \"id\": \"580a6196-7066-415b-970d-008afbf3a5f4\", \"parent_id\": \"87a136fd-9944-495f-9fe5-1f316dfc208a\", \"key\": \"c\", \"index\": 1, \"source_location\": {\"filename\": \"2758016026.py\", \"filepath\": \"/private/var/folders/wr/5n6v6bvj6mxdxjcg5_5ss1ph0000gn/T/ipykernel_30324/2758016026.py\", \"line\": 2}, \"expression\": \"content\", \"conversion\": null, \"format_spec\": \"c:xml=document\", \"render_hints\": \"xml=document\", \"value\": \"This content will be wrapped in XML tags.\"}, {\"type\": \"static\", \"id\": \"705d0755-b341-41ec-aa6f-96442f62961e\", \"parent_id\": \"87a136fd-9944-495f-9fe5-1f316dfc208a\", \"key\": 1, \"index\": 2, \"source_location\": {\"filename\": \"2758016026.py\", \"filepath\": \"/private/var/folders/wr/5n6v6bvj6mxdxjcg5_5ss1ph0000gn/T/ipykernel_30324/2758016026.py\", \"line\": 2}, \"value\": \"\"}]}</script>\n",
       "    <div class=\"tp-widget-mount\"></div>\n",
       "</div>\n"
      ],
      "text/plain": [
       "StructuredPrompt(keys=['c'], num_interpolations=1)"
      ]
     },
     "execution_count": 6,
     "metadata": {},
     "output_type": "execute_result"
    }
   ],
   "source": [
    "content = \"This content will be wrapped in XML tags.\"\n",
    "p6 = prompt(t\"Content: {content:c:xml=document}\")\n",
    "p6"
   ]
  },
  {
   "cell_type": "markdown",
   "metadata": {},
   "source": [
    "## Test 7: Render Hints - Markdown Header"
   ]
  },
  {
   "cell_type": "code",
   "execution_count": 7,
   "metadata": {},
   "outputs": [
    {
     "data": {
      "text/html": [
       "\n",
       "<div class=\"tp-widget-root\" data-tp-widget>\n",
       "    <script data-role=\"tp-widget-data\" type=\"application/json\">{\"prompt_id\": \"54e42859-2769-471f-a5b7-141d07671be7\", \"children\": [{\"type\": \"static\", \"id\": \"814ea49b-23e7-4bd3-85ff-424cc9978bd1\", \"parent_id\": \"54e42859-2769-471f-a5b7-141d07671be7\", \"key\": 0, \"index\": 0, \"source_location\": {\"filename\": \"4151747897.py\", \"filepath\": \"/private/var/folders/wr/5n6v6bvj6mxdxjcg5_5ss1ph0000gn/T/ipykernel_30324/4151747897.py\", \"line\": 2}, \"value\": \"\"}, {\"type\": \"interpolation\", \"id\": \"ac2916f9-ee9f-47e4-b595-08c45f3ee68f\", \"parent_id\": \"54e42859-2769-471f-a5b7-141d07671be7\", \"key\": \"s\", \"index\": 1, \"source_location\": {\"filename\": \"4151747897.py\", \"filepath\": \"/private/var/folders/wr/5n6v6bvj6mxdxjcg5_5ss1ph0000gn/T/ipykernel_30324/4151747897.py\", \"line\": 2}, \"expression\": \"section\", \"conversion\": null, \"format_spec\": \"s:header=Introduction\", \"render_hints\": \"header=Introduction\", \"value\": \"This is the introduction section.\"}, {\"type\": \"static\", \"id\": \"a76293f0-a980-4106-9254-01d1af46daf7\", \"parent_id\": \"54e42859-2769-471f-a5b7-141d07671be7\", \"key\": 1, \"index\": 2, \"source_location\": {\"filename\": \"4151747897.py\", \"filepath\": \"/private/var/folders/wr/5n6v6bvj6mxdxjcg5_5ss1ph0000gn/T/ipykernel_30324/4151747897.py\", \"line\": 2}, \"value\": \"\"}]}</script>\n",
       "    <div class=\"tp-widget-mount\"></div>\n",
       "</div>\n"
      ],
      "text/plain": [
       "StructuredPrompt(keys=['s'], num_interpolations=1)"
      ]
     },
     "execution_count": 7,
     "metadata": {},
     "output_type": "execute_result"
    }
   ],
   "source": [
    "section = \"This is the introduction section.\"\n",
    "p7 = prompt(t\"{section:s:header=Introduction}\")\n",
    "p7"
   ]
  },
  {
   "cell_type": "markdown",
   "metadata": {},
   "source": [
    "## Test 8: IntermediateRepresentation\n",
    "\n",
    "Test visualization of rendered output with source mapping."
   ]
  },
  {
   "cell_type": "code",
   "execution_count": 8,
   "metadata": {},
   "outputs": [
    {
     "data": {
      "text/html": [
       "\n",
       "<div class=\"tp-widget-root\" data-tp-widget>\n",
       "    <script data-role=\"tp-widget-data\" type=\"application/json\">{\"ir_id\": \"029a4f53-fcb5-4442-bcf4-c4ea8c2c438a\", \"source_prompt\": {\"prompt_id\": \"4d9357a2-3697-4064-a7d5-664b0187d8df\", \"children\": [{\"type\": \"static\", \"id\": \"4b5cacb0-c569-4796-bb60-9f67984ae34a\", \"parent_id\": \"4d9357a2-3697-4064-a7d5-664b0187d8df\", \"key\": 0, \"index\": 0, \"source_location\": {\"filename\": \"3431366908.py\", \"filepath\": \"/private/var/folders/wr/5n6v6bvj6mxdxjcg5_5ss1ph0000gn/T/ipykernel_30324/3431366908.py\", \"line\": 3}, \"value\": \"Name: \"}, {\"type\": \"interpolation\", \"id\": \"63b18ed0-b371-42c2-8699-e1d1ed375611\", \"parent_id\": \"4d9357a2-3697-4064-a7d5-664b0187d8df\", \"key\": \"n\", \"index\": 1, \"source_location\": {\"filename\": \"3431366908.py\", \"filepath\": \"/private/var/folders/wr/5n6v6bvj6mxdxjcg5_5ss1ph0000gn/T/ipykernel_30324/3431366908.py\", \"line\": 3}, \"expression\": \"name\", \"conversion\": null, \"format_spec\": \"n\", \"render_hints\": \"\", \"value\": \"Alice\"}, {\"type\": \"static\", \"id\": \"176052dd-c764-46ee-bef2-c2e7742bc7fc\", \"parent_id\": \"4d9357a2-3697-4064-a7d5-664b0187d8df\", \"key\": 1, \"index\": 2, \"source_location\": {\"filename\": \"3431366908.py\", \"filepath\": \"/private/var/folders/wr/5n6v6bvj6mxdxjcg5_5ss1ph0000gn/T/ipykernel_30324/3431366908.py\", \"line\": 3}, \"value\": \", Age: \"}, {\"type\": \"interpolation\", \"id\": \"1db40f75-f454-4581-a699-f304de004c6b\", \"parent_id\": \"4d9357a2-3697-4064-a7d5-664b0187d8df\", \"key\": \"a\", \"index\": 3, \"source_location\": {\"filename\": \"3431366908.py\", \"filepath\": \"/private/var/folders/wr/5n6v6bvj6mxdxjcg5_5ss1ph0000gn/T/ipykernel_30324/3431366908.py\", \"line\": 3}, \"expression\": \"age\", \"conversion\": null, \"format_spec\": \"a\", \"render_hints\": \"\", \"value\": \"30\"}, {\"type\": \"static\", \"id\": \"903a7f44-fbf5-4b36-9e44-ebeca41ba657\", \"parent_id\": \"4d9357a2-3697-4064-a7d5-664b0187d8df\", \"key\": 2, \"index\": 4, \"source_location\": {\"filename\": \"3431366908.py\", \"filepath\": \"/private/var/folders/wr/5n6v6bvj6mxdxjcg5_5ss1ph0000gn/T/ipykernel_30324/3431366908.py\", \"line\": 3}, \"value\": \"\"}]}, \"chunks\": [{\"type\": \"text\", \"id\": \"3077d8e8-8376-479b-8ebd-e569777511e2\", \"chunk_index\": 0, \"text\": \"Name: Alice, Age: 30\"}], \"chunk_id_to_index\": {\"3077d8e8-8376-479b-8ebd-e569777511e2\": 0}, \"source_map\": [{\"start\": 0, \"end\": 6, \"key\": 0, \"path\": [], \"element_type\": \"static\", \"chunk_index\": 0, \"chunk_id\": \"3077d8e8-8376-479b-8ebd-e569777511e2\", \"element_id\": \"4b5cacb0-c569-4796-bb60-9f67984ae34a\"}, {\"start\": 6, \"end\": 11, \"key\": \"n\", \"path\": [], \"element_type\": \"interpolation\", \"chunk_index\": 0, \"chunk_id\": \"3077d8e8-8376-479b-8ebd-e569777511e2\", \"element_id\": \"63b18ed0-b371-42c2-8699-e1d1ed375611\"}, {\"start\": 11, \"end\": 18, \"key\": 1, \"path\": [], \"element_type\": \"static\", \"chunk_index\": 0, \"chunk_id\": \"3077d8e8-8376-479b-8ebd-e569777511e2\", \"element_id\": \"176052dd-c764-46ee-bef2-c2e7742bc7fc\"}, {\"start\": 18, \"end\": 20, \"key\": \"a\", \"path\": [], \"element_type\": \"interpolation\", \"chunk_index\": 0, \"chunk_id\": \"3077d8e8-8376-479b-8ebd-e569777511e2\", \"element_id\": \"1db40f75-f454-4581-a699-f304de004c6b\"}]}</script>\n",
       "    <div class=\"tp-widget-mount\"></div>\n",
       "</div>\n"
      ],
      "text/plain": [
       "IntermediateRepresentation(chunks=1, spans=4)"
      ]
     },
     "execution_count": 8,
     "metadata": {},
     "output_type": "execute_result"
    }
   ],
   "source": [
    "name = \"Alice\"\n",
    "age = \"30\"\n",
    "p8 = prompt(t\"Name: {name:n}, Age: {age:a}\")\n",
    "ir = p8.render()\n",
    "ir"
   ]
  },
  {
   "cell_type": "markdown",
   "metadata": {},
   "source": [
    "## Test 9: Complex Nested Structure\n",
    "\n",
    "Test deeply nested prompts with multiple levels."
   ]
  },
  {
   "cell_type": "code",
   "execution_count": 9,
   "metadata": {},
   "outputs": [
    {
     "data": {
      "text/html": [
       "\n",
       "<div class=\"tp-widget-root\" data-tp-widget>\n",
       "    <script data-role=\"tp-widget-data\" type=\"application/json\">{\"prompt_id\": \"2a23a11e-18c4-4aae-91f2-ab889d13c41e\", \"children\": [{\"type\": \"static\", \"id\": \"db367dc5-f5b6-43ce-b001-94e49982bd18\", \"parent_id\": \"2a23a11e-18c4-4aae-91f2-ab889d13c41e\", \"key\": 0, \"index\": 0, \"source_location\": {\"filename\": \"1435995115.py\", \"filepath\": \"/private/var/folders/wr/5n6v6bvj6mxdxjcg5_5ss1ph0000gn/T/ipykernel_30324/1435995115.py\", \"line\": 4}, \"value\": \"System: \"}, {\"type\": \"nested_prompt\", \"id\": \"fb063573-afd3-4e7d-9bec-896049819340\", \"parent_id\": \"2a23a11e-18c4-4aae-91f2-ab889d13c41e\", \"key\": \"sys\", \"index\": 1, \"source_location\": {\"filename\": \"1435995115.py\", \"filepath\": \"/private/var/folders/wr/5n6v6bvj6mxdxjcg5_5ss1ph0000gn/T/ipykernel_30324/1435995115.py\", \"line\": 4}, \"expression\": \"middle\", \"conversion\": null, \"format_spec\": \"sys\", \"render_hints\": \"\", \"prompt_id\": \"8a4da384-85bb-4fac-802a-37b2a1b67d5c\", \"children\": [{\"type\": \"static\", \"id\": \"6d08f9ef-4e96-4df2-a338-36ef2c1b8ed1\", \"parent_id\": \"fb063573-afd3-4e7d-9bec-896049819340\", \"key\": 0, \"index\": 0, \"source_location\": {\"filename\": \"1435995115.py\", \"filepath\": \"/private/var/folders/wr/5n6v6bvj6mxdxjcg5_5ss1ph0000gn/T/ipykernel_30324/1435995115.py\", \"line\": 3}, \"value\": \"Context: \"}, {\"type\": \"nested_prompt\", \"id\": \"1d29271c-a175-4727-8213-706f7821e8ee\", \"parent_id\": \"fb063573-afd3-4e7d-9bec-896049819340\", \"key\": \"ctx\", \"index\": 1, \"source_location\": {\"filename\": \"1435995115.py\", \"filepath\": \"/private/var/folders/wr/5n6v6bvj6mxdxjcg5_5ss1ph0000gn/T/ipykernel_30324/1435995115.py\", \"line\": 3}, \"expression\": \"inner\", \"conversion\": null, \"format_spec\": \"ctx\", \"render_hints\": \"\", \"prompt_id\": \"9a466cae-ff34-45d0-b54f-fdc5ba053747\", \"children\": [{\"type\": \"static\", \"id\": \"f782b401-609e-4d1e-ae23-b98f5e4dc5d2\", \"parent_id\": \"1d29271c-a175-4727-8213-706f7821e8ee\", \"key\": 0, \"index\": 0, \"source_location\": {\"filename\": \"1435995115.py\", \"filepath\": \"/private/var/folders/wr/5n6v6bvj6mxdxjcg5_5ss1ph0000gn/T/ipykernel_30324/1435995115.py\", \"line\": 2}, \"value\": \"Role: \"}, {\"type\": \"interpolation\", \"id\": \"91e2bc8e-d0a8-4576-adf8-5ff596ecd298\", \"parent_id\": \"1d29271c-a175-4727-8213-706f7821e8ee\", \"key\": \"r\", \"index\": 1, \"source_location\": {\"filename\": \"1435995115.py\", \"filepath\": \"/private/var/folders/wr/5n6v6bvj6mxdxjcg5_5ss1ph0000gn/T/ipykernel_30324/1435995115.py\", \"line\": 2}, \"expression\": \"role\", \"conversion\": null, \"format_spec\": \"r\", \"render_hints\": \"\", \"value\": \"teacher\"}, {\"type\": \"static\", \"id\": \"29a60bef-00ea-4847-bc9a-d9524defff89\", \"parent_id\": \"1d29271c-a175-4727-8213-706f7821e8ee\", \"key\": 1, \"index\": 2, \"source_location\": {\"filename\": \"1435995115.py\", \"filepath\": \"/private/var/folders/wr/5n6v6bvj6mxdxjcg5_5ss1ph0000gn/T/ipykernel_30324/1435995115.py\", \"line\": 2}, \"value\": \"\"}]}, {\"type\": \"static\", \"id\": \"2995b4b3-0970-4763-ad7b-9d34ada4b430\", \"parent_id\": \"fb063573-afd3-4e7d-9bec-896049819340\", \"key\": 1, \"index\": 2, \"source_location\": {\"filename\": \"1435995115.py\", \"filepath\": \"/private/var/folders/wr/5n6v6bvj6mxdxjcg5_5ss1ph0000gn/T/ipykernel_30324/1435995115.py\", \"line\": 3}, \"value\": \"\"}]}, {\"type\": \"static\", \"id\": \"c060e3b7-0611-40e1-8f93-a06d768c9019\", \"parent_id\": \"2a23a11e-18c4-4aae-91f2-ab889d13c41e\", \"key\": 1, \"index\": 2, \"source_location\": {\"filename\": \"1435995115.py\", \"filepath\": \"/private/var/folders/wr/5n6v6bvj6mxdxjcg5_5ss1ph0000gn/T/ipykernel_30324/1435995115.py\", \"line\": 4}, \"value\": \"\"}]}</script>\n",
       "    <div class=\"tp-widget-mount\"></div>\n",
       "</div>\n"
      ],
      "text/plain": [
       "StructuredPrompt(keys=['sys'], num_interpolations=1)"
      ]
     },
     "execution_count": 9,
     "metadata": {},
     "output_type": "execute_result"
    }
   ],
   "source": [
    "role = \"teacher\"\n",
    "inner = prompt(t\"Role: {role:r}\")\n",
    "middle = prompt(t\"Context: {inner:ctx}\")\n",
    "outer = prompt(t\"System: {middle:sys}\")\n",
    "outer"
   ]
  },
  {
   "cell_type": "markdown",
   "metadata": {},
   "source": [
    "## Test 10: Markdown with KaTeX\n",
    "\n",
    "Test that KaTeX renders LaTeX math correctly in the preview pane."
   ]
  },
  {
   "cell_type": "code",
   "execution_count": 10,
   "metadata": {},
   "outputs": [
    {
     "data": {
      "text/html": [
       "\n",
       "<div class=\"tp-widget-root\" data-tp-widget>\n",
       "    <script data-role=\"tp-widget-data\" type=\"application/json\">{\"prompt_id\": \"a1094eef-27e9-4bee-9104-bcd0e99b1d29\", \"children\": [{\"type\": \"static\", \"id\": \"48d481a8-c61a-45c2-9e10-f49796772a63\", \"parent_id\": \"a1094eef-27e9-4bee-9104-bcd0e99b1d29\", \"key\": 0, \"index\": 0, \"source_location\": {\"filename\": \"247852147.py\", \"filepath\": \"/private/var/folders/wr/5n6v6bvj6mxdxjcg5_5ss1ph0000gn/T/ipykernel_30324/247852147.py\", \"line\": 2}, \"value\": \"\"}, {\"type\": \"interpolation\", \"id\": \"8a515dca-fac6-4558-8e7e-68c86173305a\", \"parent_id\": \"a1094eef-27e9-4bee-9104-bcd0e99b1d29\", \"key\": \"f\", \"index\": 1, \"source_location\": {\"filename\": \"247852147.py\", \"filepath\": \"/private/var/folders/wr/5n6v6bvj6mxdxjcg5_5ss1ph0000gn/T/ipykernel_30324/247852147.py\", \"line\": 2}, \"expression\": \"formula\", \"conversion\": null, \"format_spec\": \"f\", \"render_hints\": \"\", \"value\": \"The quadratic formula is: $x = \\\\frac{-b \\\\pm \\\\sqrt{b^2 - 4ac}}{2a}$\"}, {\"type\": \"static\", \"id\": \"9f4adfc5-578f-4147-a802-f5536b60a68b\", \"parent_id\": \"a1094eef-27e9-4bee-9104-bcd0e99b1d29\", \"key\": 1, \"index\": 2, \"source_location\": {\"filename\": \"247852147.py\", \"filepath\": \"/private/var/folders/wr/5n6v6bvj6mxdxjcg5_5ss1ph0000gn/T/ipykernel_30324/247852147.py\", \"line\": 2}, \"value\": \"\"}]}</script>\n",
       "    <div class=\"tp-widget-mount\"></div>\n",
       "</div>\n"
      ],
      "text/plain": [
       "StructuredPrompt(keys=['f'], num_interpolations=1)"
      ]
     },
     "execution_count": 10,
     "metadata": {},
     "output_type": "execute_result"
    }
   ],
   "source": [
    "formula = \"The quadratic formula is: $x = \\\\frac{-b \\\\pm \\\\sqrt{b^2 - 4ac}}{2a}$\"\n",
    "p10 = prompt(t\"{formula:f}\")\n",
    "p10"
   ]
  },
  {
   "cell_type": "markdown",
   "metadata": {},
   "source": [
    "## Test 11: Combined Features\n",
    "\n",
    "Test a realistic prompt with multiple features."
   ]
  },
  {
   "cell_type": "code",
   "execution_count": 11,
   "metadata": {},
   "outputs": [
    {
     "data": {
      "text/html": [
       "\n",
       "<div class=\"tp-widget-root\" data-tp-widget>\n",
       "    <script data-role=\"tp-widget-data\" type=\"application/json\">{\"prompt_id\": \"4c8afa07-c694-4cfa-b2d7-963b7f6f18b7\", \"children\": [{\"type\": \"static\", \"id\": \"584a4d67-d198-417f-9cc0-80b1bce70ba2\", \"parent_id\": \"4c8afa07-c694-4cfa-b2d7-963b7f6f18b7\", \"key\": 0, \"index\": 0, \"source_location\": {\"filename\": \"33511800.py\", \"filepath\": \"/private/var/folders/wr/5n6v6bvj6mxdxjcg5_5ss1ph0000gn/T/ipykernel_30324/33511800.py\", \"line\": 8}, \"value\": \"\"}, {\"type\": \"nested_prompt\", \"id\": \"26985549-a1ca-4f50-a573-0fe060bec4b8\", \"parent_id\": \"4c8afa07-c694-4cfa-b2d7-963b7f6f18b7\", \"key\": \"sys\", \"index\": 1, \"source_location\": {\"filename\": \"33511800.py\", \"filepath\": \"/private/var/folders/wr/5n6v6bvj6mxdxjcg5_5ss1ph0000gn/T/ipykernel_30324/33511800.py\", \"line\": 8}, \"expression\": \"system\", \"conversion\": null, \"format_spec\": \"sys:xml=system\", \"render_hints\": \"xml=system\", \"prompt_id\": \"d50c6406-fd8b-49ff-b96c-def44071408b\", \"children\": [{\"type\": \"static\", \"id\": \"d6941a71-4a32-4286-9c51-b3d2cf820f33\", \"parent_id\": \"26985549-a1ca-4f50-a573-0fe060bec4b8\", \"key\": 0, \"index\": 0, \"source_location\": {\"filename\": \"33511800.py\", \"filepath\": \"/private/var/folders/wr/5n6v6bvj6mxdxjcg5_5ss1ph0000gn/T/ipykernel_30324/33511800.py\", \"line\": 1}, \"value\": \"You are a helpful assistant specialized in mathematics.\"}]}, {\"type\": \"static\", \"id\": \"f8b709a9-394e-4d3f-b657-aa1eec505023\", \"parent_id\": \"4c8afa07-c694-4cfa-b2d7-963b7f6f18b7\", \"key\": 1, \"index\": 2, \"source_location\": {\"filename\": \"33511800.py\", \"filepath\": \"/private/var/folders/wr/5n6v6bvj6mxdxjcg5_5ss1ph0000gn/T/ipykernel_30324/33511800.py\", \"line\": 8}, \"value\": \"\\n\\n\"}, {\"type\": \"list\", \"id\": \"4bc97f20-e7f9-4703-819e-9ef1a8394fed\", \"parent_id\": \"4c8afa07-c694-4cfa-b2d7-963b7f6f18b7\", \"key\": \"ex\", \"index\": 3, \"source_location\": {\"filename\": \"33511800.py\", \"filepath\": \"/private/var/folders/wr/5n6v6bvj6mxdxjcg5_5ss1ph0000gn/T/ipykernel_30324/33511800.py\", \"line\": 8}, \"expression\": \"examples\", \"conversion\": null, \"format_spec\": \"ex:header=Examples:sep=\\\\n\\\\n\", \"render_hints\": \"header=Examples:sep=\\\\n\\\\n\", \"separator\": \"\\\\n\\\\n\", \"children\": [{\"prompt_id\": \"230a739d-2734-4871-a9fc-a08856c6dabd\", \"children\": [{\"type\": \"static\", \"id\": \"0a5db59d-7df5-4eae-b1c2-579394e3deaf\", \"parent_id\": \"4bc97f20-e7f9-4703-819e-9ef1a8394fed\", \"key\": 0, \"index\": 0, \"source_location\": {\"filename\": \"33511800.py\", \"filepath\": \"/private/var/folders/wr/5n6v6bvj6mxdxjcg5_5ss1ph0000gn/T/ipykernel_30324/33511800.py\", \"line\": 3}, \"value\": \"Q: What is 2+2?\\nA: 4\"}]}, {\"prompt_id\": \"ffa63e31-84e4-4eb1-8e01-cd2f877658cd\", \"children\": [{\"type\": \"static\", \"id\": \"9ac34257-3859-4cca-ad9f-95c39fb46446\", \"parent_id\": \"4bc97f20-e7f9-4703-819e-9ef1a8394fed\", \"key\": 0, \"index\": 0, \"source_location\": {\"filename\": \"33511800.py\", \"filepath\": \"/private/var/folders/wr/5n6v6bvj6mxdxjcg5_5ss1ph0000gn/T/ipykernel_30324/33511800.py\", \"line\": 4}, \"value\": \"Q: What is 5*3?\\nA: 15\"}]}]}, {\"type\": \"static\", \"id\": \"0467da4e-e220-4d5a-9b32-b92b5459dd6b\", \"parent_id\": \"4c8afa07-c694-4cfa-b2d7-963b7f6f18b7\", \"key\": 2, \"index\": 4, \"source_location\": {\"filename\": \"33511800.py\", \"filepath\": \"/private/var/folders/wr/5n6v6bvj6mxdxjcg5_5ss1ph0000gn/T/ipykernel_30324/33511800.py\", \"line\": 8}, \"value\": \"\\n\\nQuestion: \"}, {\"type\": \"interpolation\", \"id\": \"7a2d0813-8be6-4e13-b9aa-a1da9bb8065d\", \"parent_id\": \"4c8afa07-c694-4cfa-b2d7-963b7f6f18b7\", \"key\": \"q\", \"index\": 5, \"source_location\": {\"filename\": \"33511800.py\", \"filepath\": \"/private/var/folders/wr/5n6v6bvj6mxdxjcg5_5ss1ph0000gn/T/ipykernel_30324/33511800.py\", \"line\": 8}, \"expression\": \"question\", \"conversion\": null, \"format_spec\": \"q\", \"render_hints\": \"\", \"value\": \"What is the derivative of x^2?\"}, {\"type\": \"static\", \"id\": \"d95c5733-5212-4084-81ab-d68ce87e692d\", \"parent_id\": \"4c8afa07-c694-4cfa-b2d7-963b7f6f18b7\", \"key\": 3, \"index\": 6, \"source_location\": {\"filename\": \"33511800.py\", \"filepath\": \"/private/var/folders/wr/5n6v6bvj6mxdxjcg5_5ss1ph0000gn/T/ipykernel_30324/33511800.py\", \"line\": 8}, \"value\": \"\"}]}</script>\n",
       "    <div class=\"tp-widget-mount\"></div>\n",
       "</div>\n"
      ],
      "text/plain": [
       "StructuredPrompt(keys=['sys', 'ex', 'q'], num_interpolations=3)"
      ]
     },
     "execution_count": 11,
     "metadata": {},
     "output_type": "execute_result"
    }
   ],
   "source": [
    "system = prompt(t\"You are a helpful assistant specialized in mathematics.\")\n",
    "examples = [\n",
    "    prompt(t\"Q: What is 2+2?\\nA: 4\"),\n",
    "    prompt(t\"Q: What is 5*3?\\nA: 15\")\n",
    "]\n",
    "question = \"What is the derivative of x^2?\"\n",
    "\n",
    "p11 = dedent(t\"\"\"\n",
    "    {system:sys:xml=system}\n",
    "    \n",
    "    {examples:ex:header=Examples:sep=\\\\n\\\\n}\n",
    "    \n",
    "    Question: {question:q}\n",
    "\"\"\")\n",
    "p11"
   ]
  },
  {
   "cell_type": "markdown",
   "metadata": {},
   "source": [
    "## Test 12: Check HTML Output Size\n",
    "\n",
    "Verify that the singleton pattern is working by comparing HTML sizes."
   ]
  },
  {
   "cell_type": "code",
   "execution_count": 12,
   "metadata": {},
   "outputs": [
    {
     "name": "stdout",
     "output_type": "stream",
     "text": [
      "First widget HTML size: 296,262 bytes\n",
      "Contains bundle: True\n",
      "\n",
      "Second widget HTML size: 561 bytes\n",
      "Contains bundle: False\n",
      "\n",
      "Size reduction: 295,701 bytes (99.8% smaller)\n"
     ]
    }
   ],
   "source": [
    "# Reset the bundle injection to test from fresh state\n",
    "from t_prompts import widget_renderer\n",
    "widget_renderer._bundle_injected = False\n",
    "\n",
    "# First prompt - should include full bundle\n",
    "p_first = prompt(t\"First prompt\")\n",
    "html_first = p_first._repr_html_()\n",
    "print(f\"First widget HTML size: {len(html_first):,} bytes\")\n",
    "print(f\"Contains bundle: {'tp-widget-bundle' in html_first}\")\n",
    "\n",
    "# Second prompt - should NOT include bundle\n",
    "p_second = prompt(t\"Second prompt\")\n",
    "html_second = p_second._repr_html_()\n",
    "print(f\"\\nSecond widget HTML size: {len(html_second):,} bytes\")\n",
    "print(f\"Contains bundle: {'tp-widget-bundle' in html_second}\")\n",
    "\n",
    "print(f\"\\nSize reduction: {len(html_first) - len(html_second):,} bytes ({100 * (1 - len(html_second)/len(html_first)):.1f}% smaller)\")"
   ]
  },
  {
   "cell_type": "markdown",
   "metadata": {},
   "source": [
    "## Test 13: Display Multiple Widgets at Once\n",
    "\n",
    "Test that multiple widgets can coexist on the same page."
   ]
  },
  {
   "cell_type": "code",
   "execution_count": 13,
   "metadata": {},
   "outputs": [
    {
     "data": {
      "text/html": [
       "\n",
       "<div class=\"tp-widget-root\" data-tp-widget>\n",
       "    <script data-role=\"tp-widget-data\" type=\"application/json\">{\"prompt_id\": \"42aec2c7-7cba-4dc1-986a-a991300a030d\", \"children\": [{\"type\": \"static\", \"id\": \"a0bde108-043f-434e-8b70-b746db7ac358\", \"parent_id\": \"42aec2c7-7cba-4dc1-986a-a991300a030d\", \"key\": 0, \"index\": 0, \"source_location\": {\"filename\": \"438436654.py\", \"filepath\": \"/private/var/folders/wr/5n6v6bvj6mxdxjcg5_5ss1ph0000gn/T/ipykernel_30324/438436654.py\", \"line\": 3}, \"value\": \"Widget A\"}]}</script>\n",
       "    <div class=\"tp-widget-mount\"></div>\n",
       "</div>\n"
      ],
      "text/plain": [
       "StructuredPrompt(keys=[], num_interpolations=0)"
      ]
     },
     "metadata": {},
     "output_type": "display_data"
    },
    {
     "data": {
      "text/html": [
       "\n",
       "<div class=\"tp-widget-root\" data-tp-widget>\n",
       "    <script data-role=\"tp-widget-data\" type=\"application/json\">{\"prompt_id\": \"61a7e65b-951e-4b14-888b-2db17df0f84a\", \"children\": [{\"type\": \"static\", \"id\": \"ab92a9bc-4a32-4fa0-89b6-4047ae8a97cd\", \"parent_id\": \"61a7e65b-951e-4b14-888b-2db17df0f84a\", \"key\": 0, \"index\": 0, \"source_location\": {\"filename\": \"438436654.py\", \"filepath\": \"/private/var/folders/wr/5n6v6bvj6mxdxjcg5_5ss1ph0000gn/T/ipykernel_30324/438436654.py\", \"line\": 4}, \"value\": \"Widget B\"}]}</script>\n",
       "    <div class=\"tp-widget-mount\"></div>\n",
       "</div>\n"
      ],
      "text/plain": [
       "StructuredPrompt(keys=[], num_interpolations=0)"
      ]
     },
     "metadata": {},
     "output_type": "display_data"
    },
    {
     "data": {
      "text/html": [
       "\n",
       "<div class=\"tp-widget-root\" data-tp-widget>\n",
       "    <script data-role=\"tp-widget-data\" type=\"application/json\">{\"prompt_id\": \"932ea428-9fd9-42b1-a1ca-81c413b9664f\", \"children\": [{\"type\": \"static\", \"id\": \"f2a619b7-41e2-434c-953f-0f446d006eb1\", \"parent_id\": \"932ea428-9fd9-42b1-a1ca-81c413b9664f\", \"key\": 0, \"index\": 0, \"source_location\": {\"filename\": \"438436654.py\", \"filepath\": \"/private/var/folders/wr/5n6v6bvj6mxdxjcg5_5ss1ph0000gn/T/ipykernel_30324/438436654.py\", \"line\": 5}, \"value\": \"Widget C\"}]}</script>\n",
       "    <div class=\"tp-widget-mount\"></div>\n",
       "</div>\n"
      ],
      "text/plain": [
       "StructuredPrompt(keys=[], num_interpolations=0)"
      ]
     },
     "metadata": {},
     "output_type": "display_data"
    }
   ],
   "source": [
    "from IPython.display import display\n",
    "\n",
    "p13a = prompt(t\"Widget A\")\n",
    "p13b = prompt(t\"Widget B\")\n",
    "p13c = prompt(t\"Widget C\")\n",
    "\n",
    "display(p13a)\n",
    "display(p13b)\n",
    "display(p13c)"
   ]
  },
  {
   "cell_type": "markdown",
   "metadata": {},
   "source": [
    "## Test 14: Source Location Display\n",
    "\n",
    "Test that source location information is captured and displayed."
   ]
  },
  {
   "cell_type": "code",
   "execution_count": 14,
   "metadata": {},
   "outputs": [
    {
     "name": "stdout",
     "output_type": "stream",
     "text": [
      "Source location captured: 345218160.py:2\n"
     ]
    },
    {
     "data": {
      "text/html": [
       "\n",
       "<div class=\"tp-widget-root\" data-tp-widget>\n",
       "    <script data-role=\"tp-widget-data\" type=\"application/json\">{\"prompt_id\": \"067336ad-2246-42f6-8b96-906378d2a8e8\", \"children\": [{\"type\": \"static\", \"id\": \"0909521f-6f86-4b01-9b01-dec8ec41ecdf\", \"parent_id\": \"067336ad-2246-42f6-8b96-906378d2a8e8\", \"key\": 0, \"index\": 0, \"source_location\": {\"filename\": \"345218160.py\", \"filepath\": \"/private/var/folders/wr/5n6v6bvj6mxdxjcg5_5ss1ph0000gn/T/ipykernel_30324/345218160.py\", \"line\": 2}, \"value\": \"Value: \"}, {\"type\": \"interpolation\", \"id\": \"dba98800-7adf-4385-8010-505dade51cd4\", \"parent_id\": \"067336ad-2246-42f6-8b96-906378d2a8e8\", \"key\": \"v\", \"index\": 1, \"source_location\": {\"filename\": \"345218160.py\", \"filepath\": \"/private/var/folders/wr/5n6v6bvj6mxdxjcg5_5ss1ph0000gn/T/ipykernel_30324/345218160.py\", \"line\": 2}, \"expression\": \"value\", \"conversion\": null, \"format_spec\": \"v\", \"render_hints\": \"\", \"value\": \"test\"}, {\"type\": \"static\", \"id\": \"8d2b2203-713a-4105-90f1-ac6c322e78f3\", \"parent_id\": \"067336ad-2246-42f6-8b96-906378d2a8e8\", \"key\": 1, \"index\": 2, \"source_location\": {\"filename\": \"345218160.py\", \"filepath\": \"/private/var/folders/wr/5n6v6bvj6mxdxjcg5_5ss1ph0000gn/T/ipykernel_30324/345218160.py\", \"line\": 2}, \"value\": \"\"}]}</script>\n",
       "    <div class=\"tp-widget-mount\"></div>\n",
       "</div>\n"
      ],
      "text/plain": [
       "StructuredPrompt(keys=['v'], num_interpolations=1)"
      ]
     },
     "execution_count": 14,
     "metadata": {},
     "output_type": "execute_result"
    }
   ],
   "source": [
    "value = \"test\"\n",
    "p14 = prompt(t\"Value: {value:v}\")\n",
    "\n",
    "# Check that source location is captured\n",
    "interp = p14['v']\n",
    "if interp.source_location and interp.source_location.is_available:\n",
    "    print(f\"Source location captured: {interp.source_location.format_location()}\")\n",
    "else:\n",
    "    print(\"Source location not available\")\n",
    "\n",
    "p14"
   ]
  },
  {
   "cell_type": "markdown",
   "metadata": {},
   "source": [
    "## Summary\n",
    "\n",
    "If all tests above display correctly, the widget implementation is working as expected:\n",
    "\n",
    "✅ **Phase 0 Features:**\n",
    "- Singleton injection pattern (bundle only injected once)\n",
    "- MutationObserver for dynamic cell rendering (Jupyter compatibility)\n",
    "- CSS de-duplication\n",
    "\n",
    "✅ **Phase 1 Features:**\n",
    "- Three-pane static visualization\n",
    "- Tree structure display\n",
    "- **Code view shows actual rendered text** (not t-string syntax)\n",
    "- **Images rendered as `<img>` tags** using base64 data\n",
    "- Markdown preview with KaTeX rendering\n",
    "- Support for nested prompts\n",
    "- Support for list interpolations\n",
    "- Render hints (XML, headers)\n",
    "- IntermediateRepresentation visualization with chunks\n",
    "- Source location tracking\n",
    "\n",
    "## Expected Behavior\n",
    "\n",
    "**For StructuredPrompt:**\n",
    "- Structure pane: Tree showing all elements (statics, interpolations, nested prompts, lists)\n",
    "- Code view: Shows the rendered text as if you called `str(prompt)`, with images as `<img>` tags\n",
    "- Preview: Placeholder message (no preview until rendered)\n",
    "\n",
    "**For IntermediateRepresentation:**\n",
    "- Structure pane: Tree showing the source prompt structure\n",
    "- Code view: Shows rendered output with text chunks and image chunks as inline `<img>` tags\n",
    "- Preview: Markdown-rendered output with KaTeX math support"
   ]
  },
  {
   "cell_type": "markdown",
   "metadata": {},
   "source": [
    "## Summary\n",
    "\n",
    "If all tests above display correctly, the widget implementation is working as expected:\n",
    "\n",
    "✅ **Phase 0 Features:**\n",
    "- Singleton injection pattern (bundle only injected once)\n",
    "- MutationObserver for dynamic cell rendering (Jupyter compatibility)\n",
    "- CSS de-duplication\n",
    "\n",
    "✅ **Phase 1 Features:**\n",
    "- Three-pane static visualization\n",
    "- Tree structure display\n",
    "- **Code view shows actual rendered text** (not t-string syntax)\n",
    "- **Images rendered as `<img>` tags** using base64 data\n",
    "- **Markdown preview with KaTeX rendering** for LaTeX math\n",
    "- Support for nested prompts\n",
    "- Support for list interpolations\n",
    "- Render hints (XML, headers)\n",
    "- IntermediateRepresentation visualization with chunks\n",
    "- Source location tracking\n",
    "\n",
    "## Expected Behavior\n",
    "\n",
    "**For StructuredPrompt:**\n",
    "- **Structure pane**: Tree showing all elements (statics, interpolations, nested prompts, lists)\n",
    "- **Code view**: Shows the rendered text as if you called `str(prompt)`, with images as inline `<img>` tags\n",
    "- **Preview**: Markdown-rendered output with KaTeX math support (LaTeX rendered)\n",
    "\n",
    "**For IntermediateRepresentation:**\n",
    "- **Structure pane**: Tree showing the source prompt structure\n",
    "- **Code view**: Shows rendered output with text chunks and image chunks as inline `<img>` tags\n",
    "- **Preview**: Markdown-rendered output with KaTeX math support (LaTeX rendered)\n",
    "\n",
    "## KaTeX Math Rendering\n",
    "\n",
    "Both StructuredPrompt and IntermediateRepresentation preview panes support LaTeX math:\n",
    "- Inline math: `$x = y$`\n",
    "- Display math: `$$x = y$$`\n",
    "- All KaTeX features supported (fractions, square roots, matrices, etc.)"
   ]
  },
  {
   "cell_type": "code",
   "execution_count": 16,
   "metadata": {},
   "outputs": [
    {
     "name": "stdout",
     "output_type": "stream",
     "text": [
      "Image prompt created. Rendering...\n"
     ]
    },
    {
     "data": {
      "text/html": [
       "\n",
       "<div class=\"tp-widget-root\" data-tp-widget>\n",
       "    <script data-role=\"tp-widget-data\" type=\"application/json\">{\"prompt_id\": \"f9790eb0-9c2d-434a-b8ff-fca732aba40b\", \"children\": [{\"type\": \"static\", \"id\": \"ef8651af-3540-49b2-9a35-5abc99fde6ef\", \"parent_id\": \"f9790eb0-9c2d-434a-b8ff-fca732aba40b\", \"key\": 0, \"index\": 0, \"source_location\": {\"filename\": \"1782726806.py\", \"filepath\": \"/private/var/folders/wr/5n6v6bvj6mxdxjcg5_5ss1ph0000gn/T/ipykernel_30324/1782726806.py\", \"line\": 10}, \"value\": \"\"}, {\"type\": \"interpolation\", \"id\": \"224d8592-3991-4d5c-aaf2-9d0201205910\", \"parent_id\": \"f9790eb0-9c2d-434a-b8ff-fca732aba40b\", \"key\": \"txt\", \"index\": 1, \"source_location\": {\"filename\": \"1782726806.py\", \"filepath\": \"/private/var/folders/wr/5n6v6bvj6mxdxjcg5_5ss1ph0000gn/T/ipykernel_30324/1782726806.py\", \"line\": 10}, \"expression\": \"text\", \"conversion\": null, \"format_spec\": \"txt\", \"render_hints\": \"\", \"value\": \"Here is a red square:\"}, {\"type\": \"static\", \"id\": \"4f11ab0a-ccaa-4c2d-af3f-68fa277d2b04\", \"parent_id\": \"f9790eb0-9c2d-434a-b8ff-fca732aba40b\", \"key\": 1, \"index\": 2, \"source_location\": {\"filename\": \"1782726806.py\", \"filepath\": \"/private/var/folders/wr/5n6v6bvj6mxdxjcg5_5ss1ph0000gn/T/ipykernel_30324/1782726806.py\", \"line\": 10}, \"value\": \" \"}, {\"type\": \"image\", \"id\": \"656d65df-ee6e-4f9e-a5ae-0d2e8bd87a2e\", \"parent_id\": \"f9790eb0-9c2d-434a-b8ff-fca732aba40b\", \"key\": \"image\", \"index\": 3, \"source_location\": {\"filename\": \"1782726806.py\", \"filepath\": \"/private/var/folders/wr/5n6v6bvj6mxdxjcg5_5ss1ph0000gn/T/ipykernel_30324/1782726806.py\", \"line\": 10}, \"expression\": \"img\", \"conversion\": null, \"format_spec\": \"image\", \"render_hints\": \"\", \"image_data\": {\"base64_data\": \"iVBORw0KGgoAAAANSUhEUgAAAGQAAABkCAIAAAD/gAIDAAAA40lEQVR4nO3QsQEAIAyAsOr/P+sLZU9mJs4btu66xKzCrMCswKzArMCswKzArMCswKzArMCswKzArMCswKzArMCswKzArMCswKzArMCswKzArMCswKzArMCswKzArMCswKzArMCswKzArMCswKzArMCswKzArMCswKzArMCswKzArMCswKzArMCswKzArMCswKzArMCswKzArMCswKzArMCswKzArMCswKzArMCswKzArMCswKzArMCswKzArMCswKzArMCswKzArMCswKzArMCswKzArMCswKzArMCswKzArNn7il4Bx2GaB88AAAAASUVORK5CYII=\", \"format\": \"PNG\", \"width\": 100, \"height\": 100, \"mode\": \"RGB\"}}, {\"type\": \"static\", \"id\": \"0fbefeab-b6e7-4de6-8300-48278b2ab249\", \"parent_id\": \"f9790eb0-9c2d-434a-b8ff-fca732aba40b\", \"key\": 2, \"index\": 4, \"source_location\": {\"filename\": \"1782726806.py\", \"filepath\": \"/private/var/folders/wr/5n6v6bvj6mxdxjcg5_5ss1ph0000gn/T/ipykernel_30324/1782726806.py\", \"line\": 10}, \"value\": \"\"}]}</script>\n",
       "    <div class=\"tp-widget-mount\"></div>\n",
       "</div>\n"
      ],
      "text/plain": [
       "StructuredPrompt(keys=['txt', 'image'], num_interpolations=2)"
      ]
     },
     "metadata": {},
     "output_type": "display_data"
    }
   ],
   "source": [
    "try:\n",
    "    from PIL import Image\n",
    "    import io\n",
    "    \n",
    "    # Create a simple test image\n",
    "    img = Image.new('RGB', (100, 100), color='red')\n",
    "    \n",
    "    # Create prompt with image\n",
    "    text = \"Here is a red square:\"\n",
    "    p15 = prompt(t\"{text:txt} {img:image}\")\n",
    "    \n",
    "    print(\"Image prompt created. Rendering...\")\n",
    "    \n",
    "    # Note: Images cannot be rendered to text, but they can be visualized in JSON\n",
    "    # Let's just display the prompt structure\n",
    "    display(p15)\n",
    "except ImportError:\n",
    "    print(\"PIL not installed - skipping image test\")"
   ]
  },
  {
   "cell_type": "markdown",
   "metadata": {},
   "source": [
    "## Test 15: Image Support (Optional)\n",
    "\n",
    "If PIL is installed, test that images are rendered correctly in the code view.\n",
    "\n",
    "**Note:** This test requires `pillow` to be installed. Skip if not available."
   ]
  }
 ],
 "metadata": {
  "kernelspec": {
   "display_name": "Python 3 (ipykernel)",
   "language": "python",
   "name": "python3"
  },
  "language_info": {
   "codemirror_mode": {
    "name": "ipython",
    "version": 3
   },
   "file_extension": ".py",
   "mimetype": "text/x-python",
   "name": "python",
   "nbconvert_exporter": "python",
   "pygments_lexer": "ipython3",
   "version": "3.14.0"
  }
 },
 "nbformat": 4,
 "nbformat_minor": 4
}
