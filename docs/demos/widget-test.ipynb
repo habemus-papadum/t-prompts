{
 "cells": [
  {
   "cell_type": "markdown",
   "metadata": {},
   "source": [
    "# Widget Visualization Test Notebook\n",
    "\n",
    "This notebook tests the Phase 0 and Phase 1 widget implementation for visualizing structured prompts.\n",
    "\n",
    "Expected behavior:\n",
    "- First widget should include JavaScript bundle and KaTeX CSS (larger HTML output)\n",
    "- Subsequent widgets should only include widget markup (smaller HTML output)\n",
    "- Each widget should display three panes: Structure, Code View, and Preview"
   ]
  },
  {
   "cell_type": "code",
   "execution_count": 1,
   "metadata": {
    "execution": {
     "iopub.execute_input": "2025-10-14T23:58:41.271255Z",
     "iopub.status.busy": "2025-10-14T23:58:41.271138Z",
     "iopub.status.idle": "2025-10-14T23:58:41.283596Z",
     "shell.execute_reply": "2025-10-14T23:58:41.283299Z"
    }
   },
   "outputs": [],
   "source": [
    "from t_prompts import dedent, prompt"
   ]
  },
  {
   "cell_type": "markdown",
   "metadata": {},
   "source": [
    "## Test 1: Simple Prompt\n",
    "\n",
    "This should display the first widget with full bundle injection."
   ]
  },
  {
   "cell_type": "code",
   "execution_count": null,
   "metadata": {
    "execution": {
     "iopub.execute_input": "2025-10-14T23:58:41.285572Z",
     "iopub.status.busy": "2025-10-14T23:58:41.285443Z",
     "iopub.status.idle": "2025-10-14T23:58:41.294674Z",
     "shell.execute_reply": "2025-10-14T23:58:41.294415Z"
    }
   },
   "outputs": [],
   "source": [
    "task = \"translate this to French\"\n",
    "p1 = prompt(t\"Task: {task:t}\")\n",
    "p1"
   ]
  },
  {
   "cell_type": "markdown",
   "metadata": {},
   "source": [
    "## Test 2: Second Simple Prompt\n",
    "\n",
    "This should display without re-injecting the bundle (singleton pattern)."
   ]
  },
  {
   "cell_type": "code",
   "execution_count": 3,
   "metadata": {
    "execution": {
     "iopub.execute_input": "2025-10-14T23:58:41.318476Z",
     "iopub.status.busy": "2025-10-14T23:58:41.318306Z",
     "iopub.status.idle": "2025-10-14T23:58:41.320855Z",
     "shell.execute_reply": "2025-10-14T23:58:41.320638Z"
    }
   },
   "outputs": [
    {
     "data": {
      "text/html": [
       "\n",
       "<div class=\"tp-widget-root\" data-tp-widget>\n",
       "    <script data-role=\"tp-widget-data\" type=\"application/json\">{\"compiled_ir\": {\"ir_id\": \"2d9d6686-5656-47a8-8bfa-248bee43a249\", \"subtree_map\": {\"0b35e587-f8f4-489c-a63e-2b39c15ff903\": [\"925982e2-880c-4ded-bc82-43d3deaa1cef\"], \"0598aefd-9001-49a1-a8b8-5459a55fd461\": [\"fdda8d67-bb3e-4bd1-9886-424e951d18d7\"], \"55206017-c8bf-4396-9994-2e6203117918\": [], \"903b000f-39f0-4bd3-9d2d-571f3c062e6b\": [\"925982e2-880c-4ded-bc82-43d3deaa1cef\", \"fdda8d67-bb3e-4bd1-9886-424e951d18d7\"]}, \"num_elements\": 4}, \"ir\": {\"chunks\": [{\"type\": \"TextChunk\", \"text\": \"Instructions: \", \"element_id\": \"0b35e587-f8f4-489c-a63e-2b39c15ff903\", \"id\": \"925982e2-880c-4ded-bc82-43d3deaa1cef\", \"metadata\": {}}, {\"type\": \"TextChunk\", \"text\": \"Be concise and accurate\", \"element_id\": \"0598aefd-9001-49a1-a8b8-5459a55fd461\", \"id\": \"fdda8d67-bb3e-4bd1-9886-424e951d18d7\", \"metadata\": {}}], \"source_prompt_id\": \"903b000f-39f0-4bd3-9d2d-571f3c062e6b\", \"id\": \"2d9d6686-5656-47a8-8bfa-248bee43a249\", \"metadata\": {}}, \"source_prompt\": {\"prompt_id\": \"903b000f-39f0-4bd3-9d2d-571f3c062e6b\", \"children\": [{\"type\": \"static\", \"id\": \"0b35e587-f8f4-489c-a63e-2b39c15ff903\", \"parent_id\": \"903b000f-39f0-4bd3-9d2d-571f3c062e6b\", \"key\": 0, \"index\": 0, \"source_location\": {\"filename\": \"2896837000.py\", \"filepath\": \"/private/var/folders/wr/5n6v6bvj6mxdxjcg5_5ss1ph0000gn/T/ipykernel_7399/2896837000.py\", \"line\": 2}, \"value\": \"Instructions: \"}, {\"type\": \"interpolation\", \"id\": \"0598aefd-9001-49a1-a8b8-5459a55fd461\", \"parent_id\": \"903b000f-39f0-4bd3-9d2d-571f3c062e6b\", \"key\": \"i\", \"index\": 1, \"source_location\": {\"filename\": \"2896837000.py\", \"filepath\": \"/private/var/folders/wr/5n6v6bvj6mxdxjcg5_5ss1ph0000gn/T/ipykernel_7399/2896837000.py\", \"line\": 2}, \"expression\": \"instruction\", \"conversion\": null, \"format_spec\": \"i\", \"render_hints\": \"\", \"value\": \"Be concise and accurate\"}, {\"type\": \"static\", \"id\": \"55206017-c8bf-4396-9994-2e6203117918\", \"parent_id\": \"903b000f-39f0-4bd3-9d2d-571f3c062e6b\", \"key\": 1, \"index\": 2, \"source_location\": {\"filename\": \"2896837000.py\", \"filepath\": \"/private/var/folders/wr/5n6v6bvj6mxdxjcg5_5ss1ph0000gn/T/ipykernel_7399/2896837000.py\", \"line\": 2}, \"value\": \"\"}]}}</script>\n",
       "    <div class=\"tp-widget-mount\"></div>\n",
       "</div>\n"
      ],
      "text/plain": [
       "StructuredPrompt(keys=['i'], num_interpolations=1)"
      ]
     },
     "execution_count": 3,
     "metadata": {},
     "output_type": "execute_result"
    }
   ],
   "source": [
    "instruction = \"Be concise and accurate\"\n",
    "p2 = prompt(t\"Instructions: {instruction:i}\")\n",
    "p2"
   ]
  },
  {
   "cell_type": "markdown",
   "metadata": {},
   "source": [
    "## Test 3: Nested Prompt\n",
    "\n",
    "Test visualization of nested prompt structures."
   ]
  },
  {
   "cell_type": "code",
   "execution_count": 2,
   "metadata": {
    "execution": {
     "iopub.execute_input": "2025-10-14T23:58:41.322036Z",
     "iopub.status.busy": "2025-10-14T23:58:41.321942Z",
     "iopub.status.idle": "2025-10-14T23:58:41.324410Z",
     "shell.execute_reply": "2025-10-14T23:58:41.324191Z"
    }
   },
   "outputs": [
    {
     "data": {
      "text/html": [
       "<style id=\"tp-widget-katex-css\">@font-face{font-display:block;font-family:KaTeX_AMS;font-style:normal;font-weight:400;src:url(fonts/KaTeX_AMS-Regular.woff2) format(\"woff2\"),url(fonts/KaTeX_AMS-Regular.woff) format(\"woff\"),url(fonts/KaTeX_AMS-Regular.ttf) format(\"truetype\")}@font-face{font-display:block;font-family:KaTeX_Caligraphic;font-style:normal;font-weight:700;src:url(fonts/KaTeX_Caligraphic-Bold.woff2) format(\"woff2\"),url(fonts/KaTeX_Caligraphic-Bold.woff) format(\"woff\"),url(fonts/KaTeX_Caligraphic-Bold.ttf) format(\"truetype\")}@font-face{font-display:block;font-family:KaTeX_Caligraphic;font-style:normal;font-weight:400;src:url(fonts/KaTeX_Caligraphic-Regular.woff2) format(\"woff2\"),url(fonts/KaTeX_Caligraphic-Regular.woff) format(\"woff\"),url(fonts/KaTeX_Caligraphic-Regular.ttf) format(\"truetype\")}@font-face{font-display:block;font-family:KaTeX_Fraktur;font-style:normal;font-weight:700;src:url(fonts/KaTeX_Fraktur-Bold.woff2) format(\"woff2\"),url(fonts/KaTeX_Fraktur-Bold.woff) format(\"woff\"),url(fonts/KaTeX_Fraktur-Bold.ttf) format(\"truetype\")}@font-face{font-display:block;font-family:KaTeX_Fraktur;font-style:normal;font-weight:400;src:url(fonts/KaTeX_Fraktur-Regular.woff2) format(\"woff2\"),url(fonts/KaTeX_Fraktur-Regular.woff) format(\"woff\"),url(fonts/KaTeX_Fraktur-Regular.ttf) format(\"truetype\")}@font-face{font-display:block;font-family:KaTeX_Main;font-style:normal;font-weight:700;src:url(fonts/KaTeX_Main-Bold.woff2) format(\"woff2\"),url(fonts/KaTeX_Main-Bold.woff) format(\"woff\"),url(fonts/KaTeX_Main-Bold.ttf) format(\"truetype\")}@font-face{font-display:block;font-family:KaTeX_Main;font-style:italic;font-weight:700;src:url(fonts/KaTeX_Main-BoldItalic.woff2) format(\"woff2\"),url(fonts/KaTeX_Main-BoldItalic.woff) format(\"woff\"),url(fonts/KaTeX_Main-BoldItalic.ttf) format(\"truetype\")}@font-face{font-display:block;font-family:KaTeX_Main;font-style:italic;font-weight:400;src:url(fonts/KaTeX_Main-Italic.woff2) format(\"woff2\"),url(fonts/KaTeX_Main-Italic.woff) format(\"woff\"),url(fonts/KaTeX_Main-Italic.ttf) format(\"truetype\")}@font-face{font-display:block;font-family:KaTeX_Main;font-style:normal;font-weight:400;src:url(fonts/KaTeX_Main-Regular.woff2) format(\"woff2\"),url(fonts/KaTeX_Main-Regular.woff) format(\"woff\"),url(fonts/KaTeX_Main-Regular.ttf) format(\"truetype\")}@font-face{font-display:block;font-family:KaTeX_Math;font-style:italic;font-weight:700;src:url(fonts/KaTeX_Math-BoldItalic.woff2) format(\"woff2\"),url(fonts/KaTeX_Math-BoldItalic.woff) format(\"woff\"),url(fonts/KaTeX_Math-BoldItalic.ttf) format(\"truetype\")}@font-face{font-display:block;font-family:KaTeX_Math;font-style:italic;font-weight:400;src:url(fonts/KaTeX_Math-Italic.woff2) format(\"woff2\"),url(fonts/KaTeX_Math-Italic.woff) format(\"woff\"),url(fonts/KaTeX_Math-Italic.ttf) format(\"truetype\")}@font-face{font-display:block;font-family:\"KaTeX_SansSerif\";font-style:normal;font-weight:700;src:url(fonts/KaTeX_SansSerif-Bold.woff2) format(\"woff2\"),url(fonts/KaTeX_SansSerif-Bold.woff) format(\"woff\"),url(fonts/KaTeX_SansSerif-Bold.ttf) format(\"truetype\")}@font-face{font-display:block;font-family:\"KaTeX_SansSerif\";font-style:italic;font-weight:400;src:url(fonts/KaTeX_SansSerif-Italic.woff2) format(\"woff2\"),url(fonts/KaTeX_SansSerif-Italic.woff) format(\"woff\"),url(fonts/KaTeX_SansSerif-Italic.ttf) format(\"truetype\")}@font-face{font-display:block;font-family:\"KaTeX_SansSerif\";font-style:normal;font-weight:400;src:url(fonts/KaTeX_SansSerif-Regular.woff2) format(\"woff2\"),url(fonts/KaTeX_SansSerif-Regular.woff) format(\"woff\"),url(fonts/KaTeX_SansSerif-Regular.ttf) format(\"truetype\")}@font-face{font-display:block;font-family:KaTeX_Script;font-style:normal;font-weight:400;src:url(fonts/KaTeX_Script-Regular.woff2) format(\"woff2\"),url(fonts/KaTeX_Script-Regular.woff) format(\"woff\"),url(fonts/KaTeX_Script-Regular.ttf) format(\"truetype\")}@font-face{font-display:block;font-family:KaTeX_Size1;font-style:normal;font-weight:400;src:url(fonts/KaTeX_Size1-Regular.woff2) format(\"woff2\"),url(fonts/KaTeX_Size1-Regular.woff) format(\"woff\"),url(fonts/KaTeX_Size1-Regular.ttf) format(\"truetype\")}@font-face{font-display:block;font-family:KaTeX_Size2;font-style:normal;font-weight:400;src:url(fonts/KaTeX_Size2-Regular.woff2) format(\"woff2\"),url(fonts/KaTeX_Size2-Regular.woff) format(\"woff\"),url(fonts/KaTeX_Size2-Regular.ttf) format(\"truetype\")}@font-face{font-display:block;font-family:KaTeX_Size3;font-style:normal;font-weight:400;src:url(fonts/KaTeX_Size3-Regular.woff2) format(\"woff2\"),url(fonts/KaTeX_Size3-Regular.woff) format(\"woff\"),url(fonts/KaTeX_Size3-Regular.ttf) format(\"truetype\")}@font-face{font-display:block;font-family:KaTeX_Size4;font-style:normal;font-weight:400;src:url(fonts/KaTeX_Size4-Regular.woff2) format(\"woff2\"),url(fonts/KaTeX_Size4-Regular.woff) format(\"woff\"),url(fonts/KaTeX_Size4-Regular.ttf) format(\"truetype\")}@font-face{font-display:block;font-family:KaTeX_Typewriter;font-style:normal;font-weight:400;src:url(fonts/KaTeX_Typewriter-Regular.woff2) format(\"woff2\"),url(fonts/KaTeX_Typewriter-Regular.woff) format(\"woff\"),url(fonts/KaTeX_Typewriter-Regular.ttf) format(\"truetype\")}.katex{font:normal 1.21em KaTeX_Main,Times New Roman,serif;line-height:1.2;text-indent:0;text-rendering:auto}.katex *{-ms-high-contrast-adjust:none!important;border-color:currentColor}.katex .katex-version:after{content:\"0.16.25\"}.katex .katex-mathml{clip:rect(1px,1px,1px,1px);border:0;height:1px;overflow:hidden;padding:0;position:absolute;width:1px}.katex .katex-html>.newline{display:block}.katex .base{position:relative;white-space:nowrap;width:-webkit-min-content;width:-moz-min-content;width:min-content}.katex .base,.katex .strut{display:inline-block}.katex .textbf{font-weight:700}.katex .textit{font-style:italic}.katex .textrm{font-family:KaTeX_Main}.katex .textsf{font-family:KaTeX_SansSerif}.katex .texttt{font-family:KaTeX_Typewriter}.katex .mathnormal{font-family:KaTeX_Math;font-style:italic}.katex .mathit{font-family:KaTeX_Main;font-style:italic}.katex .mathrm{font-style:normal}.katex .mathbf{font-family:KaTeX_Main;font-weight:700}.katex .boldsymbol{font-family:KaTeX_Math;font-style:italic;font-weight:700}.katex .amsrm,.katex .mathbb,.katex .textbb{font-family:KaTeX_AMS}.katex .mathcal{font-family:KaTeX_Caligraphic}.katex .mathfrak,.katex .textfrak{font-family:KaTeX_Fraktur}.katex .mathboldfrak,.katex .textboldfrak{font-family:KaTeX_Fraktur;font-weight:700}.katex .mathtt{font-family:KaTeX_Typewriter}.katex .mathscr,.katex .textscr{font-family:KaTeX_Script}.katex .mathsf,.katex .textsf{font-family:KaTeX_SansSerif}.katex .mathboldsf,.katex .textboldsf{font-family:KaTeX_SansSerif;font-weight:700}.katex .mathitsf,.katex .mathsfit,.katex .textitsf{font-family:KaTeX_SansSerif;font-style:italic}.katex .mainrm{font-family:KaTeX_Main;font-style:normal}.katex .vlist-t{border-collapse:collapse;display:inline-table;table-layout:fixed}.katex .vlist-r{display:table-row}.katex .vlist{display:table-cell;position:relative;vertical-align:bottom}.katex .vlist>span{display:block;height:0;position:relative}.katex .vlist>span>span{display:inline-block}.katex .vlist>span>.pstrut{overflow:hidden;width:0}.katex .vlist-t2{margin-right:-2px}.katex .vlist-s{display:table-cell;font-size:1px;min-width:2px;vertical-align:bottom;width:2px}.katex .vbox{align-items:baseline;display:inline-flex;flex-direction:column}.katex .hbox{width:100%}.katex .hbox,.katex .thinbox{display:inline-flex;flex-direction:row}.katex .thinbox{max-width:0;width:0}.katex .msupsub{text-align:left}.katex .mfrac>span>span{text-align:center}.katex .mfrac .frac-line{border-bottom-style:solid;display:inline-block;width:100%}.katex .hdashline,.katex .hline,.katex .mfrac .frac-line,.katex .overline .overline-line,.katex .rule,.katex .underline .underline-line{min-height:1px}.katex .mspace{display:inline-block}.katex .clap,.katex .llap,.katex .rlap{position:relative;width:0}.katex .clap>.inner,.katex .llap>.inner,.katex .rlap>.inner{position:absolute}.katex .clap>.fix,.katex .llap>.fix,.katex .rlap>.fix{display:inline-block}.katex .llap>.inner{right:0}.katex .clap>.inner,.katex .rlap>.inner{left:0}.katex .clap>.inner>span{margin-left:-50%;margin-right:50%}.katex .rule{border:0 solid;display:inline-block;position:relative}.katex .hline,.katex .overline .overline-line,.katex .underline .underline-line{border-bottom-style:solid;display:inline-block;width:100%}.katex .hdashline{border-bottom-style:dashed;display:inline-block;width:100%}.katex .sqrt>.root{margin-left:.2777777778em;margin-right:-.5555555556em}.katex .fontsize-ensurer.reset-size1.size1,.katex .sizing.reset-size1.size1{font-size:1em}.katex .fontsize-ensurer.reset-size1.size2,.katex .sizing.reset-size1.size2{font-size:1.2em}.katex .fontsize-ensurer.reset-size1.size3,.katex .sizing.reset-size1.size3{font-size:1.4em}.katex .fontsize-ensurer.reset-size1.size4,.katex .sizing.reset-size1.size4{font-size:1.6em}.katex .fontsize-ensurer.reset-size1.size5,.katex .sizing.reset-size1.size5{font-size:1.8em}.katex .fontsize-ensurer.reset-size1.size6,.katex .sizing.reset-size1.size6{font-size:2em}.katex .fontsize-ensurer.reset-size1.size7,.katex .sizing.reset-size1.size7{font-size:2.4em}.katex .fontsize-ensurer.reset-size1.size8,.katex .sizing.reset-size1.size8{font-size:2.88em}.katex .fontsize-ensurer.reset-size1.size9,.katex .sizing.reset-size1.size9{font-size:3.456em}.katex .fontsize-ensurer.reset-size1.size10,.katex .sizing.reset-size1.size10{font-size:4.148em}.katex .fontsize-ensurer.reset-size1.size11,.katex .sizing.reset-size1.size11{font-size:4.976em}.katex .fontsize-ensurer.reset-size2.size1,.katex .sizing.reset-size2.size1{font-size:.8333333333em}.katex .fontsize-ensurer.reset-size2.size2,.katex .sizing.reset-size2.size2{font-size:1em}.katex .fontsize-ensurer.reset-size2.size3,.katex .sizing.reset-size2.size3{font-size:1.1666666667em}.katex .fontsize-ensurer.reset-size2.size4,.katex .sizing.reset-size2.size4{font-size:1.3333333333em}.katex .fontsize-ensurer.reset-size2.size5,.katex .sizing.reset-size2.size5{font-size:1.5em}.katex .fontsize-ensurer.reset-size2.size6,.katex .sizing.reset-size2.size6{font-size:1.6666666667em}.katex .fontsize-ensurer.reset-size2.size7,.katex .sizing.reset-size2.size7{font-size:2em}.katex .fontsize-ensurer.reset-size2.size8,.katex .sizing.reset-size2.size8{font-size:2.4em}.katex .fontsize-ensurer.reset-size2.size9,.katex .sizing.reset-size2.size9{font-size:2.88em}.katex .fontsize-ensurer.reset-size2.size10,.katex .sizing.reset-size2.size10{font-size:3.4566666667em}.katex .fontsize-ensurer.reset-size2.size11,.katex .sizing.reset-size2.size11{font-size:4.1466666667em}.katex .fontsize-ensurer.reset-size3.size1,.katex .sizing.reset-size3.size1{font-size:.7142857143em}.katex .fontsize-ensurer.reset-size3.size2,.katex .sizing.reset-size3.size2{font-size:.8571428571em}.katex .fontsize-ensurer.reset-size3.size3,.katex .sizing.reset-size3.size3{font-size:1em}.katex .fontsize-ensurer.reset-size3.size4,.katex .sizing.reset-size3.size4{font-size:1.1428571429em}.katex .fontsize-ensurer.reset-size3.size5,.katex .sizing.reset-size3.size5{font-size:1.2857142857em}.katex .fontsize-ensurer.reset-size3.size6,.katex .sizing.reset-size3.size6{font-size:1.4285714286em}.katex .fontsize-ensurer.reset-size3.size7,.katex .sizing.reset-size3.size7{font-size:1.7142857143em}.katex .fontsize-ensurer.reset-size3.size8,.katex .sizing.reset-size3.size8{font-size:2.0571428571em}.katex .fontsize-ensurer.reset-size3.size9,.katex .sizing.reset-size3.size9{font-size:2.4685714286em}.katex .fontsize-ensurer.reset-size3.size10,.katex .sizing.reset-size3.size10{font-size:2.9628571429em}.katex .fontsize-ensurer.reset-size3.size11,.katex .sizing.reset-size3.size11{font-size:3.5542857143em}.katex .fontsize-ensurer.reset-size4.size1,.katex .sizing.reset-size4.size1{font-size:.625em}.katex .fontsize-ensurer.reset-size4.size2,.katex .sizing.reset-size4.size2{font-size:.75em}.katex .fontsize-ensurer.reset-size4.size3,.katex .sizing.reset-size4.size3{font-size:.875em}.katex .fontsize-ensurer.reset-size4.size4,.katex .sizing.reset-size4.size4{font-size:1em}.katex .fontsize-ensurer.reset-size4.size5,.katex .sizing.reset-size4.size5{font-size:1.125em}.katex .fontsize-ensurer.reset-size4.size6,.katex .sizing.reset-size4.size6{font-size:1.25em}.katex .fontsize-ensurer.reset-size4.size7,.katex .sizing.reset-size4.size7{font-size:1.5em}.katex .fontsize-ensurer.reset-size4.size8,.katex .sizing.reset-size4.size8{font-size:1.8em}.katex .fontsize-ensurer.reset-size4.size9,.katex .sizing.reset-size4.size9{font-size:2.16em}.katex .fontsize-ensurer.reset-size4.size10,.katex .sizing.reset-size4.size10{font-size:2.5925em}.katex .fontsize-ensurer.reset-size4.size11,.katex .sizing.reset-size4.size11{font-size:3.11em}.katex .fontsize-ensurer.reset-size5.size1,.katex .sizing.reset-size5.size1{font-size:.5555555556em}.katex .fontsize-ensurer.reset-size5.size2,.katex .sizing.reset-size5.size2{font-size:.6666666667em}.katex .fontsize-ensurer.reset-size5.size3,.katex .sizing.reset-size5.size3{font-size:.7777777778em}.katex .fontsize-ensurer.reset-size5.size4,.katex .sizing.reset-size5.size4{font-size:.8888888889em}.katex .fontsize-ensurer.reset-size5.size5,.katex .sizing.reset-size5.size5{font-size:1em}.katex .fontsize-ensurer.reset-size5.size6,.katex .sizing.reset-size5.size6{font-size:1.1111111111em}.katex .fontsize-ensurer.reset-size5.size7,.katex .sizing.reset-size5.size7{font-size:1.3333333333em}.katex .fontsize-ensurer.reset-size5.size8,.katex .sizing.reset-size5.size8{font-size:1.6em}.katex .fontsize-ensurer.reset-size5.size9,.katex .sizing.reset-size5.size9{font-size:1.92em}.katex .fontsize-ensurer.reset-size5.size10,.katex .sizing.reset-size5.size10{font-size:2.3044444444em}.katex .fontsize-ensurer.reset-size5.size11,.katex .sizing.reset-size5.size11{font-size:2.7644444444em}.katex .fontsize-ensurer.reset-size6.size1,.katex .sizing.reset-size6.size1{font-size:.5em}.katex .fontsize-ensurer.reset-size6.size2,.katex .sizing.reset-size6.size2{font-size:.6em}.katex .fontsize-ensurer.reset-size6.size3,.katex .sizing.reset-size6.size3{font-size:.7em}.katex .fontsize-ensurer.reset-size6.size4,.katex .sizing.reset-size6.size4{font-size:.8em}.katex .fontsize-ensurer.reset-size6.size5,.katex .sizing.reset-size6.size5{font-size:.9em}.katex .fontsize-ensurer.reset-size6.size6,.katex .sizing.reset-size6.size6{font-size:1em}.katex .fontsize-ensurer.reset-size6.size7,.katex .sizing.reset-size6.size7{font-size:1.2em}.katex .fontsize-ensurer.reset-size6.size8,.katex .sizing.reset-size6.size8{font-size:1.44em}.katex .fontsize-ensurer.reset-size6.size9,.katex .sizing.reset-size6.size9{font-size:1.728em}.katex .fontsize-ensurer.reset-size6.size10,.katex .sizing.reset-size6.size10{font-size:2.074em}.katex .fontsize-ensurer.reset-size6.size11,.katex .sizing.reset-size6.size11{font-size:2.488em}.katex .fontsize-ensurer.reset-size7.size1,.katex .sizing.reset-size7.size1{font-size:.4166666667em}.katex .fontsize-ensurer.reset-size7.size2,.katex .sizing.reset-size7.size2{font-size:.5em}.katex .fontsize-ensurer.reset-size7.size3,.katex .sizing.reset-size7.size3{font-size:.5833333333em}.katex .fontsize-ensurer.reset-size7.size4,.katex .sizing.reset-size7.size4{font-size:.6666666667em}.katex .fontsize-ensurer.reset-size7.size5,.katex .sizing.reset-size7.size5{font-size:.75em}.katex .fontsize-ensurer.reset-size7.size6,.katex .sizing.reset-size7.size6{font-size:.8333333333em}.katex .fontsize-ensurer.reset-size7.size7,.katex .sizing.reset-size7.size7{font-size:1em}.katex .fontsize-ensurer.reset-size7.size8,.katex .sizing.reset-size7.size8{font-size:1.2em}.katex .fontsize-ensurer.reset-size7.size9,.katex .sizing.reset-size7.size9{font-size:1.44em}.katex .fontsize-ensurer.reset-size7.size10,.katex .sizing.reset-size7.size10{font-size:1.7283333333em}.katex .fontsize-ensurer.reset-size7.size11,.katex .sizing.reset-size7.size11{font-size:2.0733333333em}.katex .fontsize-ensurer.reset-size8.size1,.katex .sizing.reset-size8.size1{font-size:.3472222222em}.katex .fontsize-ensurer.reset-size8.size2,.katex .sizing.reset-size8.size2{font-size:.4166666667em}.katex .fontsize-ensurer.reset-size8.size3,.katex .sizing.reset-size8.size3{font-size:.4861111111em}.katex .fontsize-ensurer.reset-size8.size4,.katex .sizing.reset-size8.size4{font-size:.5555555556em}.katex .fontsize-ensurer.reset-size8.size5,.katex .sizing.reset-size8.size5{font-size:.625em}.katex .fontsize-ensurer.reset-size8.size6,.katex .sizing.reset-size8.size6{font-size:.6944444444em}.katex .fontsize-ensurer.reset-size8.size7,.katex .sizing.reset-size8.size7{font-size:.8333333333em}.katex .fontsize-ensurer.reset-size8.size8,.katex .sizing.reset-size8.size8{font-size:1em}.katex .fontsize-ensurer.reset-size8.size9,.katex .sizing.reset-size8.size9{font-size:1.2em}.katex .fontsize-ensurer.reset-size8.size10,.katex .sizing.reset-size8.size10{font-size:1.4402777778em}.katex .fontsize-ensurer.reset-size8.size11,.katex .sizing.reset-size8.size11{font-size:1.7277777778em}.katex .fontsize-ensurer.reset-size9.size1,.katex .sizing.reset-size9.size1{font-size:.2893518519em}.katex .fontsize-ensurer.reset-size9.size2,.katex .sizing.reset-size9.size2{font-size:.3472222222em}.katex .fontsize-ensurer.reset-size9.size3,.katex .sizing.reset-size9.size3{font-size:.4050925926em}.katex .fontsize-ensurer.reset-size9.size4,.katex .sizing.reset-size9.size4{font-size:.462962963em}.katex .fontsize-ensurer.reset-size9.size5,.katex .sizing.reset-size9.size5{font-size:.5208333333em}.katex .fontsize-ensurer.reset-size9.size6,.katex .sizing.reset-size9.size6{font-size:.5787037037em}.katex .fontsize-ensurer.reset-size9.size7,.katex .sizing.reset-size9.size7{font-size:.6944444444em}.katex .fontsize-ensurer.reset-size9.size8,.katex .sizing.reset-size9.size8{font-size:.8333333333em}.katex .fontsize-ensurer.reset-size9.size9,.katex .sizing.reset-size9.size9{font-size:1em}.katex .fontsize-ensurer.reset-size9.size10,.katex .sizing.reset-size9.size10{font-size:1.2002314815em}.katex .fontsize-ensurer.reset-size9.size11,.katex .sizing.reset-size9.size11{font-size:1.4398148148em}.katex .fontsize-ensurer.reset-size10.size1,.katex .sizing.reset-size10.size1{font-size:.2410800386em}.katex .fontsize-ensurer.reset-size10.size2,.katex .sizing.reset-size10.size2{font-size:.2892960463em}.katex .fontsize-ensurer.reset-size10.size3,.katex .sizing.reset-size10.size3{font-size:.337512054em}.katex .fontsize-ensurer.reset-size10.size4,.katex .sizing.reset-size10.size4{font-size:.3857280617em}.katex .fontsize-ensurer.reset-size10.size5,.katex .sizing.reset-size10.size5{font-size:.4339440694em}.katex .fontsize-ensurer.reset-size10.size6,.katex .sizing.reset-size10.size6{font-size:.4821600771em}.katex .fontsize-ensurer.reset-size10.size7,.katex .sizing.reset-size10.size7{font-size:.5785920926em}.katex .fontsize-ensurer.reset-size10.size8,.katex .sizing.reset-size10.size8{font-size:.6943105111em}.katex .fontsize-ensurer.reset-size10.size9,.katex .sizing.reset-size10.size9{font-size:.8331726133em}.katex .fontsize-ensurer.reset-size10.size10,.katex .sizing.reset-size10.size10{font-size:1em}.katex .fontsize-ensurer.reset-size10.size11,.katex .sizing.reset-size10.size11{font-size:1.1996142719em}.katex .fontsize-ensurer.reset-size11.size1,.katex .sizing.reset-size11.size1{font-size:.2009646302em}.katex .fontsize-ensurer.reset-size11.size2,.katex .sizing.reset-size11.size2{font-size:.2411575563em}.katex .fontsize-ensurer.reset-size11.size3,.katex .sizing.reset-size11.size3{font-size:.2813504823em}.katex .fontsize-ensurer.reset-size11.size4,.katex .sizing.reset-size11.size4{font-size:.3215434084em}.katex .fontsize-ensurer.reset-size11.size5,.katex .sizing.reset-size11.size5{font-size:.3617363344em}.katex .fontsize-ensurer.reset-size11.size6,.katex .sizing.reset-size11.size6{font-size:.4019292605em}.katex .fontsize-ensurer.reset-size11.size7,.katex .sizing.reset-size11.size7{font-size:.4823151125em}.katex .fontsize-ensurer.reset-size11.size8,.katex .sizing.reset-size11.size8{font-size:.578778135em}.katex .fontsize-ensurer.reset-size11.size9,.katex .sizing.reset-size11.size9{font-size:.6945337621em}.katex .fontsize-ensurer.reset-size11.size10,.katex .sizing.reset-size11.size10{font-size:.8336012862em}.katex .fontsize-ensurer.reset-size11.size11,.katex .sizing.reset-size11.size11{font-size:1em}.katex .delimsizing.size1{font-family:KaTeX_Size1}.katex .delimsizing.size2{font-family:KaTeX_Size2}.katex .delimsizing.size3{font-family:KaTeX_Size3}.katex .delimsizing.size4{font-family:KaTeX_Size4}.katex .delimsizing.mult .delim-size1>span{font-family:KaTeX_Size1}.katex .delimsizing.mult .delim-size4>span{font-family:KaTeX_Size4}.katex .nulldelimiter{display:inline-block;width:.12em}.katex .delimcenter,.katex .op-symbol{position:relative}.katex .op-symbol.small-op{font-family:KaTeX_Size1}.katex .op-symbol.large-op{font-family:KaTeX_Size2}.katex .accent>.vlist-t,.katex .op-limits>.vlist-t{text-align:center}.katex .accent .accent-body{position:relative}.katex .accent .accent-body:not(.accent-full){width:0}.katex .overlay{display:block}.katex .mtable .vertical-separator{display:inline-block;min-width:1px}.katex .mtable .arraycolsep{display:inline-block}.katex .mtable .col-align-c>.vlist-t{text-align:center}.katex .mtable .col-align-l>.vlist-t{text-align:left}.katex .mtable .col-align-r>.vlist-t{text-align:right}.katex .svg-align{text-align:left}.katex svg{fill:currentColor;stroke:currentColor;fill-rule:nonzero;fill-opacity:1;stroke-width:1;stroke-linecap:butt;stroke-linejoin:miter;stroke-miterlimit:4;stroke-dasharray:none;stroke-dashoffset:0;stroke-opacity:1;display:block;height:inherit;position:absolute;width:100%}.katex svg path{stroke:none}.katex img{border-style:none;max-height:none;max-width:none;min-height:0;min-width:0}.katex .stretchy{display:block;overflow:hidden;position:relative;width:100%}.katex .stretchy:after,.katex .stretchy:before{content:\"\"}.katex .hide-tail{overflow:hidden;position:relative;width:100%}.katex .halfarrow-left{left:0;overflow:hidden;position:absolute;width:50.2%}.katex .halfarrow-right{overflow:hidden;position:absolute;right:0;width:50.2%}.katex .brace-left{left:0;overflow:hidden;position:absolute;width:25.1%}.katex .brace-center{left:25%;overflow:hidden;position:absolute;width:50%}.katex .brace-right{overflow:hidden;position:absolute;right:0;width:25.1%}.katex .x-arrow-pad{padding:0 .5em}.katex .cd-arrow-pad{padding:0 .55556em 0 .27778em}.katex .mover,.katex .munder,.katex .x-arrow{text-align:center}.katex .boxpad{padding:0 .3em}.katex .fbox,.katex .fcolorbox{border:.04em solid;box-sizing:border-box}.katex .cancel-pad{padding:0 .2em}.katex .cancel-lap{margin-left:-.2em;margin-right:-.2em}.katex .sout{border-bottom-style:solid;border-bottom-width:.08em}.katex .angl{border-right:.049em solid;border-top:.049em solid;box-sizing:border-box;margin-right:.03889em}.katex .anglpad{padding:0 .03889em}.katex .eqn-num:before{content:\"(\" counter(katexEqnNo) \")\";counter-increment:katexEqnNo}.katex .mml-eqn-num:before{content:\"(\" counter(mmlEqnNo) \")\";counter-increment:mmlEqnNo}.katex .mtr-glue{width:50%}.katex .cd-vert-arrow{display:inline-block;position:relative}.katex .cd-label-left{display:inline-block;position:absolute;right:calc(50% + .3em);text-align:left}.katex .cd-label-right{display:inline-block;left:calc(50% + .3em);position:absolute;text-align:right}.katex-display{display:block;margin:1em 0;text-align:center}.katex-display>.katex{display:block;text-align:center;white-space:nowrap}.katex-display>.katex>.katex-html{display:block;position:relative}.katex-display>.katex>.katex-html>.tag{position:absolute;right:0}.katex-display.leqno>.katex>.katex-html>.tag{left:0;right:auto}.katex-display.fleqn>.katex{padding-left:2em;text-align:left}body{counter-reset:katexEqnNo mmlEqnNo}\n",
       "</style><script id=\"tp-widget-bundle\">\"use strict\";var TPromptsWidgets=(()=>{var c=Object.defineProperty;var m=Object.getOwnPropertyDescriptor;var f=Object.getOwnPropertyNames;var u=Object.prototype.hasOwnProperty;var v=(e,t)=>{for(var o in t)c(e,o,{get:t[o],enumerable:!0})},w=(e,t,o,r)=>{if(t&&typeof t==\"object\"||typeof t==\"function\")for(let i of f(t))!u.call(e,i)&&i!==o&&c(e,i,{get:()=>t[i],enumerable:!(r=m(t,i))||r.enumerable});return e};var h=e=>w(c({},\"__esModule\",{value:!0}),e);var k={};v(k,{VERSION:()=>g,initRuntime:()=>d,initWidget:()=>n,injectStyles:()=>p});function b(e){if(!e||e.length===0)return'<div class=\"tp-empty\">No content</div>';let t=\"\";for(let o of e)if(o.type===\"TextChunk\"&&o.text!==void 0){let r=y(o.text);t+=r}else if(o.type===\"ImageChunk\"&&o.image){let r=o.image;if(r.base64_data){let a=`data:image/${(r.format||\"png\").toLowerCase()};base64,${r.base64_data}`;t+=`\n",
       "<img src=\"${a}\" alt=\"Image ${r.width}x${r.height}\" style=\"max-width: 100%; height: auto; display: block; margin: 8px 0;\" />\n",
       "`}}return t}function y(e){let t=document.createElement(\"div\");return t.textContent=e,t.innerHTML}function n(e){try{let t=e.querySelector('script[data-role=\"tp-widget-data\"]');if(!t||!t.textContent){e.innerHTML='<div class=\"tp-error\">No widget data found</div>';return}let o=JSON.parse(t.textContent);if(!o.ir||!o.ir.chunks){e.innerHTML='<div class=\"tp-error\">No chunks found in widget data</div>';return}let i=`\n",
       "      <div class=\"tp-widget-output\">\n",
       "        <pre style=\"white-space: pre-wrap; font-family: monospace; margin: 0; padding: 8px; background: #f5f5f5; border-radius: 4px;\">${b(o.ir.chunks)}</pre>\n",
       "      </div>\n",
       "    `,a=e.querySelector(\".tp-widget-mount\");a?a.innerHTML=i:e.innerHTML=i}catch(t){console.error(\"Widget initialization error:\",t),e.innerHTML=`<div class=\"tp-error\">Failed to initialize widget: ${t instanceof Error?t.message:String(t)}</div>`}}var s=`/* T-Prompts Widget Styles - Phase 1 */\n",
       "\n",
       ":root {\n",
       "  --tp-color-bg: #ffffff;\n",
       "  --tp-color-fg: #24292e;\n",
       "  --tp-color-border: #e1e4e8;\n",
       "  --tp-color-accent: #0366d6;\n",
       "  --tp-color-muted: #6a737d;\n",
       "  --tp-color-error: #d73a49;\n",
       "  --tp-font-family: -apple-system, BlinkMacSystemFont, 'Segoe UI', 'Noto Sans', Helvetica, Arial, sans-serif;\n",
       "  --tp-font-mono: 'SF Mono', Monaco, 'Cascadia Code', 'Roboto Mono', Consolas, 'Courier New', monospace;\n",
       "  --tp-spacing: 8px;\n",
       "}\n",
       "\n",
       "/* Dark mode support */\n",
       "@media (prefers-color-scheme: dark) {\n",
       "  :root {\n",
       "    --tp-color-bg: #0d1117;\n",
       "    --tp-color-fg: #c9d1d9;\n",
       "    --tp-color-border: #30363d;\n",
       "    --tp-color-accent: #58a6ff;\n",
       "    --tp-color-muted: #8b949e;\n",
       "    --tp-color-error: #f85149;\n",
       "  }\n",
       "}\n",
       "\n",
       ".tp-widget-container {\n",
       "  display: grid;\n",
       "  grid-template-columns: 1fr 1fr 1fr;\n",
       "  gap: var(--tp-spacing);\n",
       "  font-family: var(--tp-font-family);\n",
       "  font-size: 14px;\n",
       "  color: var(--tp-color-fg);\n",
       "  background: var(--tp-color-bg);\n",
       "  border: 1px solid var(--tp-color-border);\n",
       "  border-radius: 6px;\n",
       "  padding: var(--tp-spacing);\n",
       "  margin: calc(var(--tp-spacing) * 2) 0;\n",
       "  max-width: 100%;\n",
       "  overflow: hidden;\n",
       "}\n",
       "\n",
       ".tp-pane {\n",
       "  border: 1px solid var(--tp-color-border);\n",
       "  border-radius: 4px;\n",
       "  padding: var(--tp-spacing);\n",
       "  overflow: auto;\n",
       "  max-height: 600px;\n",
       "  background: var(--tp-color-bg);\n",
       "}\n",
       "\n",
       ".tp-pane h4 {\n",
       "  margin: 0 0 var(--tp-spacing) 0;\n",
       "  font-size: 13px;\n",
       "  font-weight: 600;\n",
       "  color: var(--tp-color-muted);\n",
       "  text-transform: uppercase;\n",
       "  letter-spacing: 0.5px;\n",
       "}\n",
       "\n",
       "/* Tree Pane */\n",
       ".tp-tree {\n",
       "  list-style: none;\n",
       "  padding: 0;\n",
       "  margin: 0;\n",
       "}\n",
       "\n",
       ".tp-tree ul {\n",
       "  list-style: none;\n",
       "  padding-left: calc(var(--tp-spacing) * 2);\n",
       "  margin: calc(var(--tp-spacing) / 2) 0;\n",
       "}\n",
       "\n",
       ".tp-tree li {\n",
       "  padding: calc(var(--tp-spacing) / 4) 0;\n",
       "}\n",
       "\n",
       ".tp-tree-label {\n",
       "  font-family: var(--tp-font-mono);\n",
       "  font-size: 12px;\n",
       "  color: var(--tp-color-fg);\n",
       "}\n",
       "\n",
       ".tp-tree-prompt > .tp-tree-label {\n",
       "  font-weight: 600;\n",
       "  color: var(--tp-color-accent);\n",
       "}\n",
       "\n",
       ".tp-tree-interpolation > .tp-tree-label {\n",
       "  color: var(--tp-color-accent);\n",
       "}\n",
       "\n",
       ".tp-tree-nested_prompt > .tp-tree-label {\n",
       "  color: #6f42c1;\n",
       "  font-weight: 500;\n",
       "}\n",
       "\n",
       ".tp-tree-list > .tp-tree-label {\n",
       "  color: #d73a49;\n",
       "  font-weight: 500;\n",
       "}\n",
       "\n",
       ".tp-tree-static > .tp-tree-label {\n",
       "  color: var(--tp-color-muted);\n",
       "}\n",
       "\n",
       "/* Code Pane */\n",
       ".tp-code {\n",
       "  font-family: var(--tp-font-mono);\n",
       "  font-size: 12px;\n",
       "  line-height: 1.6;\n",
       "  white-space: pre-wrap;\n",
       "  word-wrap: break-word;\n",
       "  color: var(--tp-color-fg);\n",
       "  overflow-x: auto;\n",
       "}\n",
       "\n",
       ".tp-code-text {\n",
       "  white-space: pre-wrap;\n",
       "}\n",
       "\n",
       ".tp-code-interp {\n",
       "  color: var(--tp-color-accent);\n",
       "  font-weight: 500;\n",
       "  cursor: help;\n",
       "}\n",
       "\n",
       ".tp-code-nested-start,\n",
       ".tp-code-nested-end {\n",
       "  color: #6f42c1;\n",
       "  font-weight: 600;\n",
       "}\n",
       "\n",
       ".tp-code-list-start,\n",
       ".tp-code-list-end {\n",
       "  color: #d73a49;\n",
       "  font-weight: 600;\n",
       "}\n",
       "\n",
       ".tp-code-separator {\n",
       "  color: var(--tp-color-muted);\n",
       "  font-style: italic;\n",
       "}\n",
       "\n",
       ".tp-code-image {\n",
       "  color: #22863a;\n",
       "  font-weight: 500;\n",
       "  cursor: help;\n",
       "}\n",
       "\n",
       "/* Preview Pane */\n",
       ".tp-preview {\n",
       "  font-family: var(--tp-font-family);\n",
       "  font-size: 14px;\n",
       "  line-height: 1.6;\n",
       "  color: var(--tp-color-fg);\n",
       "}\n",
       "\n",
       ".tp-preview h1,\n",
       ".tp-preview h2,\n",
       ".tp-preview h3,\n",
       ".tp-preview h4,\n",
       ".tp-preview h5,\n",
       ".tp-preview h6 {\n",
       "  margin-top: calc(var(--tp-spacing) * 2);\n",
       "  margin-bottom: var(--tp-spacing);\n",
       "  font-weight: 600;\n",
       "  line-height: 1.25;\n",
       "}\n",
       "\n",
       ".tp-preview h1 { font-size: 2em; border-bottom: 1px solid var(--tp-color-border); padding-bottom: 0.3em; }\n",
       ".tp-preview h2 { font-size: 1.5em; border-bottom: 1px solid var(--tp-color-border); padding-bottom: 0.3em; }\n",
       ".tp-preview h3 { font-size: 1.25em; }\n",
       ".tp-preview h4 { font-size: 1em; }\n",
       ".tp-preview h5 { font-size: 0.875em; }\n",
       ".tp-preview h6 { font-size: 0.85em; color: var(--tp-color-muted); }\n",
       "\n",
       ".tp-preview p {\n",
       "  margin-top: 0;\n",
       "  margin-bottom: calc(var(--tp-spacing) * 2);\n",
       "}\n",
       "\n",
       ".tp-preview code {\n",
       "  font-family: var(--tp-font-mono);\n",
       "  font-size: 85%;\n",
       "  background: var(--tp-color-border);\n",
       "  padding: 0.2em 0.4em;\n",
       "  border-radius: 3px;\n",
       "}\n",
       "\n",
       ".tp-preview pre {\n",
       "  font-family: var(--tp-font-mono);\n",
       "  font-size: 85%;\n",
       "  background: var(--tp-color-border);\n",
       "  padding: calc(var(--tp-spacing) * 2);\n",
       "  border-radius: 6px;\n",
       "  overflow: auto;\n",
       "  line-height: 1.45;\n",
       "}\n",
       "\n",
       ".tp-preview pre code {\n",
       "  background: transparent;\n",
       "  padding: 0;\n",
       "  border-radius: 0;\n",
       "}\n",
       "\n",
       "/* Error display */\n",
       ".tp-error {\n",
       "  color: var(--tp-color-error);\n",
       "  font-family: var(--tp-font-mono);\n",
       "  font-size: 12px;\n",
       "  padding: var(--tp-spacing);\n",
       "  background: rgba(248, 81, 73, 0.1);\n",
       "  border: 1px solid var(--tp-color-error);\n",
       "  border-radius: 4px;\n",
       "  margin: var(--tp-spacing) 0;\n",
       "}\n",
       "\n",
       "/* Responsive layout */\n",
       "@media (max-width: 1200px) {\n",
       "  .tp-widget-container {\n",
       "    grid-template-columns: 1fr;\n",
       "  }\n",
       "\n",
       "  .tp-pane {\n",
       "    max-height: 400px;\n",
       "  }\n",
       "}\n",
       "\n",
       "@media (min-width: 1201px) and (max-width: 1600px) {\n",
       "  .tp-widget-container {\n",
       "    grid-template-columns: 1fr 1fr;\n",
       "  }\n",
       "}\n",
       "`;var g=\"0.9.0-alpha\";function p(){if(window.__TPWidget?.stylesInjected)return;let e=\"tp-widget-styles\";if(document.getElementById(e))return;let t=document.createElement(\"style\");t.id=e,t.textContent=s,document.head.appendChild(t),window.__TPWidget&&(window.__TPWidget.stylesInjected=!0)}function d(){window.__TPWidget||(window.__TPWidget={version:g,initWidget:n,stylesInjected:!1})}function l(){d(),p(),document.querySelectorAll(\"[data-tp-widget]\").forEach(t=>{t instanceof HTMLElement&&!t.dataset.tpInitialized&&(n(t),t.dataset.tpInitialized=\"true\")})}document.readyState===\"loading\"?document.addEventListener(\"DOMContentLoaded\",l):l();typeof MutationObserver<\"u\"&&new MutationObserver(t=>{t.forEach(o=>{o.addedNodes.forEach(r=>{r instanceof HTMLElement&&(r.matches(\"[data-tp-widget]\")&&!r.dataset.tpInitialized&&(d(),p(),n(r),r.dataset.tpInitialized=\"true\"),r.querySelectorAll(\"[data-tp-widget]\").forEach(a=>{a instanceof HTMLElement&&!a.dataset.tpInitialized&&(d(),p(),n(a),a.dataset.tpInitialized=\"true\")}))})})}).observe(document.body,{childList:!0,subtree:!0});return h(k);})();\n",
       "//# sourceMappingURL=index.js.map\n",
       "</script>\n",
       "<div class=\"tp-widget-root\" data-tp-widget>\n",
       "    <script data-role=\"tp-widget-data\" type=\"application/json\">{\"compiled_ir\": {\"ir_id\": \"90b87829-a2d4-4901-a63b-cf7342eadb2f\", \"subtree_map\": {\"b2560655-c298-4ab5-9b2a-597d92f0ca5a\": [\"6929eb32-a31a-4692-a9e2-15987467174e\"], \"6fc6102e-8bcc-4d03-bbfe-dd10f60199dd\": [\"fadee48f-3fd6-4b2c-94ec-607dd5cf8a4e\"], \"1957ee61-3fa8-40ca-921e-fba51da3ed19\": [\"fadee48f-3fd6-4b2c-94ec-607dd5cf8a4e\"], \"29cbd6b3-aea2-4d0e-8f2d-80c946f57d57\": [\"fadee48f-3fd6-4b2c-94ec-607dd5cf8a4e\"], \"e542e026-e41a-48c7-bafd-7b2f361524dc\": [\"c89a85ee-056f-44f9-a1f7-93375e276230\"], \"74030357-7836-4c8d-8de7-8eb99e191c26\": [\"064ba27d-5a13-4823-b057-86d4ca2a55d4\"], \"721c7394-a083-4566-a5db-7d349aedce00\": [], \"281ee931-812d-4b93-8176-0a098d0b59ff\": [\"6929eb32-a31a-4692-a9e2-15987467174e\", \"fadee48f-3fd6-4b2c-94ec-607dd5cf8a4e\", \"c89a85ee-056f-44f9-a1f7-93375e276230\", \"064ba27d-5a13-4823-b057-86d4ca2a55d4\"]}, \"num_elements\": 8}, \"ir\": {\"chunks\": [{\"type\": \"TextChunk\", \"text\": \"System: \", \"element_id\": \"b2560655-c298-4ab5-9b2a-597d92f0ca5a\", \"id\": \"6929eb32-a31a-4692-a9e2-15987467174e\", \"metadata\": {}}, {\"type\": \"TextChunk\", \"text\": \"You are a helpful AI assistant.\", \"element_id\": \"6fc6102e-8bcc-4d03-bbfe-dd10f60199dd\", \"id\": \"fadee48f-3fd6-4b2c-94ec-607dd5cf8a4e\", \"metadata\": {}}, {\"type\": \"TextChunk\", \"text\": \"\\nUser: \", \"element_id\": \"e542e026-e41a-48c7-bafd-7b2f361524dc\", \"id\": \"c89a85ee-056f-44f9-a1f7-93375e276230\", \"metadata\": {}}, {\"type\": \"TextChunk\", \"text\": \"What is the capital of France?\", \"element_id\": \"74030357-7836-4c8d-8de7-8eb99e191c26\", \"id\": \"064ba27d-5a13-4823-b057-86d4ca2a55d4\", \"metadata\": {}}], \"source_prompt_id\": \"281ee931-812d-4b93-8176-0a098d0b59ff\", \"id\": \"90b87829-a2d4-4901-a63b-cf7342eadb2f\", \"metadata\": {}}, \"source_prompt\": {\"prompt_id\": \"281ee931-812d-4b93-8176-0a098d0b59ff\", \"children\": [{\"type\": \"static\", \"id\": \"b2560655-c298-4ab5-9b2a-597d92f0ca5a\", \"parent_id\": \"281ee931-812d-4b93-8176-0a098d0b59ff\", \"key\": 0, \"index\": 0, \"source_location\": {\"filename\": \"2976201904.py\", \"filepath\": \"/private/var/folders/wr/5n6v6bvj6mxdxjcg5_5ss1ph0000gn/T/ipykernel_7399/2976201904.py\", \"line\": 3}, \"value\": \"System: \"}, {\"type\": \"nested_prompt\", \"id\": \"29cbd6b3-aea2-4d0e-8f2d-80c946f57d57\", \"parent_id\": \"281ee931-812d-4b93-8176-0a098d0b59ff\", \"key\": \"sys\", \"index\": 1, \"source_location\": {\"filename\": \"2976201904.py\", \"filepath\": \"/private/var/folders/wr/5n6v6bvj6mxdxjcg5_5ss1ph0000gn/T/ipykernel_7399/2976201904.py\", \"line\": 3}, \"expression\": \"system_msg\", \"conversion\": null, \"format_spec\": \"sys\", \"render_hints\": \"\", \"prompt_id\": \"1957ee61-3fa8-40ca-921e-fba51da3ed19\", \"children\": [{\"type\": \"static\", \"id\": \"6fc6102e-8bcc-4d03-bbfe-dd10f60199dd\", \"parent_id\": \"29cbd6b3-aea2-4d0e-8f2d-80c946f57d57\", \"key\": 0, \"index\": 0, \"source_location\": {\"filename\": \"2976201904.py\", \"filepath\": \"/private/var/folders/wr/5n6v6bvj6mxdxjcg5_5ss1ph0000gn/T/ipykernel_7399/2976201904.py\", \"line\": 1}, \"value\": \"You are a helpful AI assistant.\"}]}, {\"type\": \"static\", \"id\": \"e542e026-e41a-48c7-bafd-7b2f361524dc\", \"parent_id\": \"281ee931-812d-4b93-8176-0a098d0b59ff\", \"key\": 1, \"index\": 2, \"source_location\": {\"filename\": \"2976201904.py\", \"filepath\": \"/private/var/folders/wr/5n6v6bvj6mxdxjcg5_5ss1ph0000gn/T/ipykernel_7399/2976201904.py\", \"line\": 3}, \"value\": \"\\nUser: \"}, {\"type\": \"interpolation\", \"id\": \"74030357-7836-4c8d-8de7-8eb99e191c26\", \"parent_id\": \"281ee931-812d-4b93-8176-0a098d0b59ff\", \"key\": \"usr\", \"index\": 3, \"source_location\": {\"filename\": \"2976201904.py\", \"filepath\": \"/private/var/folders/wr/5n6v6bvj6mxdxjcg5_5ss1ph0000gn/T/ipykernel_7399/2976201904.py\", \"line\": 3}, \"expression\": \"user_msg\", \"conversion\": null, \"format_spec\": \"usr\", \"render_hints\": \"\", \"value\": \"What is the capital of France?\"}, {\"type\": \"static\", \"id\": \"721c7394-a083-4566-a5db-7d349aedce00\", \"parent_id\": \"281ee931-812d-4b93-8176-0a098d0b59ff\", \"key\": 2, \"index\": 4, \"source_location\": {\"filename\": \"2976201904.py\", \"filepath\": \"/private/var/folders/wr/5n6v6bvj6mxdxjcg5_5ss1ph0000gn/T/ipykernel_7399/2976201904.py\", \"line\": 3}, \"value\": \"\"}]}}</script>\n",
       "    <div class=\"tp-widget-mount\"></div>\n",
       "</div>\n"
      ],
      "text/plain": [
       "StructuredPrompt(keys=['sys', 'usr'], num_interpolations=2)"
      ]
     },
     "execution_count": 2,
     "metadata": {},
     "output_type": "execute_result"
    }
   ],
   "source": [
    "system_msg = prompt(t\"You are a helpful AI assistant.\")\n",
    "user_msg = \"What is the capital of France?\"\n",
    "conversation = prompt(t\"System: {system_msg:sys}\\nUser: {user_msg:usr}\")\n",
    "conversation"
   ]
  },
  {
   "cell_type": "markdown",
   "metadata": {},
   "source": [
    "## Test 4: Multi-line Prompt with Dedenting"
   ]
  },
  {
   "cell_type": "code",
   "execution_count": null,
   "metadata": {
    "execution": {
     "iopub.execute_input": "2025-10-14T23:58:41.325507Z",
     "iopub.status.busy": "2025-10-14T23:58:41.325429Z",
     "iopub.status.idle": "2025-10-14T23:58:41.327668Z",
     "shell.execute_reply": "2025-10-14T23:58:41.327454Z"
    }
   },
   "outputs": [],
   "source": [
    "task = \"summarize\"\n",
    "topic = \"climate change\"\n",
    "p4 = dedent(t\"\"\"\n",
    "    You are an expert writer.\n",
    "\n",
    "    Task: {task:t}\n",
    "    Topic: {topic:top}\n",
    "\n",
    "    Please provide a detailed response.\n",
    "\"\"\")\n",
    "p4"
   ]
  },
  {
   "cell_type": "markdown",
   "metadata": {},
   "source": [
    "## Test 5: List Interpolation\n",
    "\n",
    "Test visualization of list structures with separators."
   ]
  },
  {
   "cell_type": "code",
   "execution_count": null,
   "metadata": {
    "execution": {
     "iopub.execute_input": "2025-10-14T23:58:41.328976Z",
     "iopub.status.busy": "2025-10-14T23:58:41.328892Z",
     "iopub.status.idle": "2025-10-14T23:58:41.331542Z",
     "shell.execute_reply": "2025-10-14T23:58:41.331173Z"
    }
   },
   "outputs": [],
   "source": [
    "examples = [\n",
    "    prompt(t\"Example 1: Simple addition\"),\n",
    "    prompt(t\"Example 2: Complex multiplication\"),\n",
    "    prompt(t\"Example 3: Division with remainder\")\n",
    "]\n",
    "p5 = prompt(t\"Here are some examples:\\n{examples:ex:sep=\\\\n\\\\n}\")\n",
    "p5"
   ]
  },
  {
   "cell_type": "markdown",
   "metadata": {},
   "source": [
    "## Test 6: Render Hints - XML Wrapper"
   ]
  },
  {
   "cell_type": "code",
   "execution_count": null,
   "metadata": {
    "execution": {
     "iopub.execute_input": "2025-10-14T23:58:41.332755Z",
     "iopub.status.busy": "2025-10-14T23:58:41.332662Z",
     "iopub.status.idle": "2025-10-14T23:58:41.334873Z",
     "shell.execute_reply": "2025-10-14T23:58:41.334658Z"
    }
   },
   "outputs": [],
   "source": [
    "content = \"This content will be wrapped in XML tags.\"\n",
    "p6 = prompt(t\"Content: {content:c:xml=document}\")\n",
    "p6"
   ]
  },
  {
   "cell_type": "markdown",
   "metadata": {},
   "source": [
    "## Test 7: Render Hints - Markdown Header"
   ]
  },
  {
   "cell_type": "code",
   "execution_count": null,
   "metadata": {
    "execution": {
     "iopub.execute_input": "2025-10-14T23:58:41.335992Z",
     "iopub.status.busy": "2025-10-14T23:58:41.335912Z",
     "iopub.status.idle": "2025-10-14T23:58:41.337951Z",
     "shell.execute_reply": "2025-10-14T23:58:41.337696Z"
    }
   },
   "outputs": [],
   "source": [
    "section = \"This is the introduction section.\"\n",
    "p7 = prompt(t\"{section:s:header=Introduction}\")\n",
    "p7"
   ]
  },
  {
   "cell_type": "markdown",
   "metadata": {},
   "source": [
    "## Test 8: IntermediateRepresentation\n",
    "\n",
    "Test visualization of rendered output with source mapping."
   ]
  },
  {
   "cell_type": "code",
   "execution_count": null,
   "metadata": {
    "execution": {
     "iopub.execute_input": "2025-10-14T23:58:41.339181Z",
     "iopub.status.busy": "2025-10-14T23:58:41.339094Z",
     "iopub.status.idle": "2025-10-14T23:58:41.341319Z",
     "shell.execute_reply": "2025-10-14T23:58:41.341098Z"
    }
   },
   "outputs": [],
   "source": [
    "name = \"Alice\"\n",
    "age = \"30\"\n",
    "p8 = prompt(t\"Name: {name:n}, Age: {age:a}\")\n",
    "ir = p8.render()\n",
    "ir"
   ]
  },
  {
   "cell_type": "markdown",
   "metadata": {},
   "source": [
    "## Test 9: Complex Nested Structure\n",
    "\n",
    "Test deeply nested prompts with multiple levels."
   ]
  },
  {
   "cell_type": "code",
   "execution_count": null,
   "metadata": {
    "execution": {
     "iopub.execute_input": "2025-10-14T23:58:41.342435Z",
     "iopub.status.busy": "2025-10-14T23:58:41.342350Z",
     "iopub.status.idle": "2025-10-14T23:58:41.344894Z",
     "shell.execute_reply": "2025-10-14T23:58:41.344676Z"
    }
   },
   "outputs": [],
   "source": [
    "role = \"teacher\"\n",
    "inner = prompt(t\"Role: {role:r}\")\n",
    "middle = prompt(t\"Context: {inner:ctx}\")\n",
    "outer = prompt(t\"System: {middle:sys}\")\n",
    "outer"
   ]
  },
  {
   "cell_type": "markdown",
   "metadata": {},
   "source": [
    "## Test 10: Markdown with KaTeX\n",
    "\n",
    "Test that KaTeX renders LaTeX math correctly in the preview pane."
   ]
  },
  {
   "cell_type": "code",
   "execution_count": null,
   "metadata": {
    "execution": {
     "iopub.execute_input": "2025-10-14T23:58:41.346063Z",
     "iopub.status.busy": "2025-10-14T23:58:41.345980Z",
     "iopub.status.idle": "2025-10-14T23:58:41.348004Z",
     "shell.execute_reply": "2025-10-14T23:58:41.347794Z"
    }
   },
   "outputs": [],
   "source": [
    "formula = \"The quadratic formula is: $x = \\\\frac{-b \\\\pm \\\\sqrt{b^2 - 4ac}}{2a}$\"\n",
    "p10 = prompt(t\"{formula:f}\")\n",
    "p10"
   ]
  },
  {
   "cell_type": "markdown",
   "metadata": {},
   "source": [
    "## Test 11: Combined Features\n",
    "\n",
    "Test a realistic prompt with multiple features."
   ]
  },
  {
   "cell_type": "code",
   "execution_count": null,
   "metadata": {
    "execution": {
     "iopub.execute_input": "2025-10-14T23:58:41.349317Z",
     "iopub.status.busy": "2025-10-14T23:58:41.349178Z",
     "iopub.status.idle": "2025-10-14T23:58:41.352286Z",
     "shell.execute_reply": "2025-10-14T23:58:41.352074Z"
    }
   },
   "outputs": [],
   "source": [
    "system = prompt(t\"You are a helpful assistant specialized in mathematics.\")\n",
    "examples = [\n",
    "    prompt(t\"Q: What is 2+2?\\nA: 4\"),\n",
    "    prompt(t\"Q: What is 5*3?\\nA: 15\")\n",
    "]\n",
    "question = \"What is the derivative of x^2?\"\n",
    "\n",
    "p11 = dedent(t\"\"\"\n",
    "    {system:sys:xml=system}\n",
    "\n",
    "    {examples:ex:header=Examples:sep=\\\\n\\\\n}\n",
    "\n",
    "    Question: {question:q}\n",
    "\"\"\")\n",
    "p11"
   ]
  },
  {
   "cell_type": "markdown",
   "metadata": {},
   "source": [
    "## Test 12: Check HTML Output Size\n",
    "\n",
    "Verify that the singleton pattern is working by comparing HTML sizes."
   ]
  },
  {
   "cell_type": "code",
   "execution_count": null,
   "metadata": {
    "execution": {
     "iopub.execute_input": "2025-10-14T23:58:41.353474Z",
     "iopub.status.busy": "2025-10-14T23:58:41.353397Z",
     "iopub.status.idle": "2025-10-14T23:58:41.356688Z",
     "shell.execute_reply": "2025-10-14T23:58:41.356452Z"
    }
   },
   "outputs": [],
   "source": [
    "# Reset the bundle injection to test from fresh state\n",
    "from t_prompts import widget_renderer\n",
    "\n",
    "widget_renderer._bundle_injected = False\n",
    "\n",
    "# First prompt - should include full bundle\n",
    "p_first = prompt(t\"First prompt\")\n",
    "html_first = p_first._repr_html_()\n",
    "print(f\"First widget HTML size: {len(html_first):,} bytes\")\n",
    "print(f\"Contains bundle: {'tp-widget-bundle' in html_first}\")\n",
    "\n",
    "# Second prompt - should NOT include bundle\n",
    "p_second = prompt(t\"Second prompt\")\n",
    "html_second = p_second._repr_html_()\n",
    "print(f\"\\nSecond widget HTML size: {len(html_second):,} bytes\")\n",
    "print(f\"Contains bundle: {'tp-widget-bundle' in html_second}\")\n",
    "\n",
    "# Calculate size reduction\n",
    "size_diff = len(html_first) - len(html_second)\n",
    "size_pct = 100 * (1 - len(html_second) / len(html_first))\n",
    "print(f\"\\nSize reduction: {size_diff:,} bytes ({size_pct:.1f}% smaller)\")\n"
   ]
  },
  {
   "cell_type": "markdown",
   "metadata": {},
   "source": [
    "## Test 13: Display Multiple Widgets at Once\n",
    "\n",
    "Test that multiple widgets can coexist on the same page."
   ]
  },
  {
   "cell_type": "code",
   "execution_count": null,
   "metadata": {
    "execution": {
     "iopub.execute_input": "2025-10-14T23:58:41.357895Z",
     "iopub.status.busy": "2025-10-14T23:58:41.357819Z",
     "iopub.status.idle": "2025-10-14T23:58:41.361038Z",
     "shell.execute_reply": "2025-10-14T23:58:41.360830Z"
    }
   },
   "outputs": [],
   "source": [
    "from IPython.display import display\n",
    "\n",
    "p13a = prompt(t\"Widget A\")\n",
    "p13b = prompt(t\"Widget B\")\n",
    "p13c = prompt(t\"Widget C\")\n",
    "\n",
    "display(p13a)\n",
    "display(p13b)\n",
    "display(p13c)"
   ]
  },
  {
   "cell_type": "markdown",
   "metadata": {},
   "source": [
    "## Test 14: Source Location Display\n",
    "\n",
    "Test that source location information is captured and displayed."
   ]
  },
  {
   "cell_type": "code",
   "execution_count": null,
   "metadata": {
    "execution": {
     "iopub.execute_input": "2025-10-14T23:58:41.362454Z",
     "iopub.status.busy": "2025-10-14T23:58:41.362324Z",
     "iopub.status.idle": "2025-10-14T23:58:41.365461Z",
     "shell.execute_reply": "2025-10-14T23:58:41.365103Z"
    }
   },
   "outputs": [],
   "source": [
    "value = \"test\"\n",
    "p14 = prompt(t\"Value: {value:v}\")\n",
    "\n",
    "# Check that source location is captured\n",
    "interp = p14['v']\n",
    "if interp.source_location and interp.source_location.is_available:\n",
    "    print(f\"Source location captured: {interp.source_location.format_location()}\")\n",
    "else:\n",
    "    print(\"Source location not available\")\n",
    "\n",
    "p14"
   ]
  },
  {
   "cell_type": "markdown",
   "metadata": {},
   "source": [
    "## Summary\n",
    "\n",
    "If all tests above display correctly, the widget implementation is working as expected:\n",
    "\n",
    "✅ **Phase 0 Features:**\n",
    "- Singleton injection pattern (bundle only injected once)\n",
    "- MutationObserver for dynamic cell rendering (Jupyter compatibility)\n",
    "- CSS de-duplication\n",
    "\n",
    "✅ **Phase 1 Features:**\n",
    "- Three-pane static visualization\n",
    "- Tree structure display\n",
    "- **Code view shows actual rendered text** (not t-string syntax)\n",
    "- **Images rendered as `<img>` tags** using base64 data\n",
    "- Markdown preview with KaTeX rendering\n",
    "- Support for nested prompts\n",
    "- Support for list interpolations\n",
    "- Render hints (XML, headers)\n",
    "- IntermediateRepresentation visualization with chunks\n",
    "- Source location tracking\n",
    "\n",
    "## Expected Behavior\n",
    "\n",
    "**For StructuredPrompt:**\n",
    "- Structure pane: Tree showing all elements (statics, interpolations, nested prompts, lists)\n",
    "- Code view: Shows the rendered text as if you called `str(prompt)`, with images as `<img>` tags\n",
    "- Preview: Placeholder message (no preview until rendered)\n",
    "\n",
    "**For IntermediateRepresentation:**\n",
    "- Structure pane: Tree showing the source prompt structure\n",
    "- Code view: Shows rendered output with text chunks and image chunks as inline `<img>` tags\n",
    "- Preview: Markdown-rendered output with KaTeX math support"
   ]
  },
  {
   "cell_type": "markdown",
   "metadata": {},
   "source": [
    "## Summary\n",
    "\n",
    "If all tests above display correctly, the widget implementation is working as expected:\n",
    "\n",
    "✅ **Phase 0 Features:**\n",
    "- Singleton injection pattern (bundle only injected once)\n",
    "- MutationObserver for dynamic cell rendering (Jupyter compatibility)\n",
    "- CSS de-duplication\n",
    "\n",
    "✅ **Phase 1 Features:**\n",
    "- Three-pane static visualization\n",
    "- Tree structure display\n",
    "- **Code view shows actual rendered text** (not t-string syntax)\n",
    "- **Images rendered as `<img>` tags** using base64 data\n",
    "- **Markdown preview with KaTeX rendering** for LaTeX math\n",
    "- Support for nested prompts\n",
    "- Support for list interpolations\n",
    "- Render hints (XML, headers)\n",
    "- IntermediateRepresentation visualization with chunks\n",
    "- Source location tracking\n",
    "\n",
    "## Expected Behavior\n",
    "\n",
    "**For StructuredPrompt:**\n",
    "- **Structure pane**: Tree showing all elements (statics, interpolations, nested prompts, lists)\n",
    "- **Code view**: Shows the rendered text as if you called `str(prompt)`, with images as inline `<img>` tags\n",
    "- **Preview**: Markdown-rendered output with KaTeX math support (LaTeX rendered)\n",
    "\n",
    "**For IntermediateRepresentation:**\n",
    "- **Structure pane**: Tree showing the source prompt structure\n",
    "- **Code view**: Shows rendered output with text chunks and image chunks as inline `<img>` tags\n",
    "- **Preview**: Markdown-rendered output with KaTeX math support (LaTeX rendered)\n",
    "\n",
    "## KaTeX Math Rendering\n",
    "\n",
    "Both StructuredPrompt and IntermediateRepresentation preview panes support LaTeX math:\n",
    "- Inline math: `$x = y$`\n",
    "- Display math: `$$x = y$$`\n",
    "- All KaTeX features supported (fractions, square roots, matrices, etc.)"
   ]
  },
  {
   "cell_type": "code",
   "execution_count": null,
   "metadata": {
    "execution": {
     "iopub.execute_input": "2025-10-14T23:58:41.366924Z",
     "iopub.status.busy": "2025-10-14T23:58:41.366833Z",
     "iopub.status.idle": "2025-10-14T23:58:41.369213Z",
     "shell.execute_reply": "2025-10-14T23:58:41.368943Z"
    }
   },
   "outputs": [],
   "source": [
    "try:\n",
    "    from PIL import Image\n",
    "\n",
    "    # Create a simple test image\n",
    "    img = Image.new('RGB', (100, 100), color='red')\n",
    "\n",
    "    # Create prompt with image\n",
    "    text = \"Here is a red square:\"\n",
    "    p15 = prompt(t\"{text:txt} {img:image}\")\n",
    "\n",
    "    print(\"Image prompt created. Rendering...\")\n",
    "\n",
    "    # Note: Images cannot be rendered to text, but they can be visualized in JSON\n",
    "    # Let's just display the prompt structure\n",
    "    display(p15)\n",
    "except ImportError:\n",
    "    print(\"PIL not installed - skipping image test\")\n"
   ]
  },
  {
   "cell_type": "markdown",
   "metadata": {},
   "source": [
    "## Test 15: Image Support (Optional)\n",
    "\n",
    "If PIL is installed, test that images are rendered correctly in the code view.\n",
    "\n",
    "**Note:** This test requires `pillow` to be installed. Skip if not available."
   ]
  }
 ],
 "metadata": {
  "kernelspec": {
   "display_name": "structured-prompts",
   "language": "python",
   "name": "python3"
  },
  "language_info": {
   "codemirror_mode": {
    "name": "ipython",
    "version": 3
   },
   "file_extension": ".py",
   "mimetype": "text/x-python",
   "name": "python",
   "nbconvert_exporter": "python",
   "pygments_lexer": "ipython3",
   "version": "3.14.0"
  }
 },
 "nbformat": 4,
 "nbformat_minor": 4
}
