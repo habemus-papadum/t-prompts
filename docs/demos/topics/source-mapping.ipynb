{
 "cells": [
  {
   "cell_type": "markdown",
   "metadata": {},
   "source": [
    "# Source Mapping\n",
    "\n",
    "Learn how to use bidirectional text ↔ structure mapping with `RenderedPrompt`."
   ]
  },
  {
   "cell_type": "code",
   "execution_count": 1,
   "metadata": {
    "execution": {
     "iopub.execute_input": "2025-10-14T08:47:21.273466Z",
     "iopub.status.busy": "2025-10-14T08:47:21.273390Z",
     "iopub.status.idle": "2025-10-14T08:47:21.279365Z",
     "shell.execute_reply": "2025-10-14T08:47:21.279092Z"
    }
   },
   "outputs": [],
   "source": [
    "from t_prompts import prompt"
   ]
  },
  {
   "cell_type": "markdown",
   "metadata": {},
   "source": [
    "## Rendering and Source Maps\n",
    "\n",
    "The `render()` method returns a `RenderedPrompt` with the final text and a source map that tracks which parts of the text came from which interpolations."
   ]
  },
  {
   "cell_type": "code",
   "execution_count": 2,
   "metadata": {
    "execution": {
     "iopub.execute_input": "2025-10-14T08:47:21.280936Z",
     "iopub.status.busy": "2025-10-14T08:47:21.280815Z",
     "iopub.status.idle": "2025-10-14T08:47:21.283923Z",
     "shell.execute_reply": "2025-10-14T08:47:21.283645Z"
    }
   },
   "outputs": [
    {
     "name": "stdout",
     "output_type": "stream",
     "text": [
      "Text: Name: Alice, Age: 30\n",
      "\n",
      "Source map (2 spans):\n",
      "  [6:11] key='n' -> \"Alice\"\n",
      "  [18:20] key='a' -> \"30\"\n"
     ]
    }
   ],
   "source": [
    "name = \"Alice\"\n",
    "age = \"30\"\n",
    "p = prompt(t\"Name: {name:n}, Age: {age:a}\")\n",
    "\n",
    "rendered = p.render()\n",
    "\n",
    "print(f\"Text: {rendered.text}\")\n",
    "print(f\"\\nSource map ({len(rendered.source_map)} spans):\")\n",
    "for span in rendered.source_map:\n",
    "    print(f\"  [{span.start}:{span.end}] key='{span.key}' -> \\\"{rendered.text[span.start:span.end]}\\\"\")"
   ]
  },
  {
   "cell_type": "markdown",
   "metadata": {},
   "source": [
    "## Finding Source by Position\n",
    "\n",
    "Use `get_span_at(pos)` to find which interpolation produced a specific position in the rendered text."
   ]
  },
  {
   "cell_type": "code",
   "execution_count": 3,
   "metadata": {
    "execution": {
     "iopub.execute_input": "2025-10-14T08:47:21.310124Z",
     "iopub.status.busy": "2025-10-14T08:47:21.309983Z",
     "iopub.status.idle": "2025-10-14T08:47:21.312413Z",
     "shell.execute_reply": "2025-10-14T08:47:21.312170Z"
    }
   },
   "outputs": [
    {
     "name": "stdout",
     "output_type": "stream",
     "text": [
      "Position 6:\n",
      "  Key: n\n",
      "  Span: [6:11]\n",
      "  Text: \"Alice\"\n",
      "\n",
      "Position 18:\n",
      "  Key: a\n",
      "  Span: [18:20]\n",
      "  Text: \"30\"\n"
     ]
    }
   ],
   "source": [
    "# Position 6 is in \"Alice\"\n",
    "span = rendered.get_span_at(6)\n",
    "print(f\"Position 6:\")\n",
    "print(f\"  Key: {span.key}\")\n",
    "print(f\"  Span: [{span.start}:{span.end}]\")\n",
    "print(f\"  Text: \\\"{rendered.text[span.start:span.end]}\\\"\")\n",
    "\n",
    "# Position 18 is in \"30\"\n",
    "span = rendered.get_span_at(18)\n",
    "print(f\"\\nPosition 18:\")\n",
    "print(f\"  Key: {span.key}\")\n",
    "print(f\"  Span: [{span.start}:{span.end}]\")\n",
    "print(f\"  Text: \\\"{rendered.text[span.start:span.end]}\\\"\")"
   ]
  },
  {
   "cell_type": "markdown",
   "metadata": {},
   "source": [
    "## Finding Position by Key\n",
    "\n",
    "Use `get_span_for_key(key)` to find where a specific key was rendered in the text."
   ]
  },
  {
   "cell_type": "code",
   "execution_count": 4,
   "metadata": {
    "execution": {
     "iopub.execute_input": "2025-10-14T08:47:21.313862Z",
     "iopub.status.busy": "2025-10-14T08:47:21.313776Z",
     "iopub.status.idle": "2025-10-14T08:47:21.316095Z",
     "shell.execute_reply": "2025-10-14T08:47:21.315796Z"
    }
   },
   "outputs": [
    {
     "name": "stdout",
     "output_type": "stream",
     "text": [
      "Key 'n':\n",
      "  Span: [6:11]\n",
      "  Text: \"Alice\"\n",
      "\n",
      "Key 'a':\n",
      "  Span: [18:20]\n",
      "  Text: \"30\"\n"
     ]
    }
   ],
   "source": [
    "# Find where 'n' (name) was rendered\n",
    "span_n = rendered.get_span_for_key('n')\n",
    "print(f\"Key 'n':\")\n",
    "print(f\"  Span: [{span_n.start}:{span_n.end}]\")\n",
    "print(f\"  Text: \\\"{rendered.text[span_n.start:span_n.end]}\\\"\")\n",
    "\n",
    "# Find where 'a' (age) was rendered\n",
    "span_a = rendered.get_span_for_key('a')\n",
    "print(f\"\\nKey 'a':\")\n",
    "print(f\"  Span: [{span_a.start}:{span_a.end}]\")\n",
    "print(f\"  Text: \\\"{rendered.text[span_a.start:span_a.end]}\\\"\")"
   ]
  },
  {
   "cell_type": "markdown",
   "metadata": {},
   "source": [
    "## Source Mapping for Nested Prompts\n",
    "\n",
    "Source maps work recursively for nested prompts. Each span includes a `path` tuple showing the nesting hierarchy."
   ]
  },
  {
   "cell_type": "code",
   "execution_count": 5,
   "metadata": {
    "execution": {
     "iopub.execute_input": "2025-10-14T08:47:21.317315Z",
     "iopub.status.busy": "2025-10-14T08:47:21.317209Z",
     "iopub.status.idle": "2025-10-14T08:47:21.319458Z",
     "shell.execute_reply": "2025-10-14T08:47:21.319230Z"
    }
   },
   "outputs": [
    {
     "name": "stdout",
     "output_type": "stream",
     "text": [
      "Text: Message: Hello, Alice!\n",
      "\n",
      "Source map with paths:\n",
      "  path=('msg',) key='g' -> \"Hello\"\n",
      "  path=('msg',) key='n' -> \"Alice\"\n"
     ]
    }
   ],
   "source": [
    "greeting = \"Hello\"\n",
    "name = \"Alice\"  # Re-use from earlier example\n",
    "inner = prompt(t\"{greeting:g}, {name:n}!\")\n",
    "outer = prompt(t\"Message: {inner:msg}\")\n",
    "\n",
    "rendered_nested = outer.render()\n",
    "\n",
    "print(f\"Text: {rendered_nested.text}\")\n",
    "print(f\"\\nSource map with paths:\")\n",
    "for span in rendered_nested.source_map:\n",
    "    print(f\"  path={span.path} key='{span.key}' -> \\\"{rendered_nested.text[span.start:span.end]}\\\"\")"
   ]
  },
  {
   "cell_type": "markdown",
   "metadata": {},
   "source": [
    "## Accessing the Original Prompt\n",
    "\n",
    "The `RenderedPrompt` keeps a reference to the original `StructuredPrompt`."
   ]
  },
  {
   "cell_type": "code",
   "execution_count": 6,
   "metadata": {
    "execution": {
     "iopub.execute_input": "2025-10-14T08:47:21.321032Z",
     "iopub.status.busy": "2025-10-14T08:47:21.320944Z",
     "iopub.status.idle": "2025-10-14T08:47:21.322758Z",
     "shell.execute_reply": "2025-10-14T08:47:21.322539Z"
    }
   },
   "outputs": [
    {
     "name": "stdout",
     "output_type": "stream",
     "text": [
      "Key 'msg':\n",
      "  Expression: inner\n",
      "  Type: StructuredPrompt\n"
     ]
    }
   ],
   "source": [
    "# Access the source prompt\n",
    "assert rendered_nested.source_prompt is outer\n",
    "\n",
    "# Use it to get metadata\n",
    "span = rendered_nested.get_span_for_key('msg')\n",
    "node = rendered_nested.source_prompt['msg']\n",
    "print(f\"Key 'msg':\")\n",
    "print(f\"  Expression: {node.expression}\")\n",
    "print(f\"  Type: {type(node.value).__name__}\")"
   ]
  },
  {
   "cell_type": "markdown",
   "metadata": {},
   "source": [
    "## Use Case: Highlighting in a UI\n",
    "\n",
    "Source maps enable building UIs that highlight which parts of a rendered prompt came from which variables."
   ]
  },
  {
   "cell_type": "code",
   "execution_count": 7,
   "metadata": {
    "execution": {
     "iopub.execute_input": "2025-10-14T08:47:21.324890Z",
     "iopub.status.busy": "2025-10-14T08:47:21.324784Z",
     "iopub.status.idle": "2025-10-14T08:47:21.327221Z",
     "shell.execute_reply": "2025-10-14T08:47:21.326948Z"
    }
   },
   "outputs": [
    {
     "name": "stdout",
     "output_type": "stream",
     "text": [
      "Original:\n",
      "Paris is the capital of France.\n",
      "\n",
      "Highlight 'c':\n",
      "**Paris** is the capital of France.\n",
      "\n",
      "Highlight 'co':\n",
      "Paris is the capital of **France**.\n"
     ]
    }
   ],
   "source": [
    "def highlight_key(rendered, key, marker='**'):\n",
    "    \"\"\"Highlight a specific key in the rendered text.\"\"\"\n",
    "    span = rendered.get_span_for_key(key)\n",
    "    text = rendered.text\n",
    "    return text[:span.start] + marker + text[span.start:span.end] + marker + text[span.end:]\n",
    "\n",
    "city = \"Paris\"\n",
    "country = \"France\"\n",
    "p = prompt(t\"{city:c} is the capital of {country:co}.\")\n",
    "r = p.render()\n",
    "\n",
    "print(\"Original:\")\n",
    "print(r.text)\n",
    "print(\"\\nHighlight 'c':\")\n",
    "print(highlight_key(r, 'c'))\n",
    "print(\"\\nHighlight 'co':\")\n",
    "print(highlight_key(r, 'co'))"
   ]
  },
  {
   "cell_type": "markdown",
   "metadata": {},
   "source": [
    "## Use Case: Error Attribution\n",
    "\n",
    "If an LLM returns an error pointing to a character position, you can trace it back to the source variable."
   ]
  },
  {
   "cell_type": "code",
   "execution_count": 8,
   "metadata": {
    "execution": {
     "iopub.execute_input": "2025-10-14T08:47:21.328433Z",
     "iopub.status.busy": "2025-10-14T08:47:21.328335Z",
     "iopub.status.idle": "2025-10-14T08:47:21.330926Z",
     "shell.execute_reply": "2025-10-14T08:47:21.330623Z"
    }
   },
   "outputs": [
    {
     "name": "stdout",
     "output_type": "stream",
     "text": [
      "Error at position 18 traced to:\n",
      "  Key: a\n",
      "  Expression: age\n",
      "  Value: 30\n",
      "  Text: \"30\"\n"
     ]
    }
   ],
   "source": [
    "def trace_error_to_source(rendered, error_pos):\n",
    "    \"\"\"Trace an error position back to its source variable.\"\"\"\n",
    "    try:\n",
    "        span = rendered.get_span_at(error_pos)\n",
    "        if span is None:\n",
    "            # Position is in a literal string, not an interpolation\n",
    "            return None\n",
    "        node = rendered.source_prompt[span.key]\n",
    "        return {\n",
    "            'key': span.key,\n",
    "            'expression': node.expression,\n",
    "            'value': node.value,\n",
    "            'text_span': rendered.text[span.start:span.end]\n",
    "        }\n",
    "    except (KeyError, AttributeError):\n",
    "        return None\n",
    "\n",
    "# Simulate an error at position 18 (in \"30\")\n",
    "error_info = trace_error_to_source(rendered, 18)\n",
    "if error_info:\n",
    "    print(f\"Error at position 18 traced to:\")\n",
    "    print(f\"  Key: {error_info['key']}\")\n",
    "    print(f\"  Expression: {error_info['expression']}\")\n",
    "    print(f\"  Value: {error_info['value']}\")\n",
    "    print(f\"  Text: \\\"{error_info['text_span']}\\\"\")\n",
    "else:\n",
    "    print(\"Position is not in an interpolation.\")"
   ]
  }
 ],
 "metadata": {
  "kernelspec": {
   "display_name": "Python 3",
   "language": "python",
   "name": "python3"
  },
  "language_info": {
   "codemirror_mode": {
    "name": "ipython",
    "version": 3
   },
   "file_extension": ".py",
   "mimetype": "text/x-python",
   "name": "python",
   "nbconvert_exporter": "python",
   "pygments_lexer": "ipython3",
   "version": "3.14.0"
  }
 },
 "nbformat": 4,
 "nbformat_minor": 2
}
