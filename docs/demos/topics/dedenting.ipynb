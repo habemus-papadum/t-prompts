{
 "cells": [
  {
   "cell_type": "markdown",
   "metadata": {},
   "source": [
    "# Dedenting for Readable Source Code\n",
    "\n",
    "This tutorial shows how to write indented multi-line prompts that render without indentation.\n",
    "\n",
    "The `dedent()` function (or `prompt(..., dedent=True)`) allows you to write clean, properly indented source code while producing output without that indentation."
   ]
  },
  {
   "cell_type": "code",
   "execution_count": 1,
   "metadata": {
    "execution": {
     "iopub.execute_input": "2025-10-17T03:12:33.384516Z",
     "iopub.status.busy": "2025-10-17T03:12:33.383007Z",
     "iopub.status.idle": "2025-10-17T03:12:33.431566Z",
     "shell.execute_reply": "2025-10-17T03:12:33.431176Z"
    }
   },
   "outputs": [],
   "source": [
    "from t_prompts import dedent, prompt"
   ]
  },
  {
   "cell_type": "markdown",
   "metadata": {},
   "source": [
    "## The Problem: Indentation in Source vs. Output\n",
    "\n",
    "When writing multi-line prompts in functions or classes, you want readable, properly indented source code. But you don't want that indentation in the final output."
   ]
  },
  {
   "cell_type": "code",
   "execution_count": 2,
   "metadata": {
    "execution": {
     "iopub.execute_input": "2025-10-17T03:12:33.433341Z",
     "iopub.status.busy": "2025-10-17T03:12:33.433199Z",
     "iopub.status.idle": "2025-10-17T03:12:33.435791Z",
     "shell.execute_reply": "2025-10-17T03:12:33.435566Z"
    }
   },
   "outputs": [
    {
     "name": "stdout",
     "output_type": "stream",
     "text": [
      "Without dedenting:\n",
      "You are a helpful assistant.\n",
      "Task: translate to French\n",
      "Please respond.\n"
     ]
    }
   ],
   "source": [
    "def create_prompt_awkward(task):\n",
    "    # Without dedent: awkward to write\n",
    "    p = prompt(t\"\"\"You are a helpful assistant.\n",
    "Task: {task:t}\n",
    "Please respond.\"\"\")\n",
    "    return p\n",
    "\n",
    "task = \"translate to French\"\n",
    "p = create_prompt_awkward(task)\n",
    "print(\"Without dedenting:\")\n",
    "print(str(p))"
   ]
  },
  {
   "cell_type": "markdown",
   "metadata": {},
   "source": [
    "## The Solution: Dedenting\n",
    "\n",
    "Use `dedent()` to write readable, indented source code that renders clean."
   ]
  },
  {
   "cell_type": "code",
   "execution_count": 3,
   "metadata": {
    "execution": {
     "iopub.execute_input": "2025-10-17T03:12:33.459127Z",
     "iopub.status.busy": "2025-10-17T03:12:33.459011Z",
     "iopub.status.idle": "2025-10-17T03:12:33.461595Z",
     "shell.execute_reply": "2025-10-17T03:12:33.461352Z"
    }
   },
   "outputs": [
    {
     "name": "stdout",
     "output_type": "stream",
     "text": [
      "With dedenting:\n",
      "You are a helpful assistant.\n",
      "Task: translate to French\n",
      "Please respond.\n"
     ]
    }
   ],
   "source": [
    "def create_prompt_clean(task):\n",
    "    # With dedent: clean and readable\n",
    "    p = dedent(t\"\"\"\n",
    "        You are a helpful assistant.\n",
    "        Task: {task:t}\n",
    "        Please respond.\n",
    "        \"\"\")\n",
    "    return p\n",
    "\n",
    "task = \"translate to French\"\n",
    "p = create_prompt_clean(task)\n",
    "print(\"With dedenting:\")\n",
    "print(str(p))"
   ]
  },
  {
   "cell_type": "markdown",
   "metadata": {},
   "source": [
    "## How Dedenting Works\n",
    "\n",
    "The `dedent()` function:\n",
    "1. Trims the leading line (if it's just whitespace)\n",
    "2. Finds the indentation level of the first non-empty line\n",
    "3. Removes that much indentation from all lines\n",
    "4. Trims trailing whitespace"
   ]
  },
  {
   "cell_type": "code",
   "execution_count": 4,
   "metadata": {
    "execution": {
     "iopub.execute_input": "2025-10-17T03:12:33.462805Z",
     "iopub.status.busy": "2025-10-17T03:12:33.462714Z",
     "iopub.status.idle": "2025-10-17T03:12:33.465348Z",
     "shell.execute_reply": "2025-10-17T03:12:33.465097Z"
    }
   },
   "outputs": [
    {
     "name": "stdout",
     "output_type": "stream",
     "text": [
      "Without dedent (repr shows whitespace):\n",
      "'    Line 1: content\\n    Line 2'\n",
      "\n",
      "With dedent:\n",
      "'Line 1: content\\nLine 2'\n"
     ]
    }
   ],
   "source": [
    "# Compare with and without dedenting\n",
    "text = \"content\"\n",
    "\n",
    "p_nodedent = prompt(t\"\"\"\n",
    "    Line 1: {text:t}\n",
    "    Line 2\n",
    "    \"\"\")\n",
    "\n",
    "p_dedent = dedent(t\"\"\"\n",
    "    Line 1: {text:t}\n",
    "    Line 2\n",
    "    \"\"\")\n",
    "\n",
    "print(\"Without dedent (repr shows whitespace):\")\n",
    "print(repr(str(p_nodedent)))\n",
    "\n",
    "print(\"\\nWith dedent:\")\n",
    "print(repr(str(p_dedent)))"
   ]
  },
  {
   "cell_type": "markdown",
   "metadata": {},
   "source": [
    "## Dedenting Options\n",
    "\n",
    "Four keyword-only parameters control dedenting behavior:\n",
    "\n",
    "- **`dedent=True`** - Enable dedenting (automatic in `dedent()` function)\n",
    "- **`trim_leading=True`** (default) - Remove first line if whitespace-only\n",
    "- **`trim_empty_leading=True`** (default) - Remove empty lines after first\n",
    "- **`trim_trailing=True`** (default) - Remove trailing whitespace lines"
   ]
  },
  {
   "cell_type": "code",
   "execution_count": 5,
   "metadata": {
    "execution": {
     "iopub.execute_input": "2025-10-17T03:12:33.466565Z",
     "iopub.status.busy": "2025-10-17T03:12:33.466477Z",
     "iopub.status.idle": "2025-10-17T03:12:33.468835Z",
     "shell.execute_reply": "2025-10-17T03:12:33.468607Z"
    }
   },
   "outputs": [
    {
     "name": "stdout",
     "output_type": "stream",
     "text": [
      "Default dedent():\n",
      "'Hello'\n",
      "\n",
      "With trim_trailing=False:\n",
      "'Hello\\n'\n"
     ]
    }
   ],
   "source": [
    "# Default dedent() behavior\n",
    "p1 = dedent(t\"\"\"\n",
    "    Hello\n",
    "    \"\"\")\n",
    "print(\"Default dedent():\")\n",
    "print(repr(str(p1)))\n",
    "\n",
    "# Disable trim_trailing\n",
    "p2 = dedent(t\"\"\"\n",
    "    Hello\n",
    "    \"\"\", trim_trailing=False)\n",
    "print(\"\\nWith trim_trailing=False:\")\n",
    "print(repr(str(p2)))"
   ]
  },
  {
   "cell_type": "markdown",
   "metadata": {},
   "source": [
    "## Using prompt() with dedent=True\n",
    "\n",
    "You can also use `prompt(..., dedent=True)` for more explicit control."
   ]
  },
  {
   "cell_type": "code",
   "execution_count": 6,
   "metadata": {
    "execution": {
     "iopub.execute_input": "2025-10-17T03:12:33.469990Z",
     "iopub.status.busy": "2025-10-17T03:12:33.469903Z",
     "iopub.status.idle": "2025-10-17T03:12:33.472530Z",
     "shell.execute_reply": "2025-10-17T03:12:33.472304Z"
    }
   },
   "outputs": [
    {
     "name": "stdout",
     "output_type": "stream",
     "text": [
      "Using dedent():\n",
      "'Task: test'\n",
      "\n",
      "Using prompt(..., dedent=True):\n",
      "'Task: test'\n",
      "\n",
      "Both produce the same result: True\n"
     ]
    }
   ],
   "source": [
    "# Equivalent ways to dedent\n",
    "task = \"test\"\n",
    "\n",
    "# Using dedent() function\n",
    "p1 = dedent(t\"\"\"\n",
    "    Task: {task:t}\n",
    "    \"\"\")\n",
    "\n",
    "# Using prompt() with dedent=True\n",
    "p2 = prompt(t\"\"\"\n",
    "    Task: {task:t}\n",
    "    \"\"\", dedent=True)\n",
    "\n",
    "print(\"Using dedent():\")\n",
    "print(repr(str(p1)))\n",
    "\n",
    "print(\"\\nUsing prompt(..., dedent=True):\")\n",
    "print(repr(str(p2)))\n",
    "\n",
    "print(f\"\\nBoth produce the same result: {str(p1) == str(p2)}\")"
   ]
  },
  {
   "cell_type": "markdown",
   "metadata": {},
   "source": [
    "## Realistic Example: LLM Prompt with Context\n",
    "\n",
    "Build a well-formatted prompt with multiple sections."
   ]
  },
  {
   "cell_type": "code",
   "execution_count": 7,
   "metadata": {
    "execution": {
     "iopub.execute_input": "2025-10-17T03:12:33.473650Z",
     "iopub.status.busy": "2025-10-17T03:12:33.473568Z",
     "iopub.status.idle": "2025-10-17T03:12:33.475642Z",
     "shell.execute_reply": "2025-10-17T03:12:33.475435Z"
    }
   },
   "outputs": [
    {
     "name": "stdout",
     "output_type": "stream",
     "text": [
      "You are a helpful programming assistant.\n",
      "\n",
      "Context: User is a Python developer learning AI\n",
      "\n",
      "Question: How do I use transformers?\n",
      "\n",
      "Please provide a clear answer with code examples.\n"
     ]
    }
   ],
   "source": [
    "context = \"User is a Python developer learning AI\"\n",
    "question = \"How do I use transformers?\"\n",
    "\n",
    "p = dedent(t\"\"\"\n",
    "    You are a helpful programming assistant.\n",
    "\n",
    "    Context: {context:ctx}\n",
    "\n",
    "    Question: {question:q}\n",
    "\n",
    "    Please provide a clear answer with code examples.\n",
    "    \"\"\")\n",
    "\n",
    "print(str(p))"
   ]
  },
  {
   "cell_type": "markdown",
   "metadata": {},
   "source": [
    "## Dedenting with List Interpolations\n",
    "\n",
    "Combine dedenting with list interpolations for clean, readable code."
   ]
  },
  {
   "cell_type": "code",
   "execution_count": 8,
   "metadata": {
    "execution": {
     "iopub.execute_input": "2025-10-17T03:12:33.476761Z",
     "iopub.status.busy": "2025-10-17T03:12:33.476679Z",
     "iopub.status.idle": "2025-10-17T03:12:33.479347Z",
     "shell.execute_reply": "2025-10-17T03:12:33.479132Z"
    }
   },
   "outputs": [
    {
     "name": "stdout",
     "output_type": "stream",
     "text": [
      "Task: translate to French\n",
      "\n",
      "Examples:\n",
      "English: hello -> French: bonjour\n",
      "English: goodbye -> French: au revoir\n",
      "English: thank you -> French: merci\n",
      "\n",
      "Now translate:\n"
     ]
    }
   ],
   "source": [
    "task = \"translate to French\"\n",
    "example_pairs = [(\"hello\", \"bonjour\"), (\"goodbye\", \"au revoir\"), (\"thank you\", \"merci\")]\n",
    "\n",
    "examples = [\n",
    "    prompt(t\"English: {example_pairs[i][0]:eng} -> French: {example_pairs[i][1]:fr}\")\n",
    "    for i in range(len(example_pairs))\n",
    "]\n",
    "\n",
    "p = dedent(t\"\"\"\n",
    "    Task: {task:t}\n",
    "\n",
    "    Examples:\n",
    "    {examples:ex}\n",
    "\n",
    "    Now translate:\n",
    "    \"\"\")\n",
    "\n",
    "print(str(p))"
   ]
  },
  {
   "cell_type": "markdown",
   "metadata": {},
   "source": [
    "## Dedenting with Nested Prompts\n",
    "\n",
    "Each prompt is dedented independently at construction time."
   ]
  },
  {
   "cell_type": "code",
   "execution_count": 9,
   "metadata": {
    "execution": {
     "iopub.execute_input": "2025-10-17T03:12:33.480508Z",
     "iopub.status.busy": "2025-10-17T03:12:33.480425Z",
     "iopub.status.idle": "2025-10-17T03:12:33.482536Z",
     "shell.execute_reply": "2025-10-17T03:12:33.482319Z"
    }
   },
   "outputs": [
    {
     "name": "stdout",
     "output_type": "stream",
     "text": [
      "System: You are a helpful assistant.\n",
      "Always be polite and concise.\n",
      "\n",
      "User: What is Python?\n"
     ]
    }
   ],
   "source": [
    "# Each prompt dedents separately\n",
    "system = dedent(t\"\"\"\n",
    "    You are a helpful assistant.\n",
    "    Always be polite and concise.\n",
    "    \"\"\")\n",
    "\n",
    "user_query = \"What is Python?\"\n",
    "\n",
    "conversation = dedent(t\"\"\"\n",
    "    System: {system:sys}\n",
    "\n",
    "    User: {user_query:user}\n",
    "    \"\"\")\n",
    "\n",
    "print(str(conversation))"
   ]
  },
  {
   "cell_type": "markdown",
   "metadata": {},
   "source": [
    "## Preserving Original Strings\n",
    "\n",
    "The original template strings are preserved for provenance, even after dedenting."
   ]
  },
  {
   "cell_type": "code",
   "execution_count": 10,
   "metadata": {
    "execution": {
     "iopub.execute_input": "2025-10-17T03:12:33.483628Z",
     "iopub.status.busy": "2025-10-17T03:12:33.483545Z",
     "iopub.status.idle": "2025-10-17T03:12:33.485700Z",
     "shell.execute_reply": "2025-10-17T03:12:33.485483Z"
    }
   },
   "outputs": [
    {
     "name": "stdout",
     "output_type": "stream",
     "text": [
      "Original template strings (with indentation):\n",
      "('\\n    Hello ', '\\n    ')\n",
      "\n",
      "Rendered text (dedented):\n",
      "'Hello world'\n"
     ]
    }
   ],
   "source": [
    "text = \"world\"\n",
    "p = dedent(t\"\"\"\n",
    "    Hello {text:t}\n",
    "    \"\"\")\n",
    "\n",
    "# Original strings preserved in template\n",
    "print(\"Original template strings (with indentation):\")\n",
    "print(repr(p.template.strings))\n",
    "\n",
    "# But rendered text uses dedented version\n",
    "print(\"\\nRendered text (dedented):\")\n",
    "print(repr(str(p)))"
   ]
  },
  {
   "cell_type": "markdown",
   "metadata": {},
   "source": [
    "## Understanding the Processing Steps\n",
    "\n",
    "Let's walk through each step of the dedenting process."
   ]
  },
  {
   "cell_type": "code",
   "execution_count": 11,
   "metadata": {
    "execution": {
     "iopub.execute_input": "2025-10-17T03:12:33.486809Z",
     "iopub.status.busy": "2025-10-17T03:12:33.486728Z",
     "iopub.status.idle": "2025-10-17T03:12:33.488541Z",
     "shell.execute_reply": "2025-10-17T03:12:33.488317Z"
    }
   },
   "outputs": [
    {
     "name": "stdout",
     "output_type": "stream",
     "text": [
      "Step 1 - Original source code:\n",
      "'\\n    Line 1\\n    Line 2\\n    '\n",
      "\n",
      "Step 2 - After trim_leading (remove first \\n):\n",
      "'    Line 1\\n    Line 2\\n    '\n",
      "\n",
      "Step 3 - After dedent (remove 4 spaces):\n",
      "'Line 1\\nLine 2\\n'\n",
      "\n",
      "Step 4 - After trim_trailing (remove trailing \\n):\n",
      "'Line 1\\nLine 2'\n"
     ]
    }
   ],
   "source": [
    "# Illustrate each step\n",
    "print(\"Step 1 - Original source code:\")\n",
    "print(repr(\"\"\"\n",
    "    Line 1\n",
    "    Line 2\n",
    "    \"\"\"))\n",
    "\n",
    "print(\"\\nStep 2 - After trim_leading (remove first \\\\n):\")\n",
    "print(repr(\"    Line 1\\n    Line 2\\n    \"))\n",
    "\n",
    "print(\"\\nStep 3 - After dedent (remove 4 spaces):\")\n",
    "print(repr(\"Line 1\\nLine 2\\n\"))\n",
    "\n",
    "print(\"\\nStep 4 - After trim_trailing (remove trailing \\\\n):\")\n",
    "print(repr(\"Line 1\\nLine 2\"))"
   ]
  },
  {
   "cell_type": "markdown",
   "metadata": {},
   "source": [
    "## Complex Example: Structured Prompt with Sections\n",
    "\n",
    "Build a comprehensive prompt with multiple dedented sections."
   ]
  },
  {
   "cell_type": "code",
   "execution_count": 12,
   "metadata": {
    "execution": {
     "iopub.execute_input": "2025-10-17T03:12:33.489606Z",
     "iopub.status.busy": "2025-10-17T03:12:33.489541Z",
     "iopub.status.idle": "2025-10-17T03:12:33.492495Z",
     "shell.execute_reply": "2025-10-17T03:12:33.492262Z"
    }
   },
   "outputs": [
    {
     "name": "stdout",
     "output_type": "stream",
     "text": [
      "You are an expert code reviewer.\n",
      "\n",
      "Language: Python\n",
      "\n",
      "Code to review:\n",
      "```\n",
      "def foo():\n",
      "    return [x*2 for x in range(100)]\n",
      "```\n",
      "\n",
      "Specific concerns:\n",
      "Memory usage\n",
      "Function naming\n",
      "\n",
      "Please provide a detailed code review addressing:\n",
      "1. Code quality and best practices\n",
      "2. Potential bugs or issues\n",
      "3. Performance considerations\n",
      "4. The specific concerns listed above\n"
     ]
    }
   ],
   "source": [
    "def build_code_review_prompt(code, language, concerns):\n",
    "    \"\"\"Build a code review prompt with structured sections.\"\"\"\n",
    "\n",
    "    concerns_list = [\n",
    "        prompt(t\"{concerns[i]:concern}\")\n",
    "        for i in range(len(concerns))\n",
    "    ]\n",
    "\n",
    "    return dedent(t\"\"\"\n",
    "        You are an expert code reviewer.\n",
    "\n",
    "        Language: {language:lang}\n",
    "\n",
    "        Code to review:\n",
    "        ```\n",
    "        {code:code}\n",
    "        ```\n",
    "\n",
    "        Specific concerns:\n",
    "        {concerns_list:concerns}\n",
    "\n",
    "        Please provide a detailed code review addressing:\n",
    "        1. Code quality and best practices\n",
    "        2. Potential bugs or issues\n",
    "        3. Performance considerations\n",
    "        4. The specific concerns listed above\n",
    "        \"\"\")\n",
    "\n",
    "# Example usage\n",
    "code_sample = \"def foo():\\n    return [x*2 for x in range(100)]\"\n",
    "lang = \"Python\"\n",
    "concerns = [\"Memory usage\", \"Function naming\"]\n",
    "\n",
    "review_prompt = build_code_review_prompt(code_sample, lang, concerns)\n",
    "print(str(review_prompt))"
   ]
  },
  {
   "cell_type": "markdown",
   "metadata": {},
   "source": [
    "## Best Practices\n",
    "\n",
    "1. **Use dedenting for multi-line prompts** in functions/classes to keep code readable\n",
    "2. **Default trims are usually what you want** - they clean up leading/trailing lines\n",
    "3. **Dedent is opt-in** - only use when you need to remove indentation\n",
    "4. **Each prompt dedents independently** - nested prompts don't inherit dedenting\n",
    "5. **Original strings preserved** - dedenting doesn't lose provenance information"
   ]
  },
  {
   "cell_type": "markdown",
   "metadata": {},
   "source": [
    "## Summary\n",
    "\n",
    "Dedenting enables readable source code without sacrificing clean output:\n",
    "\n",
    "✅ **Clean source** - Write properly indented code  \n",
    "✅ **Clean output** - Render without unwanted indentation  \n",
    "✅ **Configurable** - Control trimming behavior  \n",
    "✅ **Independent** - Each prompt dedents separately  \n",
    "✅ **Provenance** - Original strings preserved  \n",
    "\n",
    "**Usage:**\n",
    "```python\n",
    "# Using dedent() function\n",
    "p = dedent(t\"\"\"\n",
    "    Your prompt here\n",
    "    \"\"\")\n",
    "\n",
    "# Using prompt() with dedent=True\n",
    "p = prompt(t\"\"\"\n",
    "    Your prompt here\n",
    "    \"\"\", dedent=True)\n",
    "```\n",
    "\n",
    "Both produce the same result!"
   ]
  }
 ],
 "metadata": {
  "kernelspec": {
   "display_name": "Python 3",
   "language": "python",
   "name": "python3"
  },
  "language_info": {
   "codemirror_mode": {
    "name": "ipython",
    "version": 3
   },
   "file_extension": ".py",
   "mimetype": "text/x-python",
   "name": "python",
   "nbconvert_exporter": "python",
   "pygments_lexer": "ipython3",
   "version": "3.14.0"
  }
 },
 "nbformat": 4,
 "nbformat_minor": 2
}
