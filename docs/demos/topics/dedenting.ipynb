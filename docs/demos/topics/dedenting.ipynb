{
 "cells": [
  {
   "cell_type": "markdown",
   "id": "intro",
   "metadata": {},
   "source": [
    "# Dedenting for Readable Source Code\n",
    "\n",
    "Learn how to write indented multi-line prompts that render without indentation."
   ]
  },
  {
   "cell_type": "code",
   "execution_count": null,
   "id": "imports",
   "metadata": {
    "execution": {
     "iopub.execute_input": "2025-10-14T10:08:13.385303Z",
     "iopub.status.busy": "2025-10-14T10:08:13.385190Z",
     "iopub.status.idle": "2025-10-14T10:08:13.393295Z",
     "shell.execute_reply": "2025-10-14T10:08:13.392950Z"
    }
   },
   "outputs": [],
   "source": "from t_prompts import prompt, dedent"
  },
  {
   "cell_type": "markdown",
   "id": "problem",
   "metadata": {},
   "source": [
    "## The Problem: Indentation in Source vs. Output\n",
    "\n",
    "When writing multi-line prompts, you want your source code to be readable with proper indentation. But you don't want that indentation in the final prompt."
   ]
  },
  {
   "cell_type": "code",
   "execution_count": 2,
   "id": "problem-demo",
   "metadata": {
    "execution": {
     "iopub.execute_input": "2025-10-14T10:08:13.395010Z",
     "iopub.status.busy": "2025-10-14T10:08:13.394891Z",
     "iopub.status.idle": "2025-10-14T10:08:13.396987Z",
     "shell.execute_reply": "2025-10-14T10:08:13.396740Z"
    }
   },
   "outputs": [
    {
     "name": "stdout",
     "output_type": "stream",
     "text": [
      "You are a helpful assistant.\n",
      "Task: translate to French\n",
      "Please respond.\n"
     ]
    }
   ],
   "source": [
    "def create_prompt_awkward(task):\n",
    "    # Without dedent: awkward to write\n",
    "    p = prompt(t\"\"\"You are a helpful assistant.\n",
    "Task: {task:t}\n",
    "Please respond.\"\"\")\n",
    "    return p\n",
    "\n",
    "task = \"translate to French\"\n",
    "p = create_prompt_awkward(task)\n",
    "print(str(p))"
   ]
  },
  {
   "cell_type": "markdown",
   "id": "solution",
   "metadata": {},
   "source": "## The Solution: Dedenting\n\nUse `dedent()` (or `prompt(..., dedent=True)`) to write indented source code that renders without indentation."
  },
  {
   "cell_type": "code",
   "execution_count": null,
   "id": "solution-demo",
   "metadata": {
    "execution": {
     "iopub.execute_input": "2025-10-14T10:08:13.398441Z",
     "iopub.status.busy": "2025-10-14T10:08:13.398345Z",
     "iopub.status.idle": "2025-10-14T10:08:13.400945Z",
     "shell.execute_reply": "2025-10-14T10:08:13.400524Z"
    }
   },
   "outputs": [],
   "source": "def create_prompt_clean(task):\n    # With dedent: clean and readable\n    p = dedent(t\"\"\"\n        You are a helpful assistant.\n        Task: {task:t}\n        Please respond.\n        \"\"\")\n    return p\n\ntask = \"translate to French\"\np = create_prompt_clean(task)\nprint(str(p))"
  },
  {
   "cell_type": "markdown",
   "id": "options",
   "metadata": {},
   "source": [
    "## Dedenting Options\n",
    "\n",
    "Four keyword-only parameters control dedenting behavior:\n",
    "\n",
    "- `dedent=False` (default): No dedenting\n",
    "- `trim_leading=True` (default): Remove first line if whitespace-only\n",
    "- `trim_empty_leading=True` (default): Remove empty lines after first\n",
    "- `trim_trailing=True` (default): Remove trailing whitespace lines"
   ]
  },
  {
   "cell_type": "code",
   "execution_count": null,
   "id": "options-demo",
   "metadata": {
    "execution": {
     "iopub.execute_input": "2025-10-14T10:08:13.402637Z",
     "iopub.status.busy": "2025-10-14T10:08:13.402513Z",
     "iopub.status.idle": "2025-10-14T10:08:13.404663Z",
     "shell.execute_reply": "2025-10-14T10:08:13.404413Z"
    }
   },
   "outputs": [],
   "source": "# Default: trims only (no dedenting)\np1 = prompt(t\"\"\"\n    Hello\n    \"\"\")\nprint(\"With trims only:\")\nprint(repr(str(p1)))  # Still has indentation\n\n# With dedenting\np2 = dedent(t\"\"\"\n    Hello\n    \"\"\")\nprint(\"\\nWith dedenting:\")\nprint(repr(str(p2)))  # No indentation"
  },
  {
   "cell_type": "markdown",
   "id": "36hddberzf",
   "source": "## Using the Verbose Form\n\nIf you need to customize dedenting behavior, use `prompt(..., dedent=True)` with optional parameters.",
   "metadata": {}
  },
  {
   "cell_type": "code",
   "id": "4cbad7cn4ab",
   "source": "# Equivalent to dedent() but with explicit control\ntask = \"test\"\np = prompt(t\"\"\"\n    Task: {task:t}\n    \"\"\", dedent=True)\nprint(\"Using prompt(..., dedent=True):\")\nprint(repr(str(p)))\n\n# You can also disable specific trims if needed\np2 = prompt(t\"\"\"\n    Task: {task:t}\n    \"\"\", dedent=True, trim_trailing=False)\nprint(\"\\nWith trim_trailing=False:\")\nprint(repr(str(p2)))",
   "metadata": {},
   "execution_count": null,
   "outputs": []
  },
  {
   "cell_type": "markdown",
   "id": "realistic",
   "metadata": {},
   "source": [
    "## Realistic Example: LLM Prompt with Context\n",
    "\n",
    "Build a well-formatted prompt with multiple sections."
   ]
  },
  {
   "cell_type": "code",
   "execution_count": null,
   "id": "realistic-demo",
   "metadata": {
    "execution": {
     "iopub.execute_input": "2025-10-14T10:08:13.405949Z",
     "iopub.status.busy": "2025-10-14T10:08:13.405854Z",
     "iopub.status.idle": "2025-10-14T10:08:13.407685Z",
     "shell.execute_reply": "2025-10-14T10:08:13.407444Z"
    }
   },
   "outputs": [],
   "source": "context = \"User is a Python developer learning AI\"\nquestion = \"How do I use transformers?\"\n\np = dedent(t\"\"\"\n    You are a helpful programming assistant.\n    \n    Context: {context:ctx}\n    \n    Question: {question:q}\n    \n    Please provide a clear answer with code examples.\n    \"\"\")\n\nprint(str(p))"
  },
  {
   "cell_type": "markdown",
   "id": "with-lists",
   "metadata": {},
   "source": [
    "## Dedenting with List Interpolations\n",
    "\n",
    "Combine dedenting with list interpolations for clean, readable code."
   ]
  },
  {
   "cell_type": "code",
   "execution_count": null,
   "id": "lists-demo",
   "metadata": {
    "execution": {
     "iopub.execute_input": "2025-10-14T10:08:13.408972Z",
     "iopub.status.busy": "2025-10-14T10:08:13.408881Z",
     "iopub.status.idle": "2025-10-14T10:08:13.410972Z",
     "shell.execute_reply": "2025-10-14T10:08:13.410731Z"
    }
   },
   "outputs": [],
   "source": "task = \"translate to French\"\nexamples = [\n    prompt(t\"English: {eng:eng} -> French: {fr:fr}\")\n    for eng, fr in [(\"hello\", \"bonjour\"), (\"goodbye\", \"au revoir\"), (\"thank you\", \"merci\")]\n]\n\np = dedent(t\"\"\"\n    Task: {task:t}\n    \n    Examples:\n    {examples:ex}\n    \n    Now translate:\n    \"\"\")\n\nprint(str(p))"
  },
  {
   "cell_type": "markdown",
   "id": "nested",
   "metadata": {},
   "source": [
    "## Dedenting with Nested Prompts\n",
    "\n",
    "Each prompt is dedented independently at construction time."
   ]
  },
  {
   "cell_type": "code",
   "execution_count": null,
   "id": "nested-demo",
   "metadata": {
    "execution": {
     "iopub.execute_input": "2025-10-14T10:08:13.412187Z",
     "iopub.status.busy": "2025-10-14T10:08:13.412093Z",
     "iopub.status.idle": "2025-10-14T10:08:13.414161Z",
     "shell.execute_reply": "2025-10-14T10:08:13.413936Z"
    }
   },
   "outputs": [],
   "source": "system = dedent(t\"\"\"\n    You are a helpful assistant.\n    Always be polite and concise.\n    \"\"\")\n\nuser_query = \"What is Python?\"\n\nconversation = dedent(t\"\"\"\n    System: {system:sys}\n    \n    User: {user_query:user}\n    \"\"\")\n\nprint(str(conversation))"
  },
  {
   "cell_type": "markdown",
   "id": "preserving",
   "metadata": {},
   "source": [
    "## Preserving Original Strings\n",
    "\n",
    "The original template strings are preserved for provenance, even after dedenting."
   ]
  },
  {
   "cell_type": "code",
   "execution_count": null,
   "id": "preserving-demo",
   "metadata": {
    "execution": {
     "iopub.execute_input": "2025-10-14T10:08:13.415354Z",
     "iopub.status.busy": "2025-10-14T10:08:13.415273Z",
     "iopub.status.idle": "2025-10-14T10:08:13.417256Z",
     "shell.execute_reply": "2025-10-14T10:08:13.417035Z"
    }
   },
   "outputs": [],
   "source": "text = \"world\"\np = dedent(t\"\"\"\n    Hello {text:t}\n    \"\"\")\n\n# Original strings preserved in template\nprint(\"Original strings:\")\nprint(repr(p.template.strings))\n\n# But rendered text uses dedented version\nprint(\"\\nRendered text:\")\nprint(repr(str(p)))"
  },
  {
   "cell_type": "markdown",
   "id": "how-it-works",
   "metadata": {},
   "source": [
    "## How Dedenting Works\n",
    "\n",
    "1. **Trim leading**: Remove first line if it's just whitespace + newline\n",
    "2. **Trim empty leading**: Remove empty lines after first line  \n",
    "3. **Dedent**: Find first non-empty line's indent, remove that from all lines\n",
    "4. **Trim trailing**: Remove trailing whitespace lines\n",
    "\n",
    "Processing happens at construction time, modifying static segments before creating elements."
   ]
  },
  {
   "cell_type": "code",
   "execution_count": 9,
   "id": "steps-demo",
   "metadata": {
    "execution": {
     "iopub.execute_input": "2025-10-14T10:08:13.418470Z",
     "iopub.status.busy": "2025-10-14T10:08:13.418378Z",
     "iopub.status.idle": "2025-10-14T10:08:13.420214Z",
     "shell.execute_reply": "2025-10-14T10:08:13.420017Z"
    }
   },
   "outputs": [
    {
     "name": "stdout",
     "output_type": "stream",
     "text": [
      "Original (in source):\n",
      "'\\n    Line 1: {text}\\n    Line 2\\n    '\n",
      "\n",
      "After trim_leading (remove first \\n):\n",
      "'    Line 1: {text}\\n    Line 2\\n    '\n",
      "\n",
      "After dedent (remove 4 spaces from each line):\n",
      "'Line 1: {text}\\nLine 2\\n    '\n",
      "\n",
      "After trim_trailing (remove final whitespace):\n",
      "'Line 1: {text}\\nLine 2'\n"
     ]
    }
   ],
   "source": [
    "# See each step\n",
    "text = \"content\"\n",
    "\n",
    "# Step by step\n",
    "print(\"Original (in source):\")\n",
    "print(repr(\"\"\"\n",
    "    Line 1: {text}\n",
    "    Line 2\n",
    "    \"\"\"))\n",
    "\n",
    "print(\"\\nAfter trim_leading (remove first \\\\n):\")\n",
    "print(repr(\"\"\"    Line 1: {text}\n",
    "    Line 2\n",
    "    \"\"\"))\n",
    "\n",
    "print(\"\\nAfter dedent (remove 4 spaces from each line):\")\n",
    "print(repr(\"\"\"Line 1: {text}\n",
    "Line 2\n",
    "    \"\"\"))\n",
    "\n",
    "print(\"\\nAfter trim_trailing (remove final whitespace):\")\n",
    "print(repr(\"\"\"Line 1: {text}\n",
    "Line 2\"\"\"))"
   ]
  },
  {
   "cell_type": "markdown",
   "id": "best-practices",
   "metadata": {},
   "source": [
    "## Best Practices\n",
    "\n",
    "1. **Use dedenting for multi-line prompts** in functions/classes to keep code readable\n",
    "2. **Default trims are usually what you want** - they clean up leading/trailing lines\n",
    "3. **Dedent is opt-in** - only use when you need to remove indentation\n",
    "4. **Each prompt dedents independently** - nested prompts don't inherit dedenting"
   ]
  }
 ],
 "metadata": {
  "kernelspec": {
   "display_name": "Python 3",
   "language": "python",
   "name": "python3"
  },
  "language_info": {
   "codemirror_mode": {
    "name": "ipython",
    "version": 3
   },
   "file_extension": ".py",
   "mimetype": "text/x-python",
   "name": "python",
   "nbconvert_exporter": "python",
   "pygments_lexer": "ipython3",
   "version": "3.14.0"
  }
 },
 "nbformat": 4,
 "nbformat_minor": 5
}