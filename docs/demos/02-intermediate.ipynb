{
 "cells": [
  {
   "cell_type": "markdown",
   "metadata": {},
   "source": [
    "# Intermediate Tutorial: Composition and Navigation\n",
    "\n",
    "This tutorial covers composing prompts from smaller pieces, navigating nested structures, and exporting data."
   ]
  },
  {
   "cell_type": "code",
   "execution_count": 1,
   "metadata": {
    "execution": {
     "iopub.execute_input": "2025-10-17T03:12:13.258513Z",
     "iopub.status.busy": "2025-10-17T03:12:13.257930Z",
     "iopub.status.idle": "2025-10-17T03:12:13.310885Z",
     "shell.execute_reply": "2025-10-17T03:12:13.310382Z"
    }
   },
   "outputs": [],
   "source": [
    "from t_prompts import prompt"
   ]
  },
  {
   "cell_type": "markdown",
   "metadata": {},
   "source": [
    "## Nested Prompts\n",
    "\n",
    "You can build larger prompts by composing smaller `StructuredPrompt` objects together."
   ]
  },
  {
   "cell_type": "code",
   "execution_count": 2,
   "metadata": {
    "execution": {
     "iopub.execute_input": "2025-10-17T03:12:13.313517Z",
     "iopub.status.busy": "2025-10-17T03:12:13.313335Z",
     "iopub.status.idle": "2025-10-17T03:12:13.317865Z",
     "shell.execute_reply": "2025-10-17T03:12:13.317547Z"
    }
   },
   "outputs": [
    {
     "name": "stdout",
     "output_type": "stream",
     "text": [
      "You are a helpful assistant. User: What is Python?\n"
     ]
    }
   ],
   "source": [
    "# Build prompts from smaller pieces\n",
    "system_msg = \"You are a helpful assistant.\"\n",
    "user_query = \"What is Python?\"\n",
    "\n",
    "p_system = prompt(t\"{system_msg:system}\")\n",
    "p_user = prompt(t\"User: {user_query:query}\")\n",
    "\n",
    "# Compose into larger prompt\n",
    "p_full = prompt(t\"{p_system:sys} {p_user:usr}\")\n",
    "\n",
    "# Renders correctly\n",
    "print(str(p_full))"
   ]
  },
  {
   "cell_type": "markdown",
   "metadata": {},
   "source": [
    "## Navigating Nested Structures\n",
    "\n",
    "Access nested interpolations using chained subscript operations."
   ]
  },
  {
   "cell_type": "code",
   "execution_count": 3,
   "metadata": {
    "execution": {
     "iopub.execute_input": "2025-10-17T03:12:13.340334Z",
     "iopub.status.busy": "2025-10-17T03:12:13.340192Z",
     "iopub.status.idle": "2025-10-17T03:12:13.342518Z",
     "shell.execute_reply": "2025-10-17T03:12:13.342263Z"
    }
   },
   "outputs": [
    {
     "name": "stdout",
     "output_type": "stream",
     "text": [
      "System message: You are a helpful assistant.\n",
      "User query: What is Python?\n",
      "\n",
      "Nested node type: StructuredPrompt\n",
      "Has 'system' key: True\n",
      "Rendered: You are a helpful assistant.\n"
     ]
    }
   ],
   "source": [
    "# Navigate the tree\n",
    "print(f\"System message: {p_full['sys']['system'].value}\")\n",
    "print(f\"User query: {p_full['usr']['query'].value}\")\n",
    "\n",
    "# When accessing a nested prompt node, it returns a StructuredPrompt\n",
    "nested_node = p_full['sys']\n",
    "print(f\"\\nNested node type: {type(nested_node).__name__}\")\n",
    "print(f\"Has 'system' key: {'system' in nested_node}\")\n",
    "print(f\"Rendered: {str(nested_node)}\")"
   ]
  },
  {
   "cell_type": "markdown",
   "metadata": {},
   "source": [
    "## Conversions: !s, !r, !a\n",
    "\n",
    "t-strings support conversion flags from Python's string formatting."
   ]
  },
  {
   "cell_type": "code",
   "execution_count": 4,
   "metadata": {
    "execution": {
     "iopub.execute_input": "2025-10-17T03:12:13.343823Z",
     "iopub.status.busy": "2025-10-17T03:12:13.343719Z",
     "iopub.status.idle": "2025-10-17T03:12:13.346802Z",
     "shell.execute_reply": "2025-10-17T03:12:13.346560Z"
    }
   },
   "outputs": [
    {
     "name": "stdout",
     "output_type": "stream",
     "text": [
      "!s: Hello\n",
      "World\n",
      "!r: 'Hello\\nWorld'\n",
      "!a: 'Hello \\U0001f44b'\n",
      "\n",
      "Conversion for 'r': r\n"
     ]
    }
   ],
   "source": [
    "text = \"Hello\\nWorld\"\n",
    "\n",
    "# !s: str() conversion (default)\n",
    "p_s = prompt(t\"{text!s:s}\")\n",
    "print(f\"!s: {str(p_s)}\")\n",
    "\n",
    "# !r: repr() conversion\n",
    "p_r = prompt(t\"{text!r:r}\")\n",
    "print(f\"!r: {str(p_r)}\")\n",
    "\n",
    "# !a: ascii() conversion\n",
    "emoji = \"Hello 👋\"\n",
    "p_a = prompt(t\"{emoji!a:a}\")\n",
    "print(f\"!a: {str(p_a)}\")\n",
    "\n",
    "# Conversion is preserved in metadata\n",
    "print(f\"\\nConversion for 'r': {p_r['r'].conversion}\")"
   ]
  },
  {
   "cell_type": "markdown",
   "metadata": {},
   "source": [
    "## Mapping Protocol\n",
    "\n",
    "`StructuredPrompt` implements the mapping protocol: `keys()`, `values()`, `items()`, `get()`, etc."
   ]
  },
  {
   "cell_type": "code",
   "execution_count": 5,
   "metadata": {
    "execution": {
     "iopub.execute_input": "2025-10-17T03:12:13.348002Z",
     "iopub.status.busy": "2025-10-17T03:12:13.347928Z",
     "iopub.status.idle": "2025-10-17T03:12:13.350552Z",
     "shell.execute_reply": "2025-10-17T03:12:13.350317Z"
    }
   },
   "outputs": [
    {
     "name": "stdout",
     "output_type": "stream",
     "text": [
      "Keys: ['n', 'a', 'c']\n",
      "\n",
      "Values:\n",
      "  n: Alice\n",
      "  a: 30\n",
      "  c: NYC\n",
      "\n",
      "Items:\n",
      "  n -> name = Alice\n",
      "  a -> age = 30\n",
      "  c -> city = NYC\n",
      "\n",
      "get('n'): Alice\n",
      "get('missing'): None\n"
     ]
    }
   ],
   "source": [
    "name = \"Alice\"\n",
    "age = \"30\"\n",
    "city = \"NYC\"\n",
    "\n",
    "p = prompt(t\"Name: {name:n}, Age: {age:a}, City: {city:c}\")\n",
    "\n",
    "# Keys\n",
    "print(f\"Keys: {list(p.keys())}\")\n",
    "\n",
    "# Values (returns interpolation nodes)\n",
    "print(\"\\nValues:\")\n",
    "for node in p.values():\n",
    "    print(f\"  {node.key}: {node.value}\")\n",
    "\n",
    "# Items\n",
    "print(\"\\nItems:\")\n",
    "for key, node in p.items():\n",
    "    print(f\"  {key} -> {node.expression} = {node.value}\")\n",
    "\n",
    "# get() with default\n",
    "print(f\"\\nget('n'): {p.get('n').value}\")\n",
    "print(f\"get('missing'): {p.get('missing')}\")"
   ]
  },
  {
   "cell_type": "markdown",
   "metadata": {},
   "source": [
    "## Exporting to JSON\n",
    "\n",
    "Use `toJSON()` to export the prompt structure as JSON."
   ]
  },
  {
   "cell_type": "code",
   "execution_count": 6,
   "metadata": {
    "execution": {
     "iopub.execute_input": "2025-10-17T03:12:13.351724Z",
     "iopub.status.busy": "2025-10-17T03:12:13.351656Z",
     "iopub.status.idle": "2025-10-17T03:12:13.353566Z",
     "shell.execute_reply": "2025-10-17T03:12:13.353347Z"
    }
   },
   "outputs": [
    {
     "name": "stdout",
     "output_type": "stream",
     "text": [
      "{\n",
      "  \"prompt_id\": \"c048387c-480d-4bc8-bb98-1bed69ca452a\",\n",
      "  \"children\": [\n",
      "    {\n",
      "      \"type\": \"static\",\n",
      "      \"id\": \"67eb6a9b-3b10-4222-a756-1a695991af5f\",\n",
      "      \"parent_id\": \"c048387c-480d-4bc8-bb98-1bed69ca452a\",\n",
      "      \"key\": 0,\n",
      "      \"index\": 0,\n",
      "      \"source_location\": {\n",
      "        \"filename\": \"882574176.py\",\n",
      "        \"filepath\": \"/private/var/folders/wr/5n6v6bvj6mxdxjcg5_5ss1ph0000gn/T/ipykernel_16491/882574176.py\",\n",
      "        \"line\": 6\n",
      "      },\n",
      "      \"value\": \"Context: \"\n",
      "    },\n",
      "    {\n",
      "      \"type\": \"interpolation\",\n",
      "      \"id\": \"e385617e-8d6d-429d-a32c-42b4f2f996dc\",\n",
      "      \"parent_id\": \"c048387c-480d-4bc8-bb98-1bed69ca452a\",\n",
      "      \"key\": \"ctx\",\n",
      "      \"index\": 1,\n",
      "      \"source_location\": {\n",
      "        \"filename\": \"882574176.py\",\n",
      "        \"filepath\": \"/private/var/folders/wr/5n6v6bvj6mxdxjcg5_5ss1ph0000gn/T/ipykernel_16491/882574176.py\",\n",
      "        \"line\": 6\n",
      "      },\n",
      "      \"expression\": \"context\",\n",
      "      \"conversion\": null,\n",
      "      \"format_spec\": \"ctx\",\n",
      "      \"render_hints\": \"\",\n",
      "      \"value\": \"User is Alice\"\n",
      "    },\n",
      "    {\n",
      "      \"type\": \"static\",\n",
      "      \"id\": \"42807e85-0c24-4d7a-871d-627d7e9e388e\",\n",
      "      \"parent_id\": \"c048387c-480d-4bc8-bb98-1bed69ca452a\",\n",
      "      \"key\": 1,\n",
      "      \"index\": 2,\n",
      "      \"source_location\": {\n",
      "        \"filename\": \"882574176.py\",\n",
      "        \"filepath\": \"/private/var/folders/wr/5n6v6bvj6mxdxjcg5_5ss1ph0000gn/T/ipykernel_16491/882574176.py\",\n",
      "        \"line\": 6\n",
      "      },\n",
      "      \"value\": \". \"\n",
      "    },\n",
      "    {\n",
      "      \"type\": \"interpolation\",\n",
      "      \"id\": \"51f4803f-8526-4321-93b2-6fda577980d5\",\n",
      "      \"parent_id\": \"c048387c-480d-4bc8-bb98-1bed69ca452a\",\n",
      "      \"key\": \"inst\",\n",
      "      \"index\": 3,\n",
      "      \"source_location\": {\n",
      "        \"filename\": \"882574176.py\",\n",
      "        \"filepath\": \"/private/var/folders/wr/5n6v6bvj6mxdxjcg5_5ss1ph0000gn/T/ipykernel_16491/882574176.py\",\n",
      "        \"line\": 6\n",
      "      },\n",
      "      \"expression\": \"instructions\",\n",
      "      \"conversion\": null,\n",
      "      \"format_spec\": \"inst\",\n",
      "      \"render_hints\": \"\",\n",
      "      \"value\": \"Be concise\"\n",
      "    },\n",
      "    {\n",
      "      \"type\": \"static\",\n",
      "      \"id\": \"e2f934ae-b3fb-48c7-817d-28f45b0397cc\",\n",
      "      \"parent_id\": \"c048387c-480d-4bc8-bb98-1bed69ca452a\",\n",
      "      \"key\": 2,\n",
      "      \"index\": 4,\n",
      "      \"source_location\": {\n",
      "        \"filename\": \"882574176.py\",\n",
      "        \"filepath\": \"/private/var/folders/wr/5n6v6bvj6mxdxjcg5_5ss1ph0000gn/T/ipykernel_16491/882574176.py\",\n",
      "        \"line\": 6\n",
      "      },\n",
      "      \"value\": \"\"\n",
      "    }\n",
      "  ]\n",
      "}\n"
     ]
    }
   ],
   "source": [
    "import json\n",
    "\n",
    "context = \"User is Alice\"\n",
    "instructions = \"Be concise\"\n",
    "\n",
    "p = prompt(t\"Context: {context:ctx}. {instructions:inst}\")\n",
    "\n",
    "# Export to JSON\n",
    "json_data = p.toJSON()\n",
    "print(json.dumps(json_data, indent=2))"
   ]
  },
  {
   "cell_type": "markdown",
   "metadata": {},
   "source": [
    "## Nested JSON Export\n",
    "\n",
    "JSON export works recursively for nested prompts."
   ]
  },
  {
   "cell_type": "code",
   "execution_count": 7,
   "metadata": {
    "execution": {
     "iopub.execute_input": "2025-10-17T03:12:13.354759Z",
     "iopub.status.busy": "2025-10-17T03:12:13.354684Z",
     "iopub.status.idle": "2025-10-17T03:12:13.356775Z",
     "shell.execute_reply": "2025-10-17T03:12:13.356550Z"
    }
   },
   "outputs": [
    {
     "name": "stdout",
     "output_type": "stream",
     "text": [
      "{\n",
      "  \"prompt_id\": \"67192841-f03b-4cbd-9b63-2a4691946732\",\n",
      "  \"children\": [\n",
      "    {\n",
      "      \"type\": \"static\",\n",
      "      \"id\": \"e1496a4c-c613-4132-a992-a7f299f6505d\",\n",
      "      \"parent_id\": \"67192841-f03b-4cbd-9b63-2a4691946732\",\n",
      "      \"key\": 0,\n",
      "      \"index\": 0,\n",
      "      \"source_location\": {\n",
      "        \"filename\": \"3458326394.py\",\n",
      "        \"filepath\": \"/private/var/folders/wr/5n6v6bvj6mxdxjcg5_5ss1ph0000gn/T/ipykernel_16491/3458326394.py\",\n",
      "        \"line\": 3\n",
      "      },\n",
      "      \"value\": \"Outer: \"\n",
      "    },\n",
      "    {\n",
      "      \"type\": \"nested_prompt\",\n",
      "      \"id\": \"912a9ca7-acfb-4a59-871f-a52c6fe894d6\",\n",
      "      \"parent_id\": \"67192841-f03b-4cbd-9b63-2a4691946732\",\n",
      "      \"key\": \"in\",\n",
      "      \"index\": 1,\n",
      "      \"source_location\": {\n",
      "        \"filename\": \"3458326394.py\",\n",
      "        \"filepath\": \"/private/var/folders/wr/5n6v6bvj6mxdxjcg5_5ss1ph0000gn/T/ipykernel_16491/3458326394.py\",\n",
      "        \"line\": 3\n",
      "      },\n",
      "      \"expression\": \"inner\",\n",
      "      \"conversion\": null,\n",
      "      \"format_spec\": \"in\",\n",
      "      \"render_hints\": \"\",\n",
      "      \"prompt_id\": \"912a9ca7-acfb-4a59-871f-a52c6fe894d6\",\n",
      "      \"creation_location\": {\n",
      "        \"filename\": \"3458326394.py\",\n",
      "        \"filepath\": \"/private/var/folders/wr/5n6v6bvj6mxdxjcg5_5ss1ph0000gn/T/ipykernel_16491/3458326394.py\",\n",
      "        \"line\": 2\n",
      "      },\n",
      "      \"children\": [\n",
      "        {\n",
      "          \"type\": \"static\",\n",
      "          \"id\": \"4f613d4e-da66-49da-9b2a-13f9abdd1eff\",\n",
      "          \"parent_id\": \"912a9ca7-acfb-4a59-871f-a52c6fe894d6\",\n",
      "          \"key\": 0,\n",
      "          \"index\": 0,\n",
      "          \"source_location\": {\n",
      "            \"filename\": \"3458326394.py\",\n",
      "            \"filepath\": \"/private/var/folders/wr/5n6v6bvj6mxdxjcg5_5ss1ph0000gn/T/ipykernel_16491/3458326394.py\",\n",
      "            \"line\": 2\n",
      "          },\n",
      "          \"value\": \"\"\n",
      "        },\n",
      "        {\n",
      "          \"type\": \"interpolation\",\n",
      "          \"id\": \"e7838f9d-ab55-4a08-8336-810a7e94c495\",\n",
      "          \"parent_id\": \"912a9ca7-acfb-4a59-871f-a52c6fe894d6\",\n",
      "          \"key\": \"ctx\",\n",
      "          \"index\": 1,\n",
      "          \"source_location\": {\n",
      "            \"filename\": \"3458326394.py\",\n",
      "            \"filepath\": \"/private/var/folders/wr/5n6v6bvj6mxdxjcg5_5ss1ph0000gn/T/ipykernel_16491/3458326394.py\",\n",
      "            \"line\": 2\n",
      "          },\n",
      "          \"expression\": \"context\",\n",
      "          \"conversion\": null,\n",
      "          \"format_spec\": \"ctx\",\n",
      "          \"render_hints\": \"\",\n",
      "          \"value\": \"User is Alice\"\n",
      "        },\n",
      "        {\n",
      "          \"type\": \"static\",\n",
      "          \"id\": \"658754d5-1076-40e1-a2fa-ac61afdc3038\",\n",
      "          \"parent_id\": \"912a9ca7-acfb-4a59-871f-a52c6fe894d6\",\n",
      "          \"key\": 1,\n",
      "          \"index\": 2,\n",
      "          \"source_location\": {\n",
      "            \"filename\": \"3458326394.py\",\n",
      "            \"filepath\": \"/private/var/folders/wr/5n6v6bvj6mxdxjcg5_5ss1ph0000gn/T/ipykernel_16491/3458326394.py\",\n",
      "            \"line\": 2\n",
      "          },\n",
      "          \"value\": \"\"\n",
      "        }\n",
      "      ]\n",
      "    },\n",
      "    {\n",
      "      \"type\": \"static\",\n",
      "      \"id\": \"b429b4d0-d513-43a5-afc9-bd36dae4efbe\",\n",
      "      \"parent_id\": \"67192841-f03b-4cbd-9b63-2a4691946732\",\n",
      "      \"key\": 1,\n",
      "      \"index\": 2,\n",
      "      \"source_location\": {\n",
      "        \"filename\": \"3458326394.py\",\n",
      "        \"filepath\": \"/private/var/folders/wr/5n6v6bvj6mxdxjcg5_5ss1ph0000gn/T/ipykernel_16491/3458326394.py\",\n",
      "        \"line\": 3\n",
      "      },\n",
      "      \"value\": \". \"\n",
      "    },\n",
      "    {\n",
      "      \"type\": \"interpolation\",\n",
      "      \"id\": \"b6900869-5f16-4219-9ff4-baf1ff5ca743\",\n",
      "      \"parent_id\": \"67192841-f03b-4cbd-9b63-2a4691946732\",\n",
      "      \"key\": \"inst\",\n",
      "      \"index\": 3,\n",
      "      \"source_location\": {\n",
      "        \"filename\": \"3458326394.py\",\n",
      "        \"filepath\": \"/private/var/folders/wr/5n6v6bvj6mxdxjcg5_5ss1ph0000gn/T/ipykernel_16491/3458326394.py\",\n",
      "        \"line\": 3\n",
      "      },\n",
      "      \"expression\": \"instructions\",\n",
      "      \"conversion\": null,\n",
      "      \"format_spec\": \"inst\",\n",
      "      \"render_hints\": \"\",\n",
      "      \"value\": \"Be concise\"\n",
      "    },\n",
      "    {\n",
      "      \"type\": \"static\",\n",
      "      \"id\": \"ecfd3a45-c996-4bd8-8f32-0b2b00d9aa7d\",\n",
      "      \"parent_id\": \"67192841-f03b-4cbd-9b63-2a4691946732\",\n",
      "      \"key\": 2,\n",
      "      \"index\": 4,\n",
      "      \"source_location\": {\n",
      "        \"filename\": \"3458326394.py\",\n",
      "        \"filepath\": \"/private/var/folders/wr/5n6v6bvj6mxdxjcg5_5ss1ph0000gn/T/ipykernel_16491/3458326394.py\",\n",
      "        \"line\": 3\n",
      "      },\n",
      "      \"value\": \"\"\n",
      "    }\n",
      "  ]\n",
      "}\n"
     ]
    }
   ],
   "source": [
    "# Create nested structure\n",
    "inner = prompt(t\"{context:ctx}\")\n",
    "outer = prompt(t\"Outer: {inner:in}. {instructions:inst}\")\n",
    "\n",
    "# Export nested structure\n",
    "nested_json = outer.toJSON()\n",
    "print(json.dumps(nested_json, indent=2))"
   ]
  },
  {
   "cell_type": "markdown",
   "metadata": {},
   "source": [
    "## Inspecting Prompt Structure\n",
    "\n",
    "You can recursively inspect nested prompt structures."
   ]
  },
  {
   "cell_type": "code",
   "execution_count": 8,
   "metadata": {
    "execution": {
     "iopub.execute_input": "2025-10-17T03:12:13.357857Z",
     "iopub.status.busy": "2025-10-17T03:12:13.357790Z",
     "iopub.status.idle": "2025-10-17T03:12:13.359799Z",
     "shell.execute_reply": "2025-10-17T03:12:13.359565Z"
    }
   },
   "outputs": [
    {
     "name": "stdout",
     "output_type": "stream",
     "text": [
      "in: (nested prompt)\n",
      "  ctx: context = \"User is Alice\"\n",
      "inst: instructions = \"Be concise\"\n"
     ]
    }
   ],
   "source": [
    "from t_prompts import StructuredPrompt\n",
    "\n",
    "\n",
    "def inspect_prompt(p, indent=0):\n",
    "    \"\"\"Recursively inspect a structured prompt.\"\"\"\n",
    "    prefix = \"  \" * indent\n",
    "    for key, node in p.items():\n",
    "        if isinstance(node, StructuredPrompt):\n",
    "            # Node is a nested prompt\n",
    "            print(f\"{prefix}{key}: (nested prompt)\")\n",
    "            inspect_prompt(node, indent + 1)\n",
    "        else:\n",
    "            # Node is an interpolation with a string value\n",
    "            print(f\"{prefix}{key}: {node.expression} = \\\"{node.value}\\\"\")\n",
    "\n",
    "inspect_prompt(outer)"
   ]
  },
  {
   "cell_type": "markdown",
   "metadata": {},
   "source": [
    "## Next Steps\n",
    "\n",
    "Continue learning:\n",
    "\n",
    "- **03-ir-visualization.ipynb**: See the widget visualization for IntermediateRepresentation\n",
    "- **topics/few-shot-prompts.ipynb**: Build few-shot prompts with dynamic keys and lists\n",
    "- **topics/source-mapping.ipynb**: Bidirectional text ↔ structure mapping\n",
    "- **topics/dedenting.ipynb**: Write readable multi-line prompts"
   ]
  }
 ],
 "metadata": {
  "kernelspec": {
   "display_name": "Python 3",
   "language": "python",
   "name": "python3"
  },
  "language_info": {
   "codemirror_mode": {
    "name": "ipython",
    "version": 3
   },
   "file_extension": ".py",
   "mimetype": "text/x-python",
   "name": "python",
   "nbconvert_exporter": "python",
   "pygments_lexer": "ipython3",
   "version": "3.14.0"
  }
 },
 "nbformat": 4,
 "nbformat_minor": 4
}
